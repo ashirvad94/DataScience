{
 "cells": [
  {
   "cell_type": "code",
   "execution_count": 1,
   "metadata": {
    "_cell_guid": "b1076dfc-b9ad-4769-8c92-a6c4dae69d19",
    "_uuid": "8f2839f25d086af736a60e9eeb907d3b93b6e0e5",
    "execution": {
     "iopub.execute_input": "2021-04-01T14:25:05.004138Z",
     "iopub.status.busy": "2021-04-01T14:25:05.003135Z",
     "iopub.status.idle": "2021-04-01T14:25:05.006688Z",
     "shell.execute_reply": "2021-04-01T14:25:05.005988Z"
    },
    "papermill": {
     "duration": 0.029267,
     "end_time": "2021-04-01T14:25:05.006895",
     "exception": false,
     "start_time": "2021-04-01T14:25:04.977628",
     "status": "completed"
    },
    "tags": []
   },
   "outputs": [],
   "source": [
    "# This Python 3 environment comes with many helpful analytics libraries installed\n",
    "# It is defined by the kaggle/python Docker image: https://github.com/kaggle/docker-python\n",
    "# For example, here's several helpful packages to load\n",
    "\n",
    "# import numpy as np # linear algebra\n",
    "# import pandas as pd # data processing, CSV file I/O (e.g. pd.read_csv)\n",
    "\n",
    "# # Input data files are available in the read-only \"../input/\" directory\n",
    "# # For example, running this (by clicking run or pressing Shift+Enter) will list all files under the input directory\n",
    "\n",
    "# import os\n",
    "# for dirname, _, filenames in os.walk('/kaggle/input'):\n",
    "#     for filename in filenames:\n",
    "#         print(os.path.join(dirname, filename))\n",
    "\n",
    "# You can write up to 20GB to the current directory (/kaggle/working/) that gets preserved as output when you create a version using \"Save & Run All\" \n",
    "# You can also write temporary files to /kaggle/temp/, but they won't be saved outside of the current session"
   ]
  },
  {
   "cell_type": "code",
   "execution_count": 2,
   "metadata": {
    "execution": {
     "iopub.execute_input": "2021-04-01T14:25:05.052430Z",
     "iopub.status.busy": "2021-04-01T14:25:05.051386Z",
     "iopub.status.idle": "2021-04-01T14:25:07.338974Z",
     "shell.execute_reply": "2021-04-01T14:25:07.338408Z"
    },
    "papermill": {
     "duration": 2.313207,
     "end_time": "2021-04-01T14:25:07.339113",
     "exception": false,
     "start_time": "2021-04-01T14:25:05.025906",
     "status": "completed"
    },
    "tags": []
   },
   "outputs": [],
   "source": [
    "## Load all the necessary packages\n",
    "\n",
    "%matplotlib inline\n",
    "\n",
    "import matplotlib.pyplot as plt\n",
    "import skimage.transform\n",
    "from skimage import data, io, filters\n",
    "import numpy as np\n",
    "from numpy import array\n",
    "from skimage.transform import rescale, resize\n",
    "from skimage.transform import resize\n",
    "import os\n",
    "import PIL\n",
    "import pandas as pd\n",
    "import imageio\n",
    "\n",
    "\n",
    "from matplotlib.pyplot import imread\n",
    "import cv2\n",
    "import h5py"
   ]
  },
  {
   "cell_type": "code",
   "execution_count": 3,
   "metadata": {
    "execution": {
     "iopub.execute_input": "2021-04-01T14:25:07.379374Z",
     "iopub.status.busy": "2021-04-01T14:25:07.378724Z",
     "iopub.status.idle": "2021-04-01T14:25:07.380890Z",
     "shell.execute_reply": "2021-04-01T14:25:07.381407Z"
    },
    "papermill": {
     "duration": 0.025937,
     "end_time": "2021-04-01T14:25:07.381572",
     "exception": false,
     "start_time": "2021-04-01T14:25:07.355635",
     "status": "completed"
    },
    "tags": []
   },
   "outputs": [],
   "source": [
    "## Load Directory Paths\n",
    "\n",
    "def load_path(path):\n",
    "    directories = []\n",
    "    if os.path.isdir(path):\n",
    "        print('directory path: ', path)\n",
    "        directories.append(path)\n",
    "    for elem in os.listdir(path): #check for nested dir within parent dir\n",
    "        if os.path.isdir(os.path.join(path,elem)):\n",
    "            print('inside nested dir')\n",
    "            directories = directories + load_path(os.path.join(path,elem))\n",
    "            directories.append(os.path.join(path,elem))\n",
    "    print('directories: ', directories)\n",
    "    return directories"
   ]
  },
  {
   "cell_type": "code",
   "execution_count": 4,
   "metadata": {
    "execution": {
     "iopub.execute_input": "2021-04-01T14:25:07.418358Z",
     "iopub.status.busy": "2021-04-01T14:25:07.417564Z",
     "iopub.status.idle": "2021-04-01T14:25:07.423822Z",
     "shell.execute_reply": "2021-04-01T14:25:07.424349Z"
    },
    "papermill": {
     "duration": 0.026218,
     "end_time": "2021-04-01T14:25:07.424518",
     "exception": false,
     "start_time": "2021-04-01T14:25:07.398300",
     "status": "completed"
    },
    "tags": []
   },
   "outputs": [],
   "source": [
    "## Load Images from directory\n",
    "\n",
    "def load_data_from_dirs(dirs, ext):\n",
    "    files = []\n",
    "    file_names = []\n",
    "    count = 0\n",
    "    \n",
    "    for d in dirs:\n",
    "        for f in os.listdir(d):\n",
    "            if f.endswith(ext):\n",
    "                image = cv2.imread(os.path.join(d,f))\n",
    "                files.append(image)\n",
    "                file_names.append(os.path.join(d,f))\n",
    "                count = count + 1\n",
    "    \n",
    "    print('list of files: ',len(files))\n",
    "    print('list of files path: ', len(file_names), 'file path: ', file_names[0])\n",
    "    print('Files Read: ',count)\n",
    "    \n",
    "    return files   "
   ]
  },
  {
   "cell_type": "code",
   "execution_count": 5,
   "metadata": {
    "execution": {
     "iopub.execute_input": "2021-04-01T14:25:07.461151Z",
     "iopub.status.busy": "2021-04-01T14:25:07.460455Z",
     "iopub.status.idle": "2021-04-01T14:25:07.467004Z",
     "shell.execute_reply": "2021-04-01T14:25:07.467512Z"
    },
    "papermill": {
     "duration": 0.026365,
     "end_time": "2021-04-01T14:25:07.467685",
     "exception": false,
     "start_time": "2021-04-01T14:25:07.441320",
     "status": "completed"
    },
    "tags": []
   },
   "outputs": [],
   "source": [
    "def load_matdata_from_dirs(dirs, ext):\n",
    "    files = []\n",
    "    file_names = []\n",
    "    count = 0\n",
    "    \n",
    "    for d in dirs:\n",
    "        for f in os.listdir(d):\n",
    "            if f.endswith(ext):\n",
    "                image = h5py.File(os.path.join(d,f), 'r')\n",
    "                files.append(image)\n",
    "                file_names.append(os.path.join(d,f))\n",
    "                count = count + 1\n",
    "    \n",
    "    print('list of files: ',len(files), 'file: ', files[0])\n",
    "    print('list of files path: ', len(file_names), 'file path: ', file_names[0])\n",
    "    print('Files Read: ',count)\n",
    "    \n",
    "    return files  "
   ]
  },
  {
   "cell_type": "code",
   "execution_count": 6,
   "metadata": {
    "execution": {
     "iopub.execute_input": "2021-04-01T14:25:07.504542Z",
     "iopub.status.busy": "2021-04-01T14:25:07.503970Z",
     "iopub.status.idle": "2021-04-01T14:25:07.508766Z",
     "shell.execute_reply": "2021-04-01T14:25:07.508184Z"
    },
    "papermill": {
     "duration": 0.024469,
     "end_time": "2021-04-01T14:25:07.508903",
     "exception": false,
     "start_time": "2021-04-01T14:25:07.484434",
     "status": "completed"
    },
    "tags": []
   },
   "outputs": [],
   "source": [
    "## Load Images\n",
    "\n",
    "def load_data(directory, ext):\n",
    "    files = load_data_from_dirs(load_path(directory), ext)\n",
    "    return files"
   ]
  },
  {
   "cell_type": "code",
   "execution_count": 7,
   "metadata": {
    "execution": {
     "iopub.execute_input": "2021-04-01T14:25:07.547848Z",
     "iopub.status.busy": "2021-04-01T14:25:07.546949Z",
     "iopub.status.idle": "2021-04-01T14:25:07.549782Z",
     "shell.execute_reply": "2021-04-01T14:25:07.550327Z"
    },
    "papermill": {
     "duration": 0.024662,
     "end_time": "2021-04-01T14:25:07.550494",
     "exception": false,
     "start_time": "2021-04-01T14:25:07.525832",
     "status": "completed"
    },
    "tags": []
   },
   "outputs": [],
   "source": [
    "## Load .mat data files\n",
    "\n",
    "def load_matdata(directory, ext):\n",
    "    files = load_matdata_from_dirs(load_path(directory), ext)\n",
    "    return files"
   ]
  },
  {
   "cell_type": "code",
   "execution_count": 8,
   "metadata": {
    "execution": {
     "iopub.execute_input": "2021-04-01T14:25:07.589187Z",
     "iopub.status.busy": "2021-04-01T14:25:07.588236Z",
     "iopub.status.idle": "2021-04-01T14:25:32.924362Z",
     "shell.execute_reply": "2021-04-01T14:25:32.923581Z"
    },
    "papermill": {
     "duration": 25.357162,
     "end_time": "2021-04-01T14:25:32.924596",
     "exception": false,
     "start_time": "2021-04-01T14:25:07.567434",
     "status": "completed"
    },
    "tags": []
   },
   "outputs": [
    {
     "name": "stdout",
     "output_type": "stream",
     "text": [
      "directory path:  ../input/mydataset/BrainTumorData/\n",
      "directories:  ['../input/mydataset/BrainTumorData/']\n",
      "list of files:  3064 file:  <HDF5 file \"2912.mat\" (mode r)>\n",
      "list of files path:  3064 file path:  ../input/mydataset/BrainTumorData/2912.mat\n",
      "Files Read:  3064\n"
     ]
    }
   ],
   "source": [
    "matfiles = load_matdata(\"../input/mydataset/BrainTumorData/\", \".mat\")"
   ]
  },
  {
   "cell_type": "code",
   "execution_count": 9,
   "metadata": {
    "execution": {
     "iopub.execute_input": "2021-04-01T14:25:32.974760Z",
     "iopub.status.busy": "2021-04-01T14:25:32.974065Z",
     "iopub.status.idle": "2021-04-01T14:25:40.886408Z",
     "shell.execute_reply": "2021-04-01T14:25:40.886979Z"
    },
    "papermill": {
     "duration": 7.943777,
     "end_time": "2021-04-01T14:25:40.887170",
     "exception": false,
     "start_time": "2021-04-01T14:25:32.943393",
     "status": "completed"
    },
    "tags": []
   },
   "outputs": [],
   "source": [
    "## get mask for the images\n",
    "\n",
    "images_h5 = matfiles[:1000]\n",
    "mask_arr = [img_h5['cjdata']['tumorMask'][()].astype(np.uint32) for img_h5 in images_h5]"
   ]
  },
  {
   "cell_type": "code",
   "execution_count": 10,
   "metadata": {
    "execution": {
     "iopub.execute_input": "2021-04-01T14:25:40.934566Z",
     "iopub.status.busy": "2021-04-01T14:25:40.933906Z",
     "iopub.status.idle": "2021-04-01T14:25:40.936561Z",
     "shell.execute_reply": "2021-04-01T14:25:40.937179Z"
    },
    "papermill": {
     "duration": 0.029295,
     "end_time": "2021-04-01T14:25:40.937353",
     "exception": false,
     "start_time": "2021-04-01T14:25:40.908058",
     "status": "completed"
    },
    "tags": []
   },
   "outputs": [],
   "source": [
    "## remove mask not of dimensions 512x512\n",
    "\n",
    "fil_mask_arr = []\n",
    "for mask in mask_arr:\n",
    "    if mask.shape == (512,512):\n",
    "        fil_mask_arr.append(mask)"
   ]
  },
  {
   "cell_type": "code",
   "execution_count": 11,
   "metadata": {
    "execution": {
     "iopub.execute_input": "2021-04-01T14:25:40.982136Z",
     "iopub.status.busy": "2021-04-01T14:25:40.981114Z",
     "iopub.status.idle": "2021-04-01T14:25:40.984363Z",
     "shell.execute_reply": "2021-04-01T14:25:40.984812Z"
    },
    "papermill": {
     "duration": 0.028347,
     "end_time": "2021-04-01T14:25:40.985011",
     "exception": false,
     "start_time": "2021-04-01T14:25:40.956664",
     "status": "completed"
    },
    "tags": []
   },
   "outputs": [],
   "source": [
    "## get mask for sr images\n",
    "\n",
    "img_mask = []\n",
    "for i in range(600,800):\n",
    "    img_mask.append(fil_mask_arr[i])"
   ]
  },
  {
   "cell_type": "code",
   "execution_count": 12,
   "metadata": {
    "execution": {
     "iopub.execute_input": "2021-04-01T14:25:41.027362Z",
     "iopub.status.busy": "2021-04-01T14:25:41.026652Z",
     "iopub.status.idle": "2021-04-01T14:25:43.831379Z",
     "shell.execute_reply": "2021-04-01T14:25:43.829957Z"
    },
    "papermill": {
     "duration": 2.82779,
     "end_time": "2021-04-01T14:25:43.831543",
     "exception": false,
     "start_time": "2021-04-01T14:25:41.003753",
     "status": "completed"
    },
    "tags": []
   },
   "outputs": [
    {
     "name": "stdout",
     "output_type": "stream",
     "text": [
      "directory path:  ../input/espcn-results/results/SR_Images/\n",
      "directories:  ['../input/espcn-results/results/SR_Images/']\n",
      "list of files:  200\n",
      "list of files path:  200 file path:  ../input/espcn-results/results/SR_Images/SR_103.jpeg\n",
      "Files Read:  200\n"
     ]
    }
   ],
   "source": [
    "## Load SR Images from directory\n",
    "\n",
    "sr_imgs = load_data(\"../input/espcn-results/results/SR_Images/\", \".jpeg\")"
   ]
  },
  {
   "cell_type": "code",
   "execution_count": 13,
   "metadata": {
    "execution": {
     "iopub.execute_input": "2021-04-01T14:25:43.877154Z",
     "iopub.status.busy": "2021-04-01T14:25:43.876410Z",
     "iopub.status.idle": "2021-04-01T14:25:45.226169Z",
     "shell.execute_reply": "2021-04-01T14:25:45.227190Z"
    },
    "papermill": {
     "duration": 1.376286,
     "end_time": "2021-04-01T14:25:45.227374",
     "exception": false,
     "start_time": "2021-04-01T14:25:43.851088",
     "status": "completed"
    },
    "tags": []
   },
   "outputs": [],
   "source": [
    "## Normalize pixel values between 0 - 255\n",
    "\n",
    "sr_images_norm = []\n",
    "for i in range(len(sr_imgs)):\n",
    "    img = cv2.normalize(np.float32(sr_imgs[i]), None, alpha = 0, beta = 255, norm_type = cv2.NORM_MINMAX, dtype = cv2.CV_32F)\n",
    "    sr_images_norm.append(cv2.cvtColor(img, cv2.COLOR_BGR2GRAY).astype(np.uint32))"
   ]
  },
  {
   "cell_type": "code",
   "execution_count": 14,
   "metadata": {
    "execution": {
     "iopub.execute_input": "2021-04-01T14:25:45.272621Z",
     "iopub.status.busy": "2021-04-01T14:25:45.271911Z",
     "iopub.status.idle": "2021-04-01T14:25:48.629187Z",
     "shell.execute_reply": "2021-04-01T14:25:48.625861Z"
    },
    "papermill": {
     "duration": 3.382818,
     "end_time": "2021-04-01T14:25:48.630477",
     "exception": false,
     "start_time": "2021-04-01T14:25:45.247659",
     "status": "completed"
    },
    "tags": []
   },
   "outputs": [],
   "source": [
    "## Get Tumors from SR Images\n",
    "\n",
    "sr_tumor_arr = array([img * mask for img, mask in zip(sr_images_norm, img_mask)], dtype=object)"
   ]
  },
  {
   "cell_type": "code",
   "execution_count": 15,
   "metadata": {
    "execution": {
     "iopub.execute_input": "2021-04-01T14:25:48.795402Z",
     "iopub.status.busy": "2021-04-01T14:25:48.784737Z",
     "iopub.status.idle": "2021-04-01T14:25:48.809155Z",
     "shell.execute_reply": "2021-04-01T14:25:48.807296Z"
    },
    "papermill": {
     "duration": 0.124336,
     "end_time": "2021-04-01T14:25:48.809329",
     "exception": false,
     "start_time": "2021-04-01T14:25:48.684993",
     "status": "completed"
    },
    "tags": []
   },
   "outputs": [
    {
     "data": {
      "text/plain": [
       "200"
      ]
     },
     "execution_count": 15,
     "metadata": {},
     "output_type": "execute_result"
    }
   ],
   "source": [
    "len(sr_tumor_arr)"
   ]
  },
  {
   "cell_type": "code",
   "execution_count": 16,
   "metadata": {
    "execution": {
     "iopub.execute_input": "2021-04-01T14:25:48.950742Z",
     "iopub.status.busy": "2021-04-01T14:25:48.948398Z",
     "iopub.status.idle": "2021-04-01T14:25:51.547449Z",
     "shell.execute_reply": "2021-04-01T14:25:51.545946Z"
    },
    "papermill": {
     "duration": 2.673064,
     "end_time": "2021-04-01T14:25:51.547635",
     "exception": false,
     "start_time": "2021-04-01T14:25:48.874571",
     "status": "completed"
    },
    "tags": []
   },
   "outputs": [
    {
     "name": "stdout",
     "output_type": "stream",
     "text": [
      "directory path:  ../input/espcn-results/results/HR_Images/\n",
      "directories:  ['../input/espcn-results/results/HR_Images/']\n",
      "list of files:  200\n",
      "list of files path:  200 file path:  ../input/espcn-results/results/HR_Images/HighRes_170.jpeg\n",
      "Files Read:  200\n"
     ]
    }
   ],
   "source": [
    "## Load HR Images from directory\n",
    "\n",
    "hr_imgs = load_data(\"../input/espcn-results/results/HR_Images/\", \".jpeg\")"
   ]
  },
  {
   "cell_type": "code",
   "execution_count": 17,
   "metadata": {
    "execution": {
     "iopub.execute_input": "2021-04-01T14:25:51.609323Z",
     "iopub.status.busy": "2021-04-01T14:25:51.608410Z",
     "iopub.status.idle": "2021-04-01T14:25:53.032763Z",
     "shell.execute_reply": "2021-04-01T14:25:53.031787Z"
    },
    "papermill": {
     "duration": 1.451301,
     "end_time": "2021-04-01T14:25:53.032971",
     "exception": false,
     "start_time": "2021-04-01T14:25:51.581670",
     "status": "completed"
    },
    "tags": []
   },
   "outputs": [],
   "source": [
    "## Normalize pixel values between 0 - 255\n",
    "\n",
    "hr_images_norm = []\n",
    "for i in range(len(hr_imgs)):\n",
    "    img = cv2.normalize(np.float32(hr_imgs[i]), None, alpha = 0, beta = 255, norm_type = cv2.NORM_MINMAX, dtype = cv2.CV_32F)\n",
    "    hr_images_norm.append(cv2.cvtColor(img, cv2.COLOR_BGR2GRAY).astype(np.uint32))"
   ]
  },
  {
   "cell_type": "code",
   "execution_count": 18,
   "metadata": {
    "execution": {
     "iopub.execute_input": "2021-04-01T14:25:53.094997Z",
     "iopub.status.busy": "2021-04-01T14:25:53.093434Z",
     "iopub.status.idle": "2021-04-01T14:25:57.431157Z",
     "shell.execute_reply": "2021-04-01T14:25:57.431755Z"
    },
    "papermill": {
     "duration": 4.371378,
     "end_time": "2021-04-01T14:25:57.432069",
     "exception": false,
     "start_time": "2021-04-01T14:25:53.060691",
     "status": "completed"
    },
    "tags": []
   },
   "outputs": [],
   "source": [
    "## Get Tumors from HR Images\n",
    "\n",
    "hr_tumor_arr = array([img * mask for img, mask in zip(hr_images_norm, img_mask)], dtype=object)"
   ]
  },
  {
   "cell_type": "code",
   "execution_count": 19,
   "metadata": {
    "execution": {
     "iopub.execute_input": "2021-04-01T14:25:57.481598Z",
     "iopub.status.busy": "2021-04-01T14:25:57.480420Z",
     "iopub.status.idle": "2021-04-01T14:25:57.485325Z",
     "shell.execute_reply": "2021-04-01T14:25:57.484602Z"
    },
    "papermill": {
     "duration": 0.031271,
     "end_time": "2021-04-01T14:25:57.485477",
     "exception": false,
     "start_time": "2021-04-01T14:25:57.454206",
     "status": "completed"
    },
    "tags": []
   },
   "outputs": [
    {
     "data": {
      "text/plain": [
       "200"
      ]
     },
     "execution_count": 19,
     "metadata": {},
     "output_type": "execute_result"
    }
   ],
   "source": [
    "len(hr_tumor_arr)"
   ]
  },
  {
   "cell_type": "code",
   "execution_count": 20,
   "metadata": {
    "execution": {
     "iopub.execute_input": "2021-04-01T14:25:57.538163Z",
     "iopub.status.busy": "2021-04-01T14:25:57.537388Z",
     "iopub.status.idle": "2021-04-01T14:25:57.541413Z",
     "shell.execute_reply": "2021-04-01T14:25:57.540796Z"
    },
    "papermill": {
     "duration": 0.034386,
     "end_time": "2021-04-01T14:25:57.541554",
     "exception": false,
     "start_time": "2021-04-01T14:25:57.507168",
     "status": "completed"
    },
    "tags": []
   },
   "outputs": [],
   "source": [
    "def displayImages(img_arr):    \n",
    "    width=8\n",
    "    height=8\n",
    "    rows = 3\n",
    "    cols = 4\n",
    "    axes=[]\n",
    "\n",
    "    fig=plt.figure(figsize=(10,10))\n",
    "\n",
    "    for i in range(rows * cols):\n",
    "        axes.append( fig.add_subplot(rows, cols, i+1) )\n",
    "        subplot_title=(\"Image: \"+str(i+1))\n",
    "        axes[-1].set_title(subplot_title)  \n",
    "        plt.imshow(np.asarray(img_arr[i], dtype=float).squeeze(), cmap='gray')\n",
    "        plt.axis('off')\n",
    "    fig.tight_layout()    \n",
    "    plt.show()"
   ]
  },
  {
   "cell_type": "code",
   "execution_count": 21,
   "metadata": {
    "execution": {
     "iopub.execute_input": "2021-04-01T14:25:57.596992Z",
     "iopub.status.busy": "2021-04-01T14:25:57.596270Z",
     "iopub.status.idle": "2021-04-01T14:25:57.599715Z",
     "shell.execute_reply": "2021-04-01T14:25:57.599140Z"
    },
    "papermill": {
     "duration": 0.036412,
     "end_time": "2021-04-01T14:25:57.599954",
     "exception": false,
     "start_time": "2021-04-01T14:25:57.563542",
     "status": "completed"
    },
    "tags": []
   },
   "outputs": [],
   "source": [
    "def displayUMatImages(img_arr):    \n",
    "    width=8\n",
    "    height=8\n",
    "    rows = 3\n",
    "    cols = 4\n",
    "    axes=[]\n",
    "\n",
    "    fig=plt.figure(figsize=(10,10))\n",
    "\n",
    "    for i in range(rows * cols):\n",
    "        axes.append( fig.add_subplot(rows, cols, i+1) )\n",
    "        subplot_title=(\"Image: \"+str(i+1))\n",
    "        axes[-1].set_title(subplot_title)  \n",
    "        plt.imshow(img_arr[i].get().astype('f'))\n",
    "        plt.axis('off')\n",
    "    fig.tight_layout()    \n",
    "    plt.show()"
   ]
  },
  {
   "cell_type": "code",
   "execution_count": 22,
   "metadata": {
    "execution": {
     "iopub.execute_input": "2021-04-01T14:25:57.654889Z",
     "iopub.status.busy": "2021-04-01T14:25:57.654155Z",
     "iopub.status.idle": "2021-04-01T14:25:58.873791Z",
     "shell.execute_reply": "2021-04-01T14:25:58.873100Z"
    },
    "papermill": {
     "duration": 1.251878,
     "end_time": "2021-04-01T14:25:58.873964",
     "exception": false,
     "start_time": "2021-04-01T14:25:57.622086",
     "status": "completed"
    },
    "tags": []
   },
   "outputs": [
    {
     "data": {
      "image/png": "[encoded data removed]",
      "text/plain": [
       "<Figure size 720x720 with 12 Axes>"
      ]
     },
     "metadata": {
      "needs_background": "light"
     },
     "output_type": "display_data"
    }
   ],
   "source": [
    "## Display SR Image Tumors\n",
    "\n",
    "displayImages(sr_tumor_arr)"
   ]
  },
  {
   "cell_type": "code",
   "execution_count": 23,
   "metadata": {
    "execution": {
     "iopub.execute_input": "2021-04-01T14:25:58.945701Z",
     "iopub.status.busy": "2021-04-01T14:25:58.927243Z",
     "iopub.status.idle": "2021-04-01T14:26:00.148862Z",
     "shell.execute_reply": "2021-04-01T14:26:00.147795Z"
    },
    "papermill": {
     "duration": 1.250488,
     "end_time": "2021-04-01T14:26:00.149041",
     "exception": false,
     "start_time": "2021-04-01T14:25:58.898553",
     "status": "completed"
    },
    "tags": []
   },
   "outputs": [
    {
     "data": {
      "image/png": "[encoded data removed]",
      "text/plain": [
       "<Figure size 720x720 with 12 Axes>"
      ]
     },
     "metadata": {
      "needs_background": "light"
     },
     "output_type": "display_data"
    }
   ],
   "source": [
    "## Display SR Image Tumors\n",
    "\n",
    "displayImages(hr_tumor_arr)"
   ]
  },
  {
   "cell_type": "code",
   "execution_count": 24,
   "metadata": {
    "execution": {
     "iopub.execute_input": "2021-04-01T14:26:00.203167Z",
     "iopub.status.busy": "2021-04-01T14:26:00.202430Z",
     "iopub.status.idle": "2021-04-01T14:26:00.205923Z",
     "shell.execute_reply": "2021-04-01T14:26:00.205322Z"
    },
    "papermill": {
     "duration": 0.032319,
     "end_time": "2021-04-01T14:26:00.206079",
     "exception": false,
     "start_time": "2021-04-01T14:26:00.173760",
     "status": "completed"
    },
    "tags": []
   },
   "outputs": [],
   "source": [
    "os.mkdir('./sr_tumor_imgs')\n",
    "os.mkdir('./hr_tumor_imgs')"
   ]
  },
  {
   "cell_type": "code",
   "execution_count": 25,
   "metadata": {
    "execution": {
     "iopub.execute_input": "2021-04-01T14:26:00.282043Z",
     "iopub.status.busy": "2021-04-01T14:26:00.281304Z",
     "iopub.status.idle": "2021-04-01T14:26:11.099247Z",
     "shell.execute_reply": "2021-04-01T14:26:11.099834Z"
    },
    "papermill": {
     "duration": 10.869668,
     "end_time": "2021-04-01T14:26:11.100287",
     "exception": false,
     "start_time": "2021-04-01T14:26:00.230619",
     "status": "completed"
    },
    "tags": []
   },
   "outputs": [],
   "source": [
    "for idx in range(200):\n",
    "    imageio.imwrite('./sr_tumor_imgs/SRTMR_'+str(idx+1)+'.jpeg', np.asarray(sr_tumor_arr[idx], dtype=float))\n",
    "    imageio.imwrite('./hr_tumor_imgs/HRTMR_'+str(idx+1)+'.jpeg', np.asarray(hr_tumor_arr[idx], dtype=float))"
   ]
  },
  {
   "cell_type": "code",
   "execution_count": 26,
   "metadata": {
    "execution": {
     "iopub.execute_input": "2021-04-01T14:26:11.154024Z",
     "iopub.status.busy": "2021-04-01T14:26:11.153010Z",
     "iopub.status.idle": "2021-04-01T14:26:11.333590Z",
     "shell.execute_reply": "2021-04-01T14:26:11.334116Z"
    },
    "papermill": {
     "duration": 0.209043,
     "end_time": "2021-04-01T14:26:11.334309",
     "exception": false,
     "start_time": "2021-04-01T14:26:11.125266",
     "status": "completed"
    },
    "tags": []
   },
   "outputs": [
    {
     "data": {
      "text/plain": [
       "['  adding: sr_tumor_imgs/ (stored 0%)',\n",
       " '  adding: sr_tumor_imgs/SRTMR_170.jpeg (deflated 42%)',\n",
       " '  adding: sr_tumor_imgs/SRTMR_148.jpeg (deflated 74%)',\n",
       " '  adding: sr_tumor_imgs/SRTMR_174.jpeg (deflated 69%)',\n",
       " '  adding: sr_tumor_imgs/SRTMR_150.jpeg (deflated 73%)',\n",
       " '  adding: sr_tumor_imgs/SRTMR_56.jpeg (deflated 62%)',\n",
       " '  adding: sr_tumor_imgs/SRTMR_167.jpeg (deflated 56%)',\n",
       " '  adding: sr_tumor_imgs/SRTMR_100.jpeg (deflated 57%)',\n",
       " '  adding: sr_tumor_imgs/SRTMR_158.jpeg (deflated 76%)',\n",
       " '  adding: sr_tumor_imgs/SRTMR_116.jpeg (deflated 58%)',\n",
       " '  adding: sr_tumor_imgs/SRTMR_138.jpeg (deflated 76%)',\n",
       " '  adding: sr_tumor_imgs/SRTMR_184.jpeg (deflated 46%)',\n",
       " '  adding: sr_tumor_imgs/SRTMR_130.jpeg (deflated 54%)',\n",
       " '  adding: sr_tumor_imgs/SRTMR_81.jpeg (deflated 54%)',\n",
       " '  adding: sr_tumor_imgs/SRTMR_69.jpeg (deflated 46%)',\n",
       " '  adding: sr_tumor_imgs/SRTMR_124.jpeg (deflated 78%)',\n",
       " '  adding: sr_tumor_imgs/SRTMR_57.jpeg (deflated 75%)',\n",
       " '  adding: sr_tumor_imgs/SRTMR_31.jpeg (deflated 63%)',\n",
       " '  adding: sr_tumor_imgs/SRTMR_68.jpeg (deflated 66%)',\n",
       " '  adding: sr_tumor_imgs/SRTMR_155.jpeg (deflated 64%)',\n",
       " '  adding: sr_tumor_imgs/SRTMR_175.jpeg (deflated 69%)',\n",
       " '  adding: sr_tumor_imgs/SRTMR_14.jpeg (deflated 79%)',\n",
       " '  adding: sr_tumor_imgs/SRTMR_163.jpeg (deflated 67%)',\n",
       " '  adding: sr_tumor_imgs/SRTMR_171.jpeg (deflated 81%)',\n",
       " '  adding: sr_tumor_imgs/SRTMR_49.jpeg (deflated 58%)',\n",
       " '  adding: sr_tumor_imgs/SRTMR_126.jpeg (deflated 56%)',\n",
       " '  adding: sr_tumor_imgs/SRTMR_96.jpeg (deflated 68%)',\n",
       " '  adding: sr_tumor_imgs/SRTMR_33.jpeg (deflated 56%)',\n",
       " '  adding: sr_tumor_imgs/SRTMR_46.jpeg (deflated 52%)',\n",
       " '  adding: sr_tumor_imgs/SRTMR_99.jpeg (deflated 62%)',\n",
       " '  adding: sr_tumor_imgs/SRTMR_166.jpeg (deflated 55%)',\n",
       " '  adding: sr_tumor_imgs/SRTMR_119.jpeg (deflated 59%)',\n",
       " '  adding: sr_tumor_imgs/SRTMR_139.jpeg (deflated 77%)',\n",
       " '  adding: sr_tumor_imgs/SRTMR_134.jpeg (deflated 72%)',\n",
       " '  adding: sr_tumor_imgs/SRTMR_123.jpeg (deflated 66%)',\n",
       " '  adding: sr_tumor_imgs/SRTMR_11.jpeg (deflated 67%)',\n",
       " '  adding: sr_tumor_imgs/SRTMR_55.jpeg (deflated 63%)',\n",
       " '  adding: sr_tumor_imgs/SRTMR_164.jpeg (deflated 72%)',\n",
       " '  adding: sr_tumor_imgs/SRTMR_19.jpeg (deflated 53%)',\n",
       " '  adding: sr_tumor_imgs/SRTMR_61.jpeg (deflated 73%)',\n",
       " '  adding: sr_tumor_imgs/SRTMR_132.jpeg (deflated 65%)',\n",
       " '  adding: sr_tumor_imgs/SRTMR_35.jpeg (deflated 68%)',\n",
       " '  adding: sr_tumor_imgs/SRTMR_16.jpeg (deflated 81%)',\n",
       " '  adding: sr_tumor_imgs/SRTMR_154.jpeg (deflated 54%)',\n",
       " '  adding: sr_tumor_imgs/SRTMR_78.jpeg (deflated 65%)',\n",
       " '  adding: sr_tumor_imgs/SRTMR_32.jpeg (deflated 65%)',\n",
       " '  adding: sr_tumor_imgs/SRTMR_67.jpeg (deflated 75%)',\n",
       " '  adding: sr_tumor_imgs/SRTMR_192.jpeg (deflated 52%)',\n",
       " '  adding: sr_tumor_imgs/SRTMR_188.jpeg (deflated 61%)',\n",
       " '  adding: sr_tumor_imgs/SRTMR_185.jpeg (deflated 70%)',\n",
       " '  adding: sr_tumor_imgs/SRTMR_80.jpeg (deflated 61%)',\n",
       " '  adding: sr_tumor_imgs/SRTMR_60.jpeg (deflated 71%)',\n",
       " '  adding: sr_tumor_imgs/SRTMR_106.jpeg (deflated 69%)',\n",
       " '  adding: sr_tumor_imgs/SRTMR_177.jpeg (deflated 65%)',\n",
       " '  adding: sr_tumor_imgs/SRTMR_45.jpeg (deflated 74%)',\n",
       " '  adding: sr_tumor_imgs/SRTMR_189.jpeg (deflated 58%)',\n",
       " '  adding: sr_tumor_imgs/SRTMR_183.jpeg (deflated 82%)',\n",
       " '  adding: sr_tumor_imgs/SRTMR_108.jpeg (deflated 60%)',\n",
       " '  adding: sr_tumor_imgs/SRTMR_152.jpeg (deflated 77%)',\n",
       " '  adding: sr_tumor_imgs/SRTMR_39.jpeg (deflated 65%)',\n",
       " '  adding: sr_tumor_imgs/SRTMR_51.jpeg (deflated 53%)',\n",
       " '  adding: sr_tumor_imgs/SRTMR_66.jpeg (deflated 73%)',\n",
       " '  adding: sr_tumor_imgs/SRTMR_125.jpeg (deflated 65%)',\n",
       " '  adding: sr_tumor_imgs/SRTMR_73.jpeg (deflated 65%)',\n",
       " '  adding: sr_tumor_imgs/SRTMR_169.jpeg (deflated 76%)',\n",
       " '  adding: sr_tumor_imgs/SRTMR_65.jpeg (deflated 57%)',\n",
       " '  adding: sr_tumor_imgs/SRTMR_53.jpeg (deflated 61%)',\n",
       " '  adding: sr_tumor_imgs/SRTMR_114.jpeg (deflated 52%)',\n",
       " '  adding: sr_tumor_imgs/SRTMR_153.jpeg (deflated 64%)',\n",
       " '  adding: sr_tumor_imgs/SRTMR_190.jpeg (deflated 71%)',\n",
       " '  adding: sr_tumor_imgs/SRTMR_156.jpeg (deflated 77%)',\n",
       " '  adding: sr_tumor_imgs/SRTMR_195.jpeg (deflated 53%)',\n",
       " '  adding: sr_tumor_imgs/SRTMR_86.jpeg (deflated 81%)',\n",
       " '  adding: sr_tumor_imgs/SRTMR_118.jpeg (deflated 53%)',\n",
       " '  adding: sr_tumor_imgs/SRTMR_91.jpeg (deflated 70%)',\n",
       " '  adding: sr_tumor_imgs/SRTMR_135.jpeg (deflated 77%)',\n",
       " '  adding: sr_tumor_imgs/SRTMR_142.jpeg (deflated 64%)',\n",
       " '  adding: sr_tumor_imgs/SRTMR_141.jpeg (deflated 67%)',\n",
       " '  adding: sr_tumor_imgs/SRTMR_113.jpeg (deflated 80%)',\n",
       " '  adding: sr_tumor_imgs/SRTMR_92.jpeg (deflated 64%)',\n",
       " '  adding: sr_tumor_imgs/SRTMR_83.jpeg (deflated 68%)',\n",
       " '  adding: sr_tumor_imgs/SRTMR_157.jpeg (deflated 81%)',\n",
       " '  adding: sr_tumor_imgs/SRTMR_44.jpeg (deflated 70%)',\n",
       " '  adding: sr_tumor_imgs/SRTMR_34.jpeg (deflated 74%)',\n",
       " '  adding: sr_tumor_imgs/SRTMR_121.jpeg (deflated 77%)',\n",
       " '  adding: sr_tumor_imgs/SRTMR_181.jpeg (deflated 60%)',\n",
       " '  adding: sr_tumor_imgs/SRTMR_140.jpeg (deflated 79%)',\n",
       " '  adding: sr_tumor_imgs/SRTMR_24.jpeg (deflated 78%)',\n",
       " '  adding: sr_tumor_imgs/SRTMR_38.jpeg (deflated 53%)',\n",
       " '  adding: sr_tumor_imgs/SRTMR_72.jpeg (deflated 72%)',\n",
       " '  adding: sr_tumor_imgs/SRTMR_98.jpeg (deflated 78%)',\n",
       " '  adding: sr_tumor_imgs/SRTMR_10.jpeg (deflated 57%)',\n",
       " '  adding: sr_tumor_imgs/SRTMR_87.jpeg (deflated 62%)',\n",
       " '  adding: sr_tumor_imgs/SRTMR_74.jpeg (deflated 55%)',\n",
       " '  adding: sr_tumor_imgs/SRTMR_6.jpeg (deflated 63%)',\n",
       " '  adding: sr_tumor_imgs/SRTMR_127.jpeg (deflated 71%)',\n",
       " '  adding: sr_tumor_imgs/SRTMR_117.jpeg (deflated 76%)',\n",
       " '  adding: sr_tumor_imgs/SRTMR_179.jpeg (deflated 68%)',\n",
       " '  adding: sr_tumor_imgs/SRTMR_48.jpeg (deflated 74%)',\n",
       " '  adding: sr_tumor_imgs/SRTMR_176.jpeg (deflated 76%)',\n",
       " '  adding: sr_tumor_imgs/SRTMR_122.jpeg (deflated 69%)',\n",
       " '  adding: sr_tumor_imgs/SRTMR_23.jpeg (deflated 73%)',\n",
       " '  adding: sr_tumor_imgs/SRTMR_25.jpeg (deflated 69%)',\n",
       " '  adding: sr_tumor_imgs/SRTMR_9.jpeg (deflated 69%)',\n",
       " '  adding: sr_tumor_imgs/SRTMR_137.jpeg (deflated 73%)',\n",
       " '  adding: sr_tumor_imgs/SRTMR_85.jpeg (deflated 64%)',\n",
       " '  adding: sr_tumor_imgs/SRTMR_143.jpeg (deflated 81%)',\n",
       " '  adding: sr_tumor_imgs/SRTMR_193.jpeg (deflated 67%)',\n",
       " '  adding: sr_tumor_imgs/SRTMR_147.jpeg (deflated 74%)',\n",
       " '  adding: sr_tumor_imgs/SRTMR_93.jpeg (deflated 60%)',\n",
       " '  adding: sr_tumor_imgs/SRTMR_64.jpeg (deflated 78%)',\n",
       " '  adding: sr_tumor_imgs/SRTMR_162.jpeg (deflated 69%)',\n",
       " '  adding: sr_tumor_imgs/SRTMR_27.jpeg (deflated 54%)',\n",
       " '  adding: sr_tumor_imgs/SRTMR_40.jpeg (deflated 72%)',\n",
       " '  adding: sr_tumor_imgs/SRTMR_8.jpeg (deflated 74%)',\n",
       " '  adding: sr_tumor_imgs/SRTMR_15.jpeg (deflated 50%)',\n",
       " '  adding: sr_tumor_imgs/SRTMR_28.jpeg (deflated 56%)',\n",
       " '  adding: sr_tumor_imgs/SRTMR_191.jpeg (deflated 71%)',\n",
       " '  adding: sr_tumor_imgs/SRTMR_21.jpeg (deflated 50%)',\n",
       " '  adding: sr_tumor_imgs/SRTMR_4.jpeg (deflated 77%)',\n",
       " '  adding: sr_tumor_imgs/SRTMR_79.jpeg (deflated 71%)',\n",
       " '  adding: sr_tumor_imgs/SRTMR_172.jpeg (deflated 77%)',\n",
       " '  adding: sr_tumor_imgs/SRTMR_187.jpeg (deflated 78%)',\n",
       " '  adding: sr_tumor_imgs/SRTMR_180.jpeg (deflated 67%)',\n",
       " '  adding: sr_tumor_imgs/SRTMR_17.jpeg (deflated 75%)',\n",
       " '  adding: sr_tumor_imgs/SRTMR_13.jpeg (deflated 72%)',\n",
       " '  adding: sr_tumor_imgs/SRTMR_30.jpeg (deflated 53%)',\n",
       " '  adding: sr_tumor_imgs/SRTMR_131.jpeg (deflated 76%)',\n",
       " '  adding: sr_tumor_imgs/SRTMR_84.jpeg (deflated 77%)',\n",
       " '  adding: sr_tumor_imgs/SRTMR_104.jpeg (deflated 48%)',\n",
       " '  adding: sr_tumor_imgs/SRTMR_20.jpeg (deflated 64%)',\n",
       " '  adding: sr_tumor_imgs/SRTMR_178.jpeg (deflated 76%)',\n",
       " '  adding: sr_tumor_imgs/SRTMR_133.jpeg (deflated 65%)',\n",
       " '  adding: sr_tumor_imgs/SRTMR_105.jpeg (deflated 81%)',\n",
       " '  adding: sr_tumor_imgs/SRTMR_120.jpeg (deflated 59%)',\n",
       " '  adding: sr_tumor_imgs/SRTMR_200.jpeg (deflated 64%)',\n",
       " '  adding: sr_tumor_imgs/SRTMR_101.jpeg (deflated 65%)',\n",
       " '  adding: sr_tumor_imgs/SRTMR_77.jpeg (deflated 63%)',\n",
       " '  adding: sr_tumor_imgs/SRTMR_52.jpeg (deflated 66%)',\n",
       " '  adding: sr_tumor_imgs/SRTMR_160.jpeg (deflated 74%)',\n",
       " '  adding: sr_tumor_imgs/SRTMR_2.jpeg (deflated 71%)',\n",
       " '  adding: sr_tumor_imgs/SRTMR_146.jpeg (deflated 62%)',\n",
       " '  adding: sr_tumor_imgs/SRTMR_112.jpeg (deflated 74%)',\n",
       " '  adding: sr_tumor_imgs/SRTMR_198.jpeg (deflated 78%)',\n",
       " '  adding: sr_tumor_imgs/SRTMR_97.jpeg (deflated 69%)',\n",
       " '  adding: sr_tumor_imgs/SRTMR_136.jpeg (deflated 72%)',\n",
       " '  adding: sr_tumor_imgs/SRTMR_58.jpeg (deflated 72%)',\n",
       " '  adding: sr_tumor_imgs/SRTMR_5.jpeg (deflated 58%)',\n",
       " '  adding: sr_tumor_imgs/SRTMR_7.jpeg (deflated 76%)',\n",
       " '  adding: sr_tumor_imgs/SRTMR_59.jpeg (deflated 68%)',\n",
       " '  adding: sr_tumor_imgs/SRTMR_54.jpeg (deflated 71%)',\n",
       " '  adding: sr_tumor_imgs/SRTMR_182.jpeg (deflated 68%)',\n",
       " '  adding: sr_tumor_imgs/SRTMR_165.jpeg (deflated 75%)',\n",
       " '  adding: sr_tumor_imgs/SRTMR_95.jpeg (deflated 76%)',\n",
       " '  adding: sr_tumor_imgs/SRTMR_62.jpeg (deflated 47%)',\n",
       " '  adding: sr_tumor_imgs/SRTMR_89.jpeg (deflated 66%)',\n",
       " '  adding: sr_tumor_imgs/SRTMR_75.jpeg (deflated 78%)',\n",
       " '  adding: sr_tumor_imgs/SRTMR_76.jpeg (deflated 72%)',\n",
       " '  adding: sr_tumor_imgs/SRTMR_102.jpeg (deflated 63%)',\n",
       " '  adding: sr_tumor_imgs/SRTMR_194.jpeg (deflated 77%)',\n",
       " '  adding: sr_tumor_imgs/SRTMR_90.jpeg (deflated 50%)',\n",
       " '  adding: sr_tumor_imgs/SRTMR_196.jpeg (deflated 63%)',\n",
       " '  adding: sr_tumor_imgs/SRTMR_22.jpeg (deflated 46%)',\n",
       " '  adding: sr_tumor_imgs/SRTMR_47.jpeg (deflated 67%)',\n",
       " '  adding: sr_tumor_imgs/SRTMR_63.jpeg (deflated 79%)',\n",
       " '  adding: sr_tumor_imgs/SRTMR_37.jpeg (deflated 61%)',\n",
       " '  adding: sr_tumor_imgs/SRTMR_103.jpeg (deflated 78%)',\n",
       " '  adding: sr_tumor_imgs/SRTMR_109.jpeg (deflated 71%)',\n",
       " '  adding: sr_tumor_imgs/SRTMR_111.jpeg (deflated 79%)',\n",
       " '  adding: sr_tumor_imgs/SRTMR_110.jpeg (deflated 73%)',\n",
       " '  adding: sr_tumor_imgs/SRTMR_168.jpeg (deflated 68%)',\n",
       " '  adding: sr_tumor_imgs/SRTMR_144.jpeg (deflated 72%)',\n",
       " '  adding: sr_tumor_imgs/SRTMR_41.jpeg (deflated 66%)',\n",
       " '  adding: sr_tumor_imgs/SRTMR_1.jpeg (deflated 74%)',\n",
       " '  adding: sr_tumor_imgs/SRTMR_161.jpeg (deflated 71%)',\n",
       " '  adding: sr_tumor_imgs/SRTMR_129.jpeg (deflated 79%)',\n",
       " '  adding: sr_tumor_imgs/SRTMR_145.jpeg (deflated 51%)',\n",
       " '  adding: sr_tumor_imgs/SRTMR_29.jpeg (deflated 75%)',\n",
       " '  adding: sr_tumor_imgs/SRTMR_173.jpeg (deflated 68%)',\n",
       " '  adding: sr_tumor_imgs/SRTMR_151.jpeg (deflated 68%)',\n",
       " '  adding: sr_tumor_imgs/SRTMR_199.jpeg (deflated 67%)',\n",
       " '  adding: sr_tumor_imgs/SRTMR_94.jpeg (deflated 83%)',\n",
       " '  adding: sr_tumor_imgs/SRTMR_26.jpeg (deflated 53%)',\n",
       " '  adding: sr_tumor_imgs/SRTMR_36.jpeg (deflated 63%)',\n",
       " '  adding: sr_tumor_imgs/SRTMR_3.jpeg (deflated 61%)',\n",
       " '  adding: sr_tumor_imgs/SRTMR_50.jpeg (deflated 74%)',\n",
       " '  adding: sr_tumor_imgs/SRTMR_88.jpeg (deflated 46%)',\n",
       " '  adding: sr_tumor_imgs/SRTMR_43.jpeg (deflated 72%)',\n",
       " '  adding: sr_tumor_imgs/SRTMR_82.jpeg (deflated 76%)',\n",
       " '  adding: sr_tumor_imgs/SRTMR_107.jpeg (deflated 69%)',\n",
       " '  adding: sr_tumor_imgs/SRTMR_18.jpeg (deflated 77%)',\n",
       " '  adding: sr_tumor_imgs/SRTMR_115.jpeg (deflated 64%)',\n",
       " '  adding: sr_tumor_imgs/SRTMR_42.jpeg (deflated 64%)',\n",
       " '  adding: sr_tumor_imgs/SRTMR_186.jpeg (deflated 74%)',\n",
       " '  adding: sr_tumor_imgs/SRTMR_197.jpeg (deflated 80%)',\n",
       " '  adding: sr_tumor_imgs/SRTMR_70.jpeg (deflated 63%)',\n",
       " '  adding: sr_tumor_imgs/SRTMR_12.jpeg (deflated 57%)',\n",
       " '  adding: sr_tumor_imgs/SRTMR_71.jpeg (deflated 59%)',\n",
       " '  adding: sr_tumor_imgs/SRTMR_128.jpeg (deflated 62%)',\n",
       " '  adding: sr_tumor_imgs/SRTMR_149.jpeg (deflated 61%)',\n",
       " '  adding: sr_tumor_imgs/SRTMR_159.jpeg (deflated 74%)']"
      ]
     },
     "execution_count": 26,
     "metadata": {},
     "output_type": "execute_result"
    }
   ],
   "source": [
    "%%!\n",
    "\n",
    "zip -r sr_tumor.zip ./sr_tumor_imgs"
   ]
  },
  {
   "cell_type": "code",
   "execution_count": 27,
   "metadata": {
    "execution": {
     "iopub.execute_input": "2021-04-01T14:26:11.392770Z",
     "iopub.status.busy": "2021-04-01T14:26:11.392089Z",
     "iopub.status.idle": "2021-04-01T14:26:11.542347Z",
     "shell.execute_reply": "2021-04-01T14:26:11.542893Z"
    },
    "papermill": {
     "duration": 0.182898,
     "end_time": "2021-04-01T14:26:11.543106",
     "exception": false,
     "start_time": "2021-04-01T14:26:11.360208",
     "status": "completed"
    },
    "tags": []
   },
   "outputs": [
    {
     "data": {
      "text/plain": [
       "['  adding: hr_tumor_imgs/ (stored 0%)',\n",
       " '  adding: hr_tumor_imgs/HRTMR_145.jpeg (deflated 51%)',\n",
       " '  adding: hr_tumor_imgs/HRTMR_62.jpeg (deflated 49%)',\n",
       " '  adding: hr_tumor_imgs/HRTMR_170.jpeg (deflated 38%)',\n",
       " '  adding: hr_tumor_imgs/HRTMR_46.jpeg (deflated 50%)',\n",
       " '  adding: hr_tumor_imgs/HRTMR_169.jpeg (deflated 78%)',\n",
       " '  adding: hr_tumor_imgs/HRTMR_185.jpeg (deflated 69%)',\n",
       " '  adding: hr_tumor_imgs/HRTMR_110.jpeg (deflated 75%)',\n",
       " '  adding: hr_tumor_imgs/HRTMR_92.jpeg (deflated 65%)',\n",
       " '  adding: hr_tumor_imgs/HRTMR_114.jpeg (deflated 53%)',\n",
       " '  adding: hr_tumor_imgs/HRTMR_150.jpeg (deflated 75%)',\n",
       " '  adding: hr_tumor_imgs/HRTMR_101.jpeg (deflated 66%)',\n",
       " '  adding: hr_tumor_imgs/HRTMR_153.jpeg (deflated 63%)',\n",
       " '  adding: hr_tumor_imgs/HRTMR_171.jpeg (deflated 80%)',\n",
       " '  adding: hr_tumor_imgs/HRTMR_44.jpeg (deflated 70%)',\n",
       " '  adding: hr_tumor_imgs/HRTMR_37.jpeg (deflated 44%)',\n",
       " '  adding: hr_tumor_imgs/HRTMR_49.jpeg (deflated 55%)',\n",
       " '  adding: hr_tumor_imgs/HRTMR_88.jpeg (deflated 51%)',\n",
       " '  adding: hr_tumor_imgs/HRTMR_35.jpeg (deflated 68%)',\n",
       " '  adding: hr_tumor_imgs/HRTMR_95.jpeg (deflated 71%)',\n",
       " '  adding: hr_tumor_imgs/HRTMR_190.jpeg (deflated 70%)',\n",
       " '  adding: hr_tumor_imgs/HRTMR_89.jpeg (deflated 64%)',\n",
       " '  adding: hr_tumor_imgs/HRTMR_51.jpeg (deflated 51%)',\n",
       " '  adding: hr_tumor_imgs/HRTMR_194.jpeg (deflated 78%)',\n",
       " '  adding: hr_tumor_imgs/HRTMR_196.jpeg (deflated 71%)',\n",
       " '  adding: hr_tumor_imgs/HRTMR_29.jpeg (deflated 75%)',\n",
       " '  adding: hr_tumor_imgs/HRTMR_2.jpeg (deflated 72%)',\n",
       " '  adding: hr_tumor_imgs/HRTMR_23.jpeg (deflated 72%)',\n",
       " '  adding: hr_tumor_imgs/HRTMR_96.jpeg (deflated 65%)',\n",
       " '  adding: hr_tumor_imgs/HRTMR_64.jpeg (deflated 78%)',\n",
       " '  adding: hr_tumor_imgs/HRTMR_162.jpeg (deflated 64%)',\n",
       " '  adding: hr_tumor_imgs/HRTMR_73.jpeg (deflated 60%)',\n",
       " '  adding: hr_tumor_imgs/HRTMR_90.jpeg (deflated 48%)',\n",
       " '  adding: hr_tumor_imgs/HRTMR_137.jpeg (deflated 71%)',\n",
       " '  adding: hr_tumor_imgs/HRTMR_28.jpeg (deflated 57%)',\n",
       " '  adding: hr_tumor_imgs/HRTMR_157.jpeg (deflated 81%)',\n",
       " '  adding: hr_tumor_imgs/HRTMR_172.jpeg (deflated 77%)',\n",
       " '  adding: hr_tumor_imgs/HRTMR_77.jpeg (deflated 63%)',\n",
       " '  adding: hr_tumor_imgs/HRTMR_75.jpeg (deflated 78%)',\n",
       " '  adding: hr_tumor_imgs/HRTMR_128.jpeg (deflated 63%)',\n",
       " '  adding: hr_tumor_imgs/HRTMR_148.jpeg (deflated 73%)',\n",
       " '  adding: hr_tumor_imgs/HRTMR_3.jpeg (deflated 58%)',\n",
       " '  adding: hr_tumor_imgs/HRTMR_102.jpeg (deflated 63%)',\n",
       " '  adding: hr_tumor_imgs/HRTMR_47.jpeg (deflated 62%)',\n",
       " '  adding: hr_tumor_imgs/HRTMR_130.jpeg (deflated 51%)',\n",
       " '  adding: hr_tumor_imgs/HRTMR_61.jpeg (deflated 73%)',\n",
       " '  adding: hr_tumor_imgs/HRTMR_118.jpeg (deflated 49%)',\n",
       " '  adding: hr_tumor_imgs/HRTMR_147.jpeg (deflated 75%)',\n",
       " '  adding: hr_tumor_imgs/HRTMR_20.jpeg (deflated 65%)',\n",
       " '  adding: hr_tumor_imgs/HRTMR_117.jpeg (deflated 68%)',\n",
       " '  adding: hr_tumor_imgs/HRTMR_176.jpeg (deflated 72%)',\n",
       " '  adding: hr_tumor_imgs/HRTMR_9.jpeg (deflated 67%)',\n",
       " '  adding: hr_tumor_imgs/HRTMR_159.jpeg (deflated 74%)',\n",
       " '  adding: hr_tumor_imgs/HRTMR_144.jpeg (deflated 70%)',\n",
       " '  adding: hr_tumor_imgs/HRTMR_68.jpeg (deflated 67%)',\n",
       " '  adding: hr_tumor_imgs/HRTMR_139.jpeg (deflated 77%)',\n",
       " '  adding: hr_tumor_imgs/HRTMR_38.jpeg (deflated 48%)',\n",
       " '  adding: hr_tumor_imgs/HRTMR_13.jpeg (deflated 67%)',\n",
       " '  adding: hr_tumor_imgs/HRTMR_126.jpeg (deflated 54%)',\n",
       " '  adding: hr_tumor_imgs/HRTMR_48.jpeg (deflated 73%)',\n",
       " '  adding: hr_tumor_imgs/HRTMR_108.jpeg (deflated 53%)',\n",
       " '  adding: hr_tumor_imgs/HRTMR_19.jpeg (deflated 50%)',\n",
       " '  adding: hr_tumor_imgs/HRTMR_32.jpeg (deflated 68%)',\n",
       " '  adding: hr_tumor_imgs/HRTMR_76.jpeg (deflated 71%)',\n",
       " '  adding: hr_tumor_imgs/HRTMR_14.jpeg (deflated 77%)',\n",
       " '  adding: hr_tumor_imgs/HRTMR_125.jpeg (deflated 60%)',\n",
       " '  adding: hr_tumor_imgs/HRTMR_116.jpeg (deflated 55%)',\n",
       " '  adding: hr_tumor_imgs/HRTMR_40.jpeg (deflated 74%)',\n",
       " '  adding: hr_tumor_imgs/HRTMR_82.jpeg (deflated 73%)',\n",
       " '  adding: hr_tumor_imgs/HRTMR_184.jpeg (deflated 40%)',\n",
       " '  adding: hr_tumor_imgs/HRTMR_129.jpeg (deflated 78%)',\n",
       " '  adding: hr_tumor_imgs/HRTMR_6.jpeg (deflated 61%)',\n",
       " '  adding: hr_tumor_imgs/HRTMR_39.jpeg (deflated 64%)',\n",
       " '  adding: hr_tumor_imgs/HRTMR_174.jpeg (deflated 64%)',\n",
       " '  adding: hr_tumor_imgs/HRTMR_78.jpeg (deflated 62%)',\n",
       " '  adding: hr_tumor_imgs/HRTMR_178.jpeg (deflated 72%)',\n",
       " '  adding: hr_tumor_imgs/HRTMR_134.jpeg (deflated 73%)',\n",
       " '  adding: hr_tumor_imgs/HRTMR_160.jpeg (deflated 74%)',\n",
       " '  adding: hr_tumor_imgs/HRTMR_133.jpeg (deflated 60%)',\n",
       " '  adding: hr_tumor_imgs/HRTMR_70.jpeg (deflated 66%)',\n",
       " '  adding: hr_tumor_imgs/HRTMR_79.jpeg (deflated 65%)',\n",
       " '  adding: hr_tumor_imgs/HRTMR_21.jpeg (deflated 48%)',\n",
       " '  adding: hr_tumor_imgs/HRTMR_136.jpeg (deflated 75%)',\n",
       " '  adding: hr_tumor_imgs/HRTMR_111.jpeg (deflated 78%)',\n",
       " '  adding: hr_tumor_imgs/HRTMR_158.jpeg (deflated 76%)',\n",
       " '  adding: hr_tumor_imgs/HRTMR_25.jpeg (deflated 66%)',\n",
       " '  adding: hr_tumor_imgs/HRTMR_58.jpeg (deflated 67%)',\n",
       " '  adding: hr_tumor_imgs/HRTMR_138.jpeg (deflated 67%)',\n",
       " '  adding: hr_tumor_imgs/HRTMR_67.jpeg (deflated 75%)',\n",
       " '  adding: hr_tumor_imgs/HRTMR_33.jpeg (deflated 58%)',\n",
       " '  adding: hr_tumor_imgs/HRTMR_11.jpeg (deflated 65%)',\n",
       " '  adding: hr_tumor_imgs/HRTMR_106.jpeg (deflated 65%)',\n",
       " '  adding: hr_tumor_imgs/HRTMR_122.jpeg (deflated 73%)',\n",
       " '  adding: hr_tumor_imgs/HRTMR_17.jpeg (deflated 72%)',\n",
       " '  adding: hr_tumor_imgs/HRTMR_197.jpeg (deflated 80%)',\n",
       " '  adding: hr_tumor_imgs/HRTMR_91.jpeg (deflated 69%)',\n",
       " '  adding: hr_tumor_imgs/HRTMR_200.jpeg (deflated 70%)',\n",
       " '  adding: hr_tumor_imgs/HRTMR_98.jpeg (deflated 77%)',\n",
       " '  adding: hr_tumor_imgs/HRTMR_57.jpeg (deflated 73%)',\n",
       " '  adding: hr_tumor_imgs/HRTMR_52.jpeg (deflated 64%)',\n",
       " '  adding: hr_tumor_imgs/HRTMR_127.jpeg (deflated 66%)',\n",
       " '  adding: hr_tumor_imgs/HRTMR_22.jpeg (deflated 47%)',\n",
       " '  adding: hr_tumor_imgs/HRTMR_113.jpeg (deflated 79%)',\n",
       " '  adding: hr_tumor_imgs/HRTMR_66.jpeg (deflated 69%)',\n",
       " '  adding: hr_tumor_imgs/HRTMR_107.jpeg (deflated 69%)',\n",
       " '  adding: hr_tumor_imgs/HRTMR_124.jpeg (deflated 76%)',\n",
       " '  adding: hr_tumor_imgs/HRTMR_59.jpeg (deflated 68%)',\n",
       " '  adding: hr_tumor_imgs/HRTMR_15.jpeg (deflated 42%)',\n",
       " '  adding: hr_tumor_imgs/HRTMR_72.jpeg (deflated 72%)',\n",
       " '  adding: hr_tumor_imgs/HRTMR_93.jpeg (deflated 61%)',\n",
       " '  adding: hr_tumor_imgs/HRTMR_54.jpeg (deflated 73%)',\n",
       " '  adding: hr_tumor_imgs/HRTMR_86.jpeg (deflated 81%)',\n",
       " '  adding: hr_tumor_imgs/HRTMR_121.jpeg (deflated 78%)',\n",
       " '  adding: hr_tumor_imgs/HRTMR_131.jpeg (deflated 75%)',\n",
       " '  adding: hr_tumor_imgs/HRTMR_161.jpeg (deflated 71%)',\n",
       " '  adding: hr_tumor_imgs/HRTMR_109.jpeg (deflated 74%)',\n",
       " '  adding: hr_tumor_imgs/HRTMR_189.jpeg (deflated 55%)',\n",
       " '  adding: hr_tumor_imgs/HRTMR_55.jpeg (deflated 63%)',\n",
       " '  adding: hr_tumor_imgs/HRTMR_1.jpeg (deflated 73%)',\n",
       " '  adding: hr_tumor_imgs/HRTMR_56.jpeg (deflated 63%)',\n",
       " '  adding: hr_tumor_imgs/HRTMR_26.jpeg (deflated 53%)',\n",
       " '  adding: hr_tumor_imgs/HRTMR_63.jpeg (deflated 79%)',\n",
       " '  adding: hr_tumor_imgs/HRTMR_112.jpeg (deflated 73%)',\n",
       " '  adding: hr_tumor_imgs/HRTMR_42.jpeg (deflated 64%)',\n",
       " '  adding: hr_tumor_imgs/HRTMR_192.jpeg (deflated 52%)',\n",
       " '  adding: hr_tumor_imgs/HRTMR_180.jpeg (deflated 67%)',\n",
       " '  adding: hr_tumor_imgs/HRTMR_183.jpeg (deflated 80%)',\n",
       " '  adding: hr_tumor_imgs/HRTMR_186.jpeg (deflated 76%)',\n",
       " '  adding: hr_tumor_imgs/HRTMR_198.jpeg (deflated 81%)',\n",
       " '  adding: hr_tumor_imgs/HRTMR_7.jpeg (deflated 77%)',\n",
       " '  adding: hr_tumor_imgs/HRTMR_187.jpeg (deflated 72%)',\n",
       " '  adding: hr_tumor_imgs/HRTMR_100.jpeg (deflated 56%)',\n",
       " '  adding: hr_tumor_imgs/HRTMR_154.jpeg (deflated 50%)',\n",
       " '  adding: hr_tumor_imgs/HRTMR_4.jpeg (deflated 76%)',\n",
       " '  adding: hr_tumor_imgs/HRTMR_164.jpeg (deflated 68%)',\n",
       " '  adding: hr_tumor_imgs/HRTMR_155.jpeg (deflated 63%)',\n",
       " '  adding: hr_tumor_imgs/HRTMR_165.jpeg (deflated 75%)',\n",
       " '  adding: hr_tumor_imgs/HRTMR_16.jpeg (deflated 82%)',\n",
       " '  adding: hr_tumor_imgs/HRTMR_104.jpeg (deflated 46%)',\n",
       " '  adding: hr_tumor_imgs/HRTMR_182.jpeg (deflated 66%)',\n",
       " '  adding: hr_tumor_imgs/HRTMR_156.jpeg (deflated 78%)',\n",
       " '  adding: hr_tumor_imgs/HRTMR_5.jpeg (deflated 58%)',\n",
       " '  adding: hr_tumor_imgs/HRTMR_71.jpeg (deflated 62%)',\n",
       " '  adding: hr_tumor_imgs/HRTMR_163.jpeg (deflated 67%)',\n",
       " '  adding: hr_tumor_imgs/HRTMR_60.jpeg (deflated 66%)',\n",
       " '  adding: hr_tumor_imgs/HRTMR_143.jpeg (deflated 79%)',\n",
       " '  adding: hr_tumor_imgs/HRTMR_142.jpeg (deflated 64%)',\n",
       " '  adding: hr_tumor_imgs/HRTMR_10.jpeg (deflated 53%)',\n",
       " '  adding: hr_tumor_imgs/HRTMR_166.jpeg (deflated 52%)',\n",
       " '  adding: hr_tumor_imgs/HRTMR_74.jpeg (deflated 55%)',\n",
       " '  adding: hr_tumor_imgs/HRTMR_81.jpeg (deflated 51%)',\n",
       " '  adding: hr_tumor_imgs/HRTMR_50.jpeg (deflated 74%)',\n",
       " '  adding: hr_tumor_imgs/HRTMR_12.jpeg (deflated 52%)',\n",
       " '  adding: hr_tumor_imgs/HRTMR_181.jpeg (deflated 64%)',\n",
       " '  adding: hr_tumor_imgs/HRTMR_199.jpeg (deflated 68%)',\n",
       " '  adding: hr_tumor_imgs/HRTMR_99.jpeg (deflated 61%)',\n",
       " '  adding: hr_tumor_imgs/HRTMR_175.jpeg (deflated 70%)',\n",
       " '  adding: hr_tumor_imgs/HRTMR_103.jpeg (deflated 78%)',\n",
       " '  adding: hr_tumor_imgs/HRTMR_119.jpeg (deflated 57%)',\n",
       " '  adding: hr_tumor_imgs/HRTMR_27.jpeg (deflated 53%)',\n",
       " '  adding: hr_tumor_imgs/HRTMR_84.jpeg (deflated 75%)',\n",
       " '  adding: hr_tumor_imgs/HRTMR_87.jpeg (deflated 61%)',\n",
       " '  adding: hr_tumor_imgs/HRTMR_191.jpeg (deflated 78%)',\n",
       " '  adding: hr_tumor_imgs/HRTMR_168.jpeg (deflated 65%)',\n",
       " '  adding: hr_tumor_imgs/HRTMR_141.jpeg (deflated 66%)',\n",
       " '  adding: hr_tumor_imgs/HRTMR_85.jpeg (deflated 67%)',\n",
       " '  adding: hr_tumor_imgs/HRTMR_30.jpeg (deflated 51%)',\n",
       " '  adding: hr_tumor_imgs/HRTMR_97.jpeg (deflated 68%)',\n",
       " '  adding: hr_tumor_imgs/HRTMR_24.jpeg (deflated 73%)',\n",
       " '  adding: hr_tumor_imgs/HRTMR_41.jpeg (deflated 66%)',\n",
       " '  adding: hr_tumor_imgs/HRTMR_83.jpeg (deflated 70%)',\n",
       " '  adding: hr_tumor_imgs/HRTMR_146.jpeg (deflated 57%)',\n",
       " '  adding: hr_tumor_imgs/HRTMR_177.jpeg (deflated 66%)',\n",
       " '  adding: hr_tumor_imgs/HRTMR_193.jpeg (deflated 66%)',\n",
       " '  adding: hr_tumor_imgs/HRTMR_31.jpeg (deflated 64%)',\n",
       " '  adding: hr_tumor_imgs/HRTMR_151.jpeg (deflated 71%)',\n",
       " '  adding: hr_tumor_imgs/HRTMR_80.jpeg (deflated 63%)',\n",
       " '  adding: hr_tumor_imgs/HRTMR_43.jpeg (deflated 74%)',\n",
       " '  adding: hr_tumor_imgs/HRTMR_105.jpeg (deflated 79%)',\n",
       " '  adding: hr_tumor_imgs/HRTMR_179.jpeg (deflated 69%)',\n",
       " '  adding: hr_tumor_imgs/HRTMR_188.jpeg (deflated 62%)',\n",
       " '  adding: hr_tumor_imgs/HRTMR_18.jpeg (deflated 79%)',\n",
       " '  adding: hr_tumor_imgs/HRTMR_53.jpeg (deflated 62%)',\n",
       " '  adding: hr_tumor_imgs/HRTMR_152.jpeg (deflated 77%)',\n",
       " '  adding: hr_tumor_imgs/HRTMR_65.jpeg (deflated 59%)',\n",
       " '  adding: hr_tumor_imgs/HRTMR_135.jpeg (deflated 75%)',\n",
       " '  adding: hr_tumor_imgs/HRTMR_149.jpeg (deflated 60%)',\n",
       " '  adding: hr_tumor_imgs/HRTMR_140.jpeg (deflated 80%)',\n",
       " '  adding: hr_tumor_imgs/HRTMR_120.jpeg (deflated 59%)',\n",
       " '  adding: hr_tumor_imgs/HRTMR_94.jpeg (deflated 82%)',\n",
       " '  adding: hr_tumor_imgs/HRTMR_45.jpeg (deflated 72%)',\n",
       " '  adding: hr_tumor_imgs/HRTMR_36.jpeg (deflated 63%)',\n",
       " '  adding: hr_tumor_imgs/HRTMR_123.jpeg (deflated 69%)',\n",
       " '  adding: hr_tumor_imgs/HRTMR_34.jpeg (deflated 72%)',\n",
       " '  adding: hr_tumor_imgs/HRTMR_115.jpeg (deflated 61%)',\n",
       " '  adding: hr_tumor_imgs/HRTMR_69.jpeg (deflated 41%)',\n",
       " '  adding: hr_tumor_imgs/HRTMR_195.jpeg (deflated 53%)',\n",
       " '  adding: hr_tumor_imgs/HRTMR_8.jpeg (deflated 73%)',\n",
       " '  adding: hr_tumor_imgs/HRTMR_173.jpeg (deflated 69%)',\n",
       " '  adding: hr_tumor_imgs/HRTMR_132.jpeg (deflated 64%)',\n",
       " '  adding: hr_tumor_imgs/HRTMR_167.jpeg (deflated 51%)']"
      ]
     },
     "execution_count": 27,
     "metadata": {},
     "output_type": "execute_result"
    }
   ],
   "source": [
    "%%!\n",
    "\n",
    "zip -r hr_tumor.zip ./hr_tumor_imgs"
   ]
  }
 ],
 "metadata": {
  "kernelspec": {
   "display_name": "Python 3",
   "language": "python",
   "name": "python3"
  },
  "language_info": {
   "codemirror_mode": {
    "name": "ipython",
    "version": 3
   },
   "file_extension": ".py",
   "mimetype": "text/x-python",
   "name": "python",
   "nbconvert_exporter": "python",
   "pygments_lexer": "ipython3",
   "version": "3.7.9"
  },
  "papermill": {
   "default_parameters": {},
   "duration": 73.771135,
   "end_time": "2021-04-01T14:26:12.985990",
   "environment_variables": {},
   "exception": null,
   "input_path": "__notebook__.ipynb",
   "output_path": "__notebook__.ipynb",
   "parameters": {},
   "start_time": "2021-04-01T14:24:59.214855",
   "version": "2.2.2"
  }
 },
 "nbformat": 4,
 "nbformat_minor": 4
}
