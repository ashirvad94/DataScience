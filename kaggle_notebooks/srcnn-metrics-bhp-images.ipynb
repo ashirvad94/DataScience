{
 "cells": [
  {
   "cell_type": "markdown",
   "id": "impossible-radius",
   "metadata": {
    "execution": {
     "iopub.execute_input": "2021-05-07T01:25:18.583007Z",
     "iopub.status.busy": "2021-05-07T01:25:18.582301Z",
     "iopub.status.idle": "2021-05-07T01:25:20.583599Z",
     "shell.execute_reply": "2021-05-07T01:25:20.58424Z"
    },
    "papermill": {
     "duration": 0.085008,
     "end_time": "2021-08-21T07:31:14.279260",
     "exception": false,
     "start_time": "2021-08-21T07:31:14.194252",
     "status": "completed"
    },
    "tags": []
   },
   "source": [
    "# Metric Calculations for Chest X-Ray Pneumonia Images"
   ]
  },
  {
   "cell_type": "code",
   "execution_count": 1,
   "id": "eight-population",
   "metadata": {
    "execution": {
     "iopub.execute_input": "2021-08-21T07:31:14.445193Z",
     "iopub.status.busy": "2021-08-21T07:31:14.443540Z",
     "iopub.status.idle": "2021-08-21T07:31:22.981030Z",
     "shell.execute_reply": "2021-08-21T07:31:22.981478Z"
    },
    "papermill": {
     "duration": 8.622057,
     "end_time": "2021-08-21T07:31:22.981772",
     "exception": false,
     "start_time": "2021-08-21T07:31:14.359715",
     "status": "completed"
    },
    "tags": []
   },
   "outputs": [
    {
     "name": "stdout",
     "output_type": "stream",
     "text": [
      "Collecting sewar\r\n",
      "  Downloading sewar-0.4.4.tar.gz (10 kB)\r\n",
      "Requirement already satisfied: numpy in /opt/conda/lib/python3.7/site-packages (from sewar) (1.19.5)\r\n",
      "Requirement already satisfied: scipy in /opt/conda/lib/python3.7/site-packages (from sewar) (1.5.4)\r\n",
      "Requirement already satisfied: Pillow in /opt/conda/lib/python3.7/site-packages (from sewar) (7.2.0)\r\n",
      "Building wheels for collected packages: sewar\r\n",
      "  Building wheel for sewar (setup.py) ... \u001b[?25l-\b \b\\\b \bdone\r\n",
      "\u001b[?25h  Created wheel for sewar: filename=sewar-0.4.4-py3-none-any.whl size=10389 sha256=cbe72f4443372da2f2c9a45c73f9f7c3ed2a8bbfe61c81d693a3d08383657ad5\r\n",
      "  Stored in directory: /root/.cache/pip/wheels/b5/00/df/f1ba40d0d44c95b0db52804e518c128d5631866b91ea1960ba\r\n",
      "Successfully built sewar\r\n",
      "Installing collected packages: sewar\r\n",
      "Successfully installed sewar-0.4.4\r\n"
     ]
    }
   ],
   "source": [
    "!pip install sewar"
   ]
  },
  {
   "cell_type": "code",
   "execution_count": 2,
   "id": "intelligent-closure",
   "metadata": {
    "execution": {
     "iopub.execute_input": "2021-08-21T07:31:23.159637Z",
     "iopub.status.busy": "2021-08-21T07:31:23.159019Z",
     "iopub.status.idle": "2021-08-21T07:31:25.082293Z",
     "shell.execute_reply": "2021-08-21T07:31:25.082864Z"
    },
    "papermill": {
     "duration": 2.01578,
     "end_time": "2021-08-21T07:31:25.083059",
     "exception": false,
     "start_time": "2021-08-21T07:31:23.067279",
     "status": "completed"
    },
    "tags": []
   },
   "outputs": [],
   "source": [
    "## Load all the necessary packages\n",
    "\n",
    "%matplotlib inline\n",
    "\n",
    "import matplotlib.pyplot as plt\n",
    "import skimage.transform\n",
    "from skimage import data, io, filters\n",
    "import numpy as np\n",
    "from numpy import array\n",
    "from skimage.transform import rescale, resize\n",
    "from skimage.transform import resize\n",
    "import os\n",
    "import PIL\n",
    "import pandas as pd\n",
    "import imageio\n",
    "import sewar\n",
    "\n",
    "from matplotlib.pyplot import imread\n",
    "import cv2"
   ]
  },
  {
   "cell_type": "code",
   "execution_count": 3,
   "id": "dominant-visibility",
   "metadata": {
    "execution": {
     "iopub.execute_input": "2021-08-21T07:31:25.249949Z",
     "iopub.status.busy": "2021-08-21T07:31:25.249389Z",
     "iopub.status.idle": "2021-08-21T07:31:25.254705Z",
     "shell.execute_reply": "2021-08-21T07:31:25.255199Z"
    },
    "papermill": {
     "duration": 0.089929,
     "end_time": "2021-08-21T07:31:25.255362",
     "exception": false,
     "start_time": "2021-08-21T07:31:25.165433",
     "status": "completed"
    },
    "tags": []
   },
   "outputs": [],
   "source": [
    "## Load Directory Paths\n",
    "\n",
    "def load_path(path):\n",
    "    directories = []\n",
    "    if os.path.isdir(path):\n",
    "        print('directory path: ', path)\n",
    "        directories.append(path)\n",
    "    for elem in os.listdir(path): #check for nested dir within parent dir\n",
    "        if os.path.isdir(os.path.join(path,elem)):\n",
    "            print('inside nested dir')\n",
    "            directories = directories + load_path(os.path.join(path,elem))\n",
    "            directories.append(os.path.join(path,elem))\n",
    "    print('directories: ', directories)\n",
    "    return directories"
   ]
  },
  {
   "cell_type": "code",
   "execution_count": 4,
   "id": "established-librarian",
   "metadata": {
    "execution": {
     "iopub.execute_input": "2021-08-21T07:31:25.424745Z",
     "iopub.status.busy": "2021-08-21T07:31:25.424162Z",
     "iopub.status.idle": "2021-08-21T07:31:25.430215Z",
     "shell.execute_reply": "2021-08-21T07:31:25.430684Z"
    },
    "papermill": {
     "duration": 0.093511,
     "end_time": "2021-08-21T07:31:25.430870",
     "exception": false,
     "start_time": "2021-08-21T07:31:25.337359",
     "status": "completed"
    },
    "tags": []
   },
   "outputs": [],
   "source": [
    "## Load Images from directory\n",
    "\n",
    "def load_data_from_dirs(dirs, ext):\n",
    "    files = []\n",
    "    file_names = []\n",
    "    count = 0\n",
    "    res = {}\n",
    "    \n",
    "    for d in dirs:\n",
    "        for f in os.listdir(d):\n",
    "            if f.endswith(ext):\n",
    "                image = cv2.imread(os.path.join(d,f))\n",
    "                files.append(image)\n",
    "                file_names.append(os.path.join(d,f))\n",
    "                count = count + 1\n",
    "                res[int(os.path.join(d,f)[36:-4])] = image\n",
    "    \n",
    "    print('list of files: ',len(files))\n",
    "    print('list of files path: ', len(file_names), 'file path: ', file_names[0])\n",
    "    print('Files Read: ',count)\n",
    "    \n",
    "    return res"
   ]
  },
  {
   "cell_type": "code",
   "execution_count": 5,
   "id": "motivated-friendly",
   "metadata": {
    "execution": {
     "iopub.execute_input": "2021-08-21T07:31:25.598675Z",
     "iopub.status.busy": "2021-08-21T07:31:25.598009Z",
     "iopub.status.idle": "2021-08-21T07:31:25.601707Z",
     "shell.execute_reply": "2021-08-21T07:31:25.602217Z"
    },
    "papermill": {
     "duration": 0.089156,
     "end_time": "2021-08-21T07:31:25.602388",
     "exception": false,
     "start_time": "2021-08-21T07:31:25.513232",
     "status": "completed"
    },
    "tags": []
   },
   "outputs": [],
   "source": [
    "## Load Images\n",
    "\n",
    "def load_data(directory, ext):\n",
    "    files = load_data_from_dirs(load_path(directory), ext)\n",
    "    return files"
   ]
  },
  {
   "cell_type": "code",
   "execution_count": 6,
   "id": "speaking-freeware",
   "metadata": {
    "execution": {
     "iopub.execute_input": "2021-08-21T07:31:25.771002Z",
     "iopub.status.busy": "2021-08-21T07:31:25.770391Z",
     "iopub.status.idle": "2021-08-21T07:31:26.837661Z",
     "shell.execute_reply": "2021-08-21T07:31:26.838160Z"
    },
    "papermill": {
     "duration": 1.152412,
     "end_time": "2021-08-21T07:31:26.838322",
     "exception": false,
     "start_time": "2021-08-21T07:31:25.685910",
     "status": "completed"
    },
    "tags": []
   },
   "outputs": [
    {
     "name": "stdout",
     "output_type": "stream",
     "text": [
      "34\n",
      "directory path:  ../input/srcnn-bhp-imgs/HR_0_imgs/\n",
      "directories:  ['../input/srcnn-bhp-imgs/HR_0_imgs/']\n",
      "list of files:  240\n",
      "list of files path:  240 file path:  ../input/srcnn-bhp-imgs/HR_0_imgs/HR189.png\n",
      "Files Read:  240\n"
     ]
    }
   ],
   "source": [
    "## Load HR Images from directory\n",
    "print(len(\"../input/srcnn-bhp-imgs/HR_0_imgs/\"))\n",
    "hr_normal_imgs = load_data(\"../input/srcnn-bhp-imgs/HR_0_imgs/\", \".png\")"
   ]
  },
  {
   "cell_type": "code",
   "execution_count": 7,
   "id": "fossil-ladder",
   "metadata": {
    "execution": {
     "iopub.execute_input": "2021-08-21T07:31:27.009483Z",
     "iopub.status.busy": "2021-08-21T07:31:27.008868Z",
     "iopub.status.idle": "2021-08-21T07:31:27.012404Z",
     "shell.execute_reply": "2021-08-21T07:31:27.012887Z"
    },
    "papermill": {
     "duration": 0.091473,
     "end_time": "2021-08-21T07:31:27.013049",
     "exception": false,
     "start_time": "2021-08-21T07:31:26.921576",
     "status": "completed"
    },
    "tags": []
   },
   "outputs": [],
   "source": [
    "from collections import OrderedDict\n",
    "# sorted(test_list, key = int)\n",
    "srt_hr_normal_imgs = OrderedDict(sorted(hr_normal_imgs.items()))"
   ]
  },
  {
   "cell_type": "code",
   "execution_count": 8,
   "id": "figured-asian",
   "metadata": {
    "execution": {
     "iopub.execute_input": "2021-08-21T07:31:27.182367Z",
     "iopub.status.busy": "2021-08-21T07:31:27.181785Z",
     "iopub.status.idle": "2021-08-21T07:31:27.187089Z",
     "shell.execute_reply": "2021-08-21T07:31:27.187554Z"
    },
    "papermill": {
     "duration": 0.091891,
     "end_time": "2021-08-21T07:31:27.187705",
     "exception": false,
     "start_time": "2021-08-21T07:31:27.095814",
     "status": "completed"
    },
    "tags": []
   },
   "outputs": [],
   "source": [
    "## Function to display UMat images\n",
    "\n",
    "def displayImages(img_arr):    \n",
    "    width=8\n",
    "    height=8\n",
    "    rows = 3\n",
    "    cols = 4\n",
    "    axes=[]\n",
    "\n",
    "    fig=plt.figure(figsize=(10,10))\n",
    "\n",
    "    for i in range(rows * cols):\n",
    "        axes.append( fig.add_subplot(rows, cols, i+1) )\n",
    "        subplot_title=(\"Image: \"+str(i+1))\n",
    "        axes[-1].set_title(subplot_title)  \n",
    "        plt.imshow(img_arr[i+1])\n",
    "        plt.axis('off')\n",
    "    fig.tight_layout()    \n",
    "    plt.show()"
   ]
  },
  {
   "cell_type": "code",
   "execution_count": 9,
   "id": "endless-cooperative",
   "metadata": {
    "execution": {
     "iopub.execute_input": "2021-08-21T07:31:27.378519Z",
     "iopub.status.busy": "2021-08-21T07:31:27.375442Z",
     "iopub.status.idle": "2021-08-21T07:31:28.122329Z",
     "shell.execute_reply": "2021-08-21T07:31:28.122795Z"
    },
    "papermill": {
     "duration": 0.852913,
     "end_time": "2021-08-21T07:31:28.122974",
     "exception": false,
     "start_time": "2021-08-21T07:31:27.270061",
     "status": "completed"
    },
    "tags": []
   },
   "outputs": [
    {
     "data": {
      "image/png": "[encoded data removed]",
      "text/plain": [
       "<Figure size 720x720 with 12 Axes>"
      ]
     },
     "metadata": {
      "needs_background": "light"
     },
     "output_type": "display_data"
    }
   ],
   "source": [
    "## Visualize few chest x-ray images\n",
    "\n",
    "displayImages(srt_hr_normal_imgs)"
   ]
  },
  {
   "cell_type": "code",
   "execution_count": 10,
   "id": "premier-meditation",
   "metadata": {
    "execution": {
     "iopub.execute_input": "2021-08-21T07:31:28.301101Z",
     "iopub.status.busy": "2021-08-21T07:31:28.300483Z",
     "iopub.status.idle": "2021-08-21T07:31:29.134661Z",
     "shell.execute_reply": "2021-08-21T07:31:29.135161Z"
    },
    "papermill": {
     "duration": 0.924739,
     "end_time": "2021-08-21T07:31:29.135358",
     "exception": false,
     "start_time": "2021-08-21T07:31:28.210619",
     "status": "completed"
    },
    "tags": []
   },
   "outputs": [
    {
     "name": "stdout",
     "output_type": "stream",
     "text": [
      "directory path:  ../input/srcnn-bhp-imgs/SR_0_imgs/\n",
      "directories:  ['../input/srcnn-bhp-imgs/SR_0_imgs/']\n",
      "list of files:  240\n",
      "list of files path:  240 file path:  ../input/srcnn-bhp-imgs/SR_0_imgs/SR14.png\n",
      "Files Read:  240\n"
     ]
    }
   ],
   "source": [
    "## Load SR Images from directory\n",
    "\n",
    "sr_normal_imgs = load_data(\"../input/srcnn-bhp-imgs/SR_0_imgs/\", \".png\")"
   ]
  },
  {
   "cell_type": "code",
   "execution_count": 11,
   "id": "civil-surgery",
   "metadata": {
    "execution": {
     "iopub.execute_input": "2021-08-21T07:31:29.321165Z",
     "iopub.status.busy": "2021-08-21T07:31:29.320512Z",
     "iopub.status.idle": "2021-08-21T07:31:29.323800Z",
     "shell.execute_reply": "2021-08-21T07:31:29.323318Z"
    },
    "papermill": {
     "duration": 0.098954,
     "end_time": "2021-08-21T07:31:29.323973",
     "exception": false,
     "start_time": "2021-08-21T07:31:29.225019",
     "status": "completed"
    },
    "tags": []
   },
   "outputs": [],
   "source": [
    "from collections import OrderedDict\n",
    "# sorted(test_list, key = int)\n",
    "srt_sr_normal_imgs = OrderedDict(sorted(sr_normal_imgs.items()))"
   ]
  },
  {
   "cell_type": "code",
   "execution_count": 12,
   "id": "every-diving",
   "metadata": {
    "execution": {
     "iopub.execute_input": "2021-08-21T07:31:29.525258Z",
     "iopub.status.busy": "2021-08-21T07:31:29.523195Z",
     "iopub.status.idle": "2021-08-21T07:31:30.070667Z",
     "shell.execute_reply": "2021-08-21T07:31:30.070050Z"
    },
    "papermill": {
     "duration": 0.658218,
     "end_time": "2021-08-21T07:31:30.070795",
     "exception": false,
     "start_time": "2021-08-21T07:31:29.412577",
     "status": "completed"
    },
    "tags": []
   },
   "outputs": [
    {
     "data": {
      "image/png": "[encoded data removed]",
      "text/plain": [
       "<Figure size 720x720 with 12 Axes>"
      ]
     },
     "metadata": {
      "needs_background": "light"
     },
     "output_type": "display_data"
    }
   ],
   "source": [
    "## Visualize few chest x-ray images\n",
    "\n",
    "displayImages(srt_sr_normal_imgs)"
   ]
  },
  {
   "cell_type": "markdown",
   "id": "arabic-revision",
   "metadata": {
    "papermill": {
     "duration": 0.090521,
     "end_time": "2021-08-21T07:31:30.253162",
     "exception": false,
     "start_time": "2021-08-21T07:31:30.162641",
     "status": "completed"
    },
    "tags": []
   },
   "source": [
    "## Computing Metrics Normal Images"
   ]
  },
  {
   "cell_type": "code",
   "execution_count": 13,
   "id": "sunrise-editing",
   "metadata": {
    "execution": {
     "iopub.execute_input": "2021-08-21T07:31:30.438731Z",
     "iopub.status.busy": "2021-08-21T07:31:30.438165Z",
     "iopub.status.idle": "2021-08-21T07:31:30.441935Z",
     "shell.execute_reply": "2021-08-21T07:31:30.442328Z"
    },
    "papermill": {
     "duration": 0.09817,
     "end_time": "2021-08-21T07:31:30.442489",
     "exception": false,
     "start_time": "2021-08-21T07:31:30.344319",
     "status": "completed"
    },
    "tags": []
   },
   "outputs": [],
   "source": [
    "srcnn_bhp_metric = {}\n",
    "srcnn_bhp_metric[\"normal_img\"] = {}\n",
    "srcnn_bhp_metric[\"diseased_img\"] = {}\n",
    "srcnn_bhp_metric[\"mannwhitneyu\"] = {}"
   ]
  },
  {
   "cell_type": "markdown",
   "id": "favorite-egyptian",
   "metadata": {
    "papermill": {
     "duration": 0.090721,
     "end_time": "2021-08-21T07:31:30.625522",
     "exception": false,
     "start_time": "2021-08-21T07:31:30.534801",
     "status": "completed"
    },
    "tags": []
   },
   "source": [
    "## Computing SSIM"
   ]
  },
  {
   "cell_type": "code",
   "execution_count": 14,
   "id": "supposed-pursuit",
   "metadata": {
    "execution": {
     "iopub.execute_input": "2021-08-21T07:31:30.809859Z",
     "iopub.status.busy": "2021-08-21T07:31:30.809231Z",
     "iopub.status.idle": "2021-08-21T07:31:30.823664Z",
     "shell.execute_reply": "2021-08-21T07:31:30.824097Z"
    },
    "papermill": {
     "duration": 0.108363,
     "end_time": "2021-08-21T07:31:30.824279",
     "exception": false,
     "start_time": "2021-08-21T07:31:30.715916",
     "status": "completed"
    },
    "tags": []
   },
   "outputs": [
    {
     "name": "stdout",
     "output_type": "stream",
     "text": [
      "0.7021423440984084\n"
     ]
    }
   ],
   "source": [
    "## Compute SSIM for single image\n",
    "\n",
    "ans = 1 - (1 + sewar.full_ref.ssim(srt_sr_normal_imgs[2],srt_hr_normal_imgs[2])[0]) / 2\n",
    "print(ans)"
   ]
  },
  {
   "cell_type": "code",
   "execution_count": 15,
   "id": "alternative-soviet",
   "metadata": {
    "execution": {
     "iopub.execute_input": "2021-08-21T07:31:31.010604Z",
     "iopub.status.busy": "2021-08-21T07:31:31.010031Z",
     "iopub.status.idle": "2021-08-21T07:31:32.846571Z",
     "shell.execute_reply": "2021-08-21T07:31:32.847178Z"
    },
    "papermill": {
     "duration": 1.93148,
     "end_time": "2021-08-21T07:31:32.847349",
     "exception": false,
     "start_time": "2021-08-21T07:31:30.915869",
     "status": "completed"
    },
    "tags": []
   },
   "outputs": [
    {
     "name": "stdout",
     "output_type": "stream",
     "text": [
      "[0.5359933441043013, 0.7021423440984084, 0.6147261180685487, 0.592673359277953, 0.6206264578308374, 0.616462579031038, 0.6987127111128534, 0.6458883117168547, 0.5638421343261786, 0.6733870860308646]\n"
     ]
    }
   ],
   "source": [
    "ssim_normal_arr = []\n",
    "for i in range(1,201):\n",
    "    ssim_normal_arr.append(1 - (1 + sewar.full_ref.ssim(srt_sr_normal_imgs[i],srt_hr_normal_imgs[i])[0]) / 2)\n",
    "    \n",
    "## Display Results for starting 10 images\n",
    "\n",
    "print(ssim_normal_arr[:10])"
   ]
  },
  {
   "cell_type": "code",
   "execution_count": 16,
   "id": "appreciated-showcase",
   "metadata": {
    "execution": {
     "iopub.execute_input": "2021-08-21T07:31:33.039297Z",
     "iopub.status.busy": "2021-08-21T07:31:33.038486Z",
     "iopub.status.idle": "2021-08-21T07:31:33.041497Z",
     "shell.execute_reply": "2021-08-21T07:31:33.041966Z"
    },
    "papermill": {
     "duration": 0.101921,
     "end_time": "2021-08-21T07:31:33.042130",
     "exception": false,
     "start_time": "2021-08-21T07:31:32.940209",
     "status": "completed"
    },
    "tags": []
   },
   "outputs": [
    {
     "name": "stdout",
     "output_type": "stream",
     "text": [
      "0.6000092029676999 0.06483407627464237\n"
     ]
    }
   ],
   "source": [
    "ssim_normal_mean, ssim_normal_std = np.mean(ssim_normal_arr), np.std(ssim_normal_arr)\n",
    "srcnn_bhp_metric[\"normal_img\"][\"ssim\"] = ssim_normal_arr\n",
    "print(ssim_normal_mean, ssim_normal_std)"
   ]
  },
  {
   "cell_type": "code",
   "execution_count": 17,
   "id": "damaged-startup",
   "metadata": {
    "execution": {
     "iopub.execute_input": "2021-08-21T07:31:33.231435Z",
     "iopub.status.busy": "2021-08-21T07:31:33.230743Z",
     "iopub.status.idle": "2021-08-21T07:31:33.232761Z",
     "shell.execute_reply": "2021-08-21T07:31:33.233225Z"
    },
    "papermill": {
     "duration": 0.098828,
     "end_time": "2021-08-21T07:31:33.233384",
     "exception": false,
     "start_time": "2021-08-21T07:31:33.134556",
     "status": "completed"
    },
    "tags": []
   },
   "outputs": [],
   "source": [
    "# def displayResults(img_arr1, img_arr2,ssim_arr, metric, dim=(1, 3), figsize=(15, 5)):    \n",
    "#     width=8\n",
    "#     height=8\n",
    "#     rows = 5\n",
    "#     cols = 5\n",
    "#     axes=[]\n",
    "\n",
    "#     fig=plt.figure(figsize=(10,10))\n",
    "\n",
    "#     for i in range(rows * cols):\n",
    "#         plt.figure(figsize=figsize)\n",
    "\n",
    "#         plt.subplot(dim[0], dim[1], 1)\n",
    "#         plt.imshow(img_arr1[i+1], interpolation='nearest', cmap='gray')\n",
    "#         plt.title(f\"Super Resolution Image {i+1}\")\n",
    "#         plt.axis('off')\n",
    "\n",
    "#         plt.subplot(dim[0], dim[1], 2)\n",
    "#         plt.imshow(img_arr2[i+1], interpolation='nearest', cmap='gray')\n",
    "#         plt.title(f\"Origial Image {i+1}\")\n",
    "#         plt.axis('off')\n",
    "        \n",
    "#         plt.subplot(dim[0], dim[1], 3)\n",
    "#         plt.text(0.5, 0.5,f\"{metric} {ssim_arr[i]}\")\n",
    "#         plt.axis('off')\n",
    "        \n",
    "#     fig.tight_layout()    \n",
    "#     plt.show()"
   ]
  },
  {
   "cell_type": "code",
   "execution_count": 18,
   "id": "lyric-shield",
   "metadata": {
    "execution": {
     "iopub.execute_input": "2021-08-21T07:31:33.420956Z",
     "iopub.status.busy": "2021-08-21T07:31:33.420341Z",
     "iopub.status.idle": "2021-08-21T07:31:33.423266Z",
     "shell.execute_reply": "2021-08-21T07:31:33.423693Z"
    },
    "papermill": {
     "duration": 0.098106,
     "end_time": "2021-08-21T07:31:33.423888",
     "exception": false,
     "start_time": "2021-08-21T07:31:33.325782",
     "status": "completed"
    },
    "tags": []
   },
   "outputs": [],
   "source": [
    "# displayResults(srt_sr_normal_imgs, srt_hr_normal_imgs, ssim_normal_arr, \"SSIM\")"
   ]
  },
  {
   "cell_type": "markdown",
   "id": "moved-attitude",
   "metadata": {
    "papermill": {
     "duration": 0.091994,
     "end_time": "2021-08-21T07:31:33.608260",
     "exception": false,
     "start_time": "2021-08-21T07:31:33.516266",
     "status": "completed"
    },
    "tags": []
   },
   "source": [
    "## Mean Absolute Error"
   ]
  },
  {
   "cell_type": "code",
   "execution_count": 19,
   "id": "double-steam",
   "metadata": {
    "execution": {
     "iopub.execute_input": "2021-08-21T07:31:33.798697Z",
     "iopub.status.busy": "2021-08-21T07:31:33.798140Z",
     "iopub.status.idle": "2021-08-21T07:31:33.802154Z",
     "shell.execute_reply": "2021-08-21T07:31:33.802604Z"
    },
    "papermill": {
     "duration": 0.099094,
     "end_time": "2021-08-21T07:31:33.802765",
     "exception": false,
     "start_time": "2021-08-21T07:31:33.703671",
     "status": "completed"
    },
    "tags": []
   },
   "outputs": [],
   "source": [
    "def MAE(true_img, pred_img):\n",
    "    true_img = true_img // 255.\n",
    "    pred_img = pred_img // 255.\n",
    "    img1 = true_img.flatten()\n",
    "    img2 = pred_img.flatten()\n",
    "    metric = np.mean((np.absolute(np.subtract(img1, img2))))\n",
    "    return metric"
   ]
  },
  {
   "cell_type": "code",
   "execution_count": 20,
   "id": "interstate-chassis",
   "metadata": {
    "execution": {
     "iopub.execute_input": "2021-08-21T07:31:34.043043Z",
     "iopub.status.busy": "2021-08-21T07:31:34.042420Z",
     "iopub.status.idle": "2021-08-21T07:31:34.047462Z",
     "shell.execute_reply": "2021-08-21T07:31:34.047870Z"
    },
    "papermill": {
     "duration": 0.151819,
     "end_time": "2021-08-21T07:31:34.048037",
     "exception": false,
     "start_time": "2021-08-21T07:31:33.896218",
     "status": "completed"
    },
    "tags": []
   },
   "outputs": [
    {
     "name": "stdout",
     "output_type": "stream",
     "text": [
      "0.0432\n"
     ]
    }
   ],
   "source": [
    "print(MAE(srt_sr_normal_imgs[11], srt_hr_normal_imgs[11]))"
   ]
  },
  {
   "cell_type": "code",
   "execution_count": 21,
   "id": "better-chorus",
   "metadata": {
    "execution": {
     "iopub.execute_input": "2021-08-21T07:31:34.237900Z",
     "iopub.status.busy": "2021-08-21T07:31:34.237290Z",
     "iopub.status.idle": "2021-08-21T07:31:34.281145Z",
     "shell.execute_reply": "2021-08-21T07:31:34.281580Z"
    },
    "papermill": {
     "duration": 0.141021,
     "end_time": "2021-08-21T07:31:34.281750",
     "exception": false,
     "start_time": "2021-08-21T07:31:34.140729",
     "status": "completed"
    },
    "tags": []
   },
   "outputs": [
    {
     "name": "stdout",
     "output_type": "stream",
     "text": [
      "[0.0348, 0.16626666666666667, 0.1168, 0.11586666666666667, 0.12786666666666666, 0.11933333333333333, 0.14946666666666666, 0.13413333333333333, 0.04613333333333333, 0.09546666666666667]\n"
     ]
    }
   ],
   "source": [
    "mae_normal_arr=[]\n",
    "for i in range(1, 201):\n",
    "    mae_normal_arr.append(MAE(srt_sr_normal_imgs[i], srt_hr_normal_imgs[i]))\n",
    "print(mae_normal_arr[:10])"
   ]
  },
  {
   "cell_type": "code",
   "execution_count": 22,
   "id": "pediatric-subject",
   "metadata": {
    "execution": {
     "iopub.execute_input": "2021-08-21T07:31:34.473888Z",
     "iopub.status.busy": "2021-08-21T07:31:34.473137Z",
     "iopub.status.idle": "2021-08-21T07:31:34.475792Z",
     "shell.execute_reply": "2021-08-21T07:31:34.476252Z"
    },
    "papermill": {
     "duration": 0.10101,
     "end_time": "2021-08-21T07:31:34.476403",
     "exception": false,
     "start_time": "2021-08-21T07:31:34.375393",
     "status": "completed"
    },
    "tags": []
   },
   "outputs": [
    {
     "name": "stdout",
     "output_type": "stream",
     "text": [
      "mean:  0.07971333333333334  std:  0.0466874920199309\n"
     ]
    }
   ],
   "source": [
    "mae_normal_mean, mae_normal_std = np.mean(mae_normal_arr), np.std(mae_normal_arr)\n",
    "srcnn_bhp_metric[\"normal_img\"][\"mae\"] = mae_normal_arr\n",
    "print(\"mean: \", mae_normal_mean, \" std: \", mae_normal_std)"
   ]
  },
  {
   "cell_type": "markdown",
   "id": "spread-onion",
   "metadata": {
    "papermill": {
     "duration": 0.093018,
     "end_time": "2021-08-21T07:31:34.663398",
     "exception": false,
     "start_time": "2021-08-21T07:31:34.570380",
     "status": "completed"
    },
    "tags": []
   },
   "source": [
    "## Mean Percentage Error"
   ]
  },
  {
   "cell_type": "code",
   "execution_count": 23,
   "id": "greenhouse-launch",
   "metadata": {
    "execution": {
     "iopub.execute_input": "2021-08-21T07:31:34.855267Z",
     "iopub.status.busy": "2021-08-21T07:31:34.854592Z",
     "iopub.status.idle": "2021-08-21T07:31:34.857474Z",
     "shell.execute_reply": "2021-08-21T07:31:34.856913Z"
    },
    "papermill": {
     "duration": 0.100803,
     "end_time": "2021-08-21T07:31:34.857602",
     "exception": false,
     "start_time": "2021-08-21T07:31:34.756799",
     "status": "completed"
    },
    "tags": []
   },
   "outputs": [],
   "source": [
    "def MPE(true_img, pred_img):\n",
    "    \n",
    "    true_img = true_img // 255.\n",
    "    pred_img = pred_img // 255.\n",
    "    img1 = true_img.flatten()\n",
    "    img2 = pred_img.flatten()\n",
    "    metric = np.mean((np.absolute(np.subtract(img1, img2))))\n",
    "    return metric * 100"
   ]
  },
  {
   "cell_type": "code",
   "execution_count": 24,
   "id": "incorrect-greek",
   "metadata": {
    "execution": {
     "iopub.execute_input": "2021-08-21T07:31:35.051457Z",
     "iopub.status.busy": "2021-08-21T07:31:35.050485Z",
     "iopub.status.idle": "2021-08-21T07:31:35.054799Z",
     "shell.execute_reply": "2021-08-21T07:31:35.055209Z"
    },
    "papermill": {
     "duration": 0.103089,
     "end_time": "2021-08-21T07:31:35.055373",
     "exception": false,
     "start_time": "2021-08-21T07:31:34.952284",
     "status": "completed"
    },
    "tags": []
   },
   "outputs": [
    {
     "name": "stdout",
     "output_type": "stream",
     "text": [
      "12.786666666666665\n"
     ]
    }
   ],
   "source": [
    "print(MPE(srt_sr_normal_imgs[5], srt_hr_normal_imgs[5]))"
   ]
  },
  {
   "cell_type": "code",
   "execution_count": 25,
   "id": "reflected-shopping",
   "metadata": {
    "execution": {
     "iopub.execute_input": "2021-08-21T07:31:35.250083Z",
     "iopub.status.busy": "2021-08-21T07:31:35.249442Z",
     "iopub.status.idle": "2021-08-21T07:31:35.292869Z",
     "shell.execute_reply": "2021-08-21T07:31:35.292289Z"
    },
    "papermill": {
     "duration": 0.142852,
     "end_time": "2021-08-21T07:31:35.293001",
     "exception": false,
     "start_time": "2021-08-21T07:31:35.150149",
     "status": "completed"
    },
    "tags": []
   },
   "outputs": [
    {
     "name": "stdout",
     "output_type": "stream",
     "text": [
      "[3.4799999999999995, 16.62666666666667, 11.68, 11.586666666666668, 12.786666666666665, 11.933333333333334, 14.946666666666667, 13.413333333333332, 4.613333333333333, 9.546666666666667]\n"
     ]
    }
   ],
   "source": [
    "mpe_normal_arr=[]\n",
    "for i in range(1, 201):\n",
    "    mpe_normal_arr.append(MPE(srt_sr_normal_imgs[i], srt_hr_normal_imgs[i]))\n",
    "print(mpe_normal_arr[:10])"
   ]
  },
  {
   "cell_type": "code",
   "execution_count": 26,
   "id": "composite-sector",
   "metadata": {
    "execution": {
     "iopub.execute_input": "2021-08-21T07:31:35.486130Z",
     "iopub.status.busy": "2021-08-21T07:31:35.485510Z",
     "iopub.status.idle": "2021-08-21T07:31:35.488685Z",
     "shell.execute_reply": "2021-08-21T07:31:35.488239Z"
    },
    "papermill": {
     "duration": 0.101517,
     "end_time": "2021-08-21T07:31:35.488807",
     "exception": false,
     "start_time": "2021-08-21T07:31:35.387290",
     "status": "completed"
    },
    "tags": []
   },
   "outputs": [
    {
     "name": "stdout",
     "output_type": "stream",
     "text": [
      "mean:  7.971333333333333  std:  4.66874920199309\n"
     ]
    }
   ],
   "source": [
    "mpe_normal_mean, mpe_normal_std = np.mean(mpe_normal_arr), np.std(mpe_normal_arr)\n",
    "srcnn_bhp_metric[\"normal_img\"][\"mpe\"] = mpe_normal_arr\n",
    "print(\"mean: \", mpe_normal_mean, \" std: \", mpe_normal_std)"
   ]
  },
  {
   "cell_type": "markdown",
   "id": "durable-violation",
   "metadata": {
    "papermill": {
     "duration": 0.094305,
     "end_time": "2021-08-21T07:31:35.678116",
     "exception": false,
     "start_time": "2021-08-21T07:31:35.583811",
     "status": "completed"
    },
    "tags": []
   },
   "source": [
    "### Mean Square Error"
   ]
  },
  {
   "cell_type": "code",
   "execution_count": 27,
   "id": "celtic-injection",
   "metadata": {
    "execution": {
     "iopub.execute_input": "2021-08-21T07:31:35.871161Z",
     "iopub.status.busy": "2021-08-21T07:31:35.870535Z",
     "iopub.status.idle": "2021-08-21T07:31:35.874118Z",
     "shell.execute_reply": "2021-08-21T07:31:35.873384Z"
    },
    "papermill": {
     "duration": 0.102069,
     "end_time": "2021-08-21T07:31:35.874295",
     "exception": false,
     "start_time": "2021-08-21T07:31:35.772226",
     "status": "completed"
    },
    "tags": []
   },
   "outputs": [
    {
     "name": "stdout",
     "output_type": "stream",
     "text": [
      "846.1416 <class 'numpy.float64'>\n"
     ]
    }
   ],
   "source": [
    "ans = sewar.full_ref.mse(srt_sr_normal_imgs[21], srt_hr_normal_imgs[21])\n",
    "print(ans, type(ans))"
   ]
  },
  {
   "cell_type": "code",
   "execution_count": 28,
   "id": "gorgeous-female",
   "metadata": {
    "execution": {
     "iopub.execute_input": "2021-08-21T07:31:36.070258Z",
     "iopub.status.busy": "2021-08-21T07:31:36.069606Z",
     "iopub.status.idle": "2021-08-21T07:31:36.082634Z",
     "shell.execute_reply": "2021-08-21T07:31:36.083256Z"
    },
    "papermill": {
     "duration": 0.112153,
     "end_time": "2021-08-21T07:31:36.083479",
     "exception": false,
     "start_time": "2021-08-21T07:31:35.971326",
     "status": "completed"
    },
    "tags": []
   },
   "outputs": [
    {
     "name": "stdout",
     "output_type": "stream",
     "text": [
      "[978.9128, 7948.232666666667, 3472.8177333333333, 3100.8782666666666, 2746.9689333333336, 2999.3928, 4836.4284, 3968.0497333333333, 924.2489333333333, 6078.1092]\n"
     ]
    }
   ],
   "source": [
    "mse_normal_arr = []\n",
    "for i in range(1,201):\n",
    "    mse_normal_arr.append(sewar.full_ref.mse(srt_sr_normal_imgs[i], srt_hr_normal_imgs[i]))\n",
    "    \n",
    "## Display Results for starting 10 images\n",
    "\n",
    "print(mse_normal_arr[:10])"
   ]
  },
  {
   "cell_type": "code",
   "execution_count": 29,
   "id": "mechanical-journalism",
   "metadata": {
    "execution": {
     "iopub.execute_input": "2021-08-21T07:31:36.278160Z",
     "iopub.status.busy": "2021-08-21T07:31:36.277515Z",
     "iopub.status.idle": "2021-08-21T07:31:36.284889Z",
     "shell.execute_reply": "2021-08-21T07:31:36.284159Z"
    },
    "papermill": {
     "duration": 0.105065,
     "end_time": "2021-08-21T07:31:36.285066",
     "exception": false,
     "start_time": "2021-08-21T07:31:36.180001",
     "status": "completed"
    },
    "tags": []
   },
   "outputs": [
    {
     "name": "stdout",
     "output_type": "stream",
     "text": [
      "mean:  2977.06114  std:  1822.1730707702989\n"
     ]
    }
   ],
   "source": [
    "mse_normal_mean, mse_normal_std = np.mean(mse_normal_arr), np.std(mse_normal_arr)\n",
    "srcnn_bhp_metric[\"normal_img\"][\"mse\"] = mse_normal_arr\n",
    "print(\"mean: \", mse_normal_mean, \" std: \", mse_normal_std)"
   ]
  },
  {
   "cell_type": "markdown",
   "id": "patient-atlantic",
   "metadata": {
    "papermill": {
     "duration": 0.095141,
     "end_time": "2021-08-21T07:31:36.477344",
     "exception": false,
     "start_time": "2021-08-21T07:31:36.382203",
     "status": "completed"
    },
    "tags": []
   },
   "source": [
    "### Root Mean Square Error"
   ]
  },
  {
   "cell_type": "code",
   "execution_count": 30,
   "id": "thick-geography",
   "metadata": {
    "execution": {
     "iopub.execute_input": "2021-08-21T07:31:36.684092Z",
     "iopub.status.busy": "2021-08-21T07:31:36.683475Z",
     "iopub.status.idle": "2021-08-21T07:31:36.687497Z",
     "shell.execute_reply": "2021-08-21T07:31:36.687067Z"
    },
    "papermill": {
     "duration": 0.112445,
     "end_time": "2021-08-21T07:31:36.687638",
     "exception": false,
     "start_time": "2021-08-21T07:31:36.575193",
     "status": "completed"
    },
    "tags": []
   },
   "outputs": [
    {
     "name": "stdout",
     "output_type": "stream",
     "text": [
      "89.15286123656753 <class 'numpy.float64'>\n"
     ]
    }
   ],
   "source": [
    "ans = sewar.full_ref.rmse(srt_sr_normal_imgs[2], srt_hr_normal_imgs[2])\n",
    "print(ans, type(ans))"
   ]
  },
  {
   "cell_type": "code",
   "execution_count": 31,
   "id": "absent-piece",
   "metadata": {
    "execution": {
     "iopub.execute_input": "2021-08-21T07:31:36.885011Z",
     "iopub.status.busy": "2021-08-21T07:31:36.884408Z",
     "iopub.status.idle": "2021-08-21T07:31:36.898706Z",
     "shell.execute_reply": "2021-08-21T07:31:36.899125Z"
    },
    "papermill": {
     "duration": 0.11543,
     "end_time": "2021-08-21T07:31:36.899290",
     "exception": false,
     "start_time": "2021-08-21T07:31:36.783860",
     "status": "completed"
    },
    "tags": []
   },
   "outputs": [
    {
     "name": "stdout",
     "output_type": "stream",
     "text": [
      "[31.287582201250387, 89.15286123656753, 58.93061796157693, 55.685530137250794, 52.41153435393142, 54.766712517732884, 69.54443471623017, 62.992457749585654, 30.401462684110008, 77.96222931650941]\n"
     ]
    }
   ],
   "source": [
    "rmse_normal_arr = []\n",
    "for i in range(1,201):\n",
    "    rmse_normal_arr.append(sewar.full_ref.rmse(srt_sr_normal_imgs[i], srt_hr_normal_imgs[i]))\n",
    "    \n",
    "## Display Results for starting 10 images\n",
    "\n",
    "print(rmse_normal_arr[:10])"
   ]
  },
  {
   "cell_type": "code",
   "execution_count": 32,
   "id": "ready-russia",
   "metadata": {
    "execution": {
     "iopub.execute_input": "2021-08-21T07:31:37.097911Z",
     "iopub.status.busy": "2021-08-21T07:31:37.097271Z",
     "iopub.status.idle": "2021-08-21T07:31:37.103031Z",
     "shell.execute_reply": "2021-08-21T07:31:37.103752Z"
    },
    "papermill": {
     "duration": 0.107981,
     "end_time": "2021-08-21T07:31:37.103984",
     "exception": false,
     "start_time": "2021-08-21T07:31:36.996003",
     "status": "completed"
    },
    "tags": []
   },
   "outputs": [
    {
     "name": "stdout",
     "output_type": "stream",
     "text": [
      "mean:  51.991880955982396  std:  16.550089264380283\n"
     ]
    }
   ],
   "source": [
    "rmse_normal_mean, rmse_normal_std = np.mean(rmse_normal_arr), np.std(rmse_normal_arr)\n",
    "srcnn_bhp_metric[\"normal_img\"][\"rmse\"] = rmse_normal_arr\n",
    "print(\"mean: \", rmse_normal_mean, \" std: \", rmse_normal_std)"
   ]
  },
  {
   "cell_type": "markdown",
   "id": "heated-remainder",
   "metadata": {
    "papermill": {
     "duration": 0.09582,
     "end_time": "2021-08-21T07:31:37.296778",
     "exception": false,
     "start_time": "2021-08-21T07:31:37.200958",
     "status": "completed"
    },
    "tags": []
   },
   "source": [
    "### PSNR"
   ]
  },
  {
   "cell_type": "code",
   "execution_count": 33,
   "id": "dominant-constant",
   "metadata": {
    "execution": {
     "iopub.execute_input": "2021-08-21T07:31:37.492877Z",
     "iopub.status.busy": "2021-08-21T07:31:37.492069Z",
     "iopub.status.idle": "2021-08-21T07:31:37.496136Z",
     "shell.execute_reply": "2021-08-21T07:31:37.496526Z"
    },
    "papermill": {
     "duration": 0.104007,
     "end_time": "2021-08-21T07:31:37.496698",
     "exception": false,
     "start_time": "2021-08-21T07:31:37.392691",
     "status": "completed"
    },
    "tags": []
   },
   "outputs": [
    {
     "name": "stdout",
     "output_type": "stream",
     "text": [
      "9.128097892481378 <class 'numpy.float64'>\n"
     ]
    }
   ],
   "source": [
    "ans = sewar.full_ref.psnr(srt_sr_normal_imgs[2], srt_hr_normal_imgs[2])\n",
    "print(ans, type(ans))"
   ]
  },
  {
   "cell_type": "code",
   "execution_count": 34,
   "id": "fresh-percentage",
   "metadata": {
    "execution": {
     "iopub.execute_input": "2021-08-21T07:31:37.716150Z",
     "iopub.status.busy": "2021-08-21T07:31:37.715215Z",
     "iopub.status.idle": "2021-08-21T07:31:37.736765Z",
     "shell.execute_reply": "2021-08-21T07:31:37.737439Z"
    },
    "papermill": {
     "duration": 0.144418,
     "end_time": "2021-08-21T07:31:37.737668",
     "exception": false,
     "start_time": "2021-08-21T07:31:37.593250",
     "status": "completed"
    },
    "tags": []
   },
   "outputs": [
    {
     "name": "stdout",
     "output_type": "stream",
     "text": [
      "[18.223363536056233, 9.128097892481378, 12.723983703831694, 13.215956436962585, 13.742266130447994, 13.360470162481874, 11.285555981424142, 12.145032541456287, 18.472914028374966, 10.293118624699225]\n"
     ]
    }
   ],
   "source": [
    "psnr_normal_arr = []\n",
    "for i in range(1,201):\n",
    "    psnr_normal_arr.append(sewar.full_ref.psnr(srt_sr_normal_imgs[i], srt_hr_normal_imgs[i]))\n",
    "    \n",
    "## Display Results for starting 10 images\n",
    "print(psnr_normal_arr[:10])"
   ]
  },
  {
   "cell_type": "code",
   "execution_count": 35,
   "id": "completed-landing",
   "metadata": {
    "execution": {
     "iopub.execute_input": "2021-08-21T07:31:37.937139Z",
     "iopub.status.busy": "2021-08-21T07:31:37.936531Z",
     "iopub.status.idle": "2021-08-21T07:31:37.939325Z",
     "shell.execute_reply": "2021-08-21T07:31:37.939976Z"
    },
    "papermill": {
     "duration": 0.104751,
     "end_time": "2021-08-21T07:31:37.940190",
     "exception": false,
     "start_time": "2021-08-21T07:31:37.835439",
     "status": "completed"
    },
    "tags": []
   },
   "outputs": [
    {
     "name": "stdout",
     "output_type": "stream",
     "text": [
      "mean:  14.28344948693063  std:  2.9353699906265014\n"
     ]
    }
   ],
   "source": [
    "psnr_normal_mean, psnr_normal_std = np.mean(psnr_normal_arr), np.std(psnr_normal_arr)\n",
    "srcnn_bhp_metric[\"normal_img\"][\"psnr\"] = psnr_normal_arr\n",
    "print(\"mean: \", psnr_normal_mean, \" std: \", psnr_normal_std)"
   ]
  },
  {
   "cell_type": "markdown",
   "id": "harmful-blade",
   "metadata": {
    "papermill": {
     "duration": 0.097157,
     "end_time": "2021-08-21T07:31:38.136491",
     "exception": false,
     "start_time": "2021-08-21T07:31:38.039334",
     "status": "completed"
    },
    "tags": []
   },
   "source": [
    "### Multi-Scale Structural Similarity Index (MS-SSIM)"
   ]
  },
  {
   "cell_type": "code",
   "execution_count": 36,
   "id": "intellectual-laptop",
   "metadata": {
    "execution": {
     "iopub.execute_input": "2021-08-21T07:31:38.339916Z",
     "iopub.status.busy": "2021-08-21T07:31:38.339325Z",
     "iopub.status.idle": "2021-08-21T07:31:38.360307Z",
     "shell.execute_reply": "2021-08-21T07:31:38.360738Z"
    },
    "papermill": {
     "duration": 0.127464,
     "end_time": "2021-08-21T07:31:38.360931",
     "exception": false,
     "start_time": "2021-08-21T07:31:38.233467",
     "status": "completed"
    },
    "tags": []
   },
   "outputs": [
    {
     "name": "stdout",
     "output_type": "stream",
     "text": [
      "0.5843691198971034 <class 'numpy.float64'>\n"
     ]
    }
   ],
   "source": [
    "ans = 1 - (1 + sewar.full_ref.msssim(srt_sr_normal_imgs[5], srt_hr_normal_imgs[5]).real) / 2\n",
    "print(ans, type(ans))"
   ]
  },
  {
   "cell_type": "code",
   "execution_count": 37,
   "id": "engaging-photography",
   "metadata": {
    "execution": {
     "iopub.execute_input": "2021-08-21T07:31:38.561461Z",
     "iopub.status.busy": "2021-08-21T07:31:38.560872Z",
     "iopub.status.idle": "2021-08-21T07:31:41.500279Z",
     "shell.execute_reply": "2021-08-21T07:31:41.499744Z"
    },
    "papermill": {
     "duration": 3.041597,
     "end_time": "2021-08-21T07:31:41.500409",
     "exception": false,
     "start_time": "2021-08-21T07:31:38.458812",
     "status": "completed"
    },
    "tags": []
   },
   "outputs": [
    {
     "name": "stdout",
     "output_type": "stream",
     "text": [
      "[0.535404143194162, 0.6199876161186664, 0.596243355870596, 0.5351039482047453, 0.5843691198971034, 0.5828720939695891, 0.6285468394411587, 0.6241247111863979, 0.5559876116573331, 0.6034616965169046]\n"
     ]
    }
   ],
   "source": [
    "msssim_normal_arr = []\n",
    "for i in range(1,201):\n",
    "    msssim_normal_arr.append(1 - (1 + sewar.full_ref.msssim(srt_sr_normal_imgs[i], srt_hr_normal_imgs[i]).real)/2)\n",
    "    \n",
    "## Display Results for starting 10 images\n",
    "print(msssim_normal_arr[:10])"
   ]
  },
  {
   "cell_type": "code",
   "execution_count": 38,
   "id": "mental-richardson",
   "metadata": {
    "execution": {
     "iopub.execute_input": "2021-08-21T07:31:41.705559Z",
     "iopub.status.busy": "2021-08-21T07:31:41.704741Z",
     "iopub.status.idle": "2021-08-21T07:31:41.708123Z",
     "shell.execute_reply": "2021-08-21T07:31:41.708665Z"
    },
    "papermill": {
     "duration": 0.109543,
     "end_time": "2021-08-21T07:31:41.708845",
     "exception": false,
     "start_time": "2021-08-21T07:31:41.599302",
     "status": "completed"
    },
    "tags": []
   },
   "outputs": [
    {
     "name": "stdout",
     "output_type": "stream",
     "text": [
      "mean:  0.5769020167063872  std:  0.05068597897237969\n"
     ]
    }
   ],
   "source": [
    "msssim_normal_mean, msssim_normal_std = np.mean(msssim_normal_arr), np.std(msssim_normal_arr)\n",
    "srcnn_bhp_metric[\"normal_img\"][\"msssim\"] = msssim_normal_arr\n",
    "print(\"mean: \", msssim_normal_mean,  \" std: \", msssim_normal_std)"
   ]
  },
  {
   "cell_type": "markdown",
   "id": "primary-material",
   "metadata": {
    "papermill": {
     "duration": 0.09938,
     "end_time": "2021-08-21T07:31:41.908066",
     "exception": false,
     "start_time": "2021-08-21T07:31:41.808686",
     "status": "completed"
    },
    "tags": []
   },
   "source": [
    "### Spatial Corelation Coefficient (SCC)"
   ]
  },
  {
   "cell_type": "code",
   "execution_count": 39,
   "id": "special-night",
   "metadata": {
    "execution": {
     "iopub.execute_input": "2021-08-21T07:31:42.111992Z",
     "iopub.status.busy": "2021-08-21T07:31:42.111048Z",
     "iopub.status.idle": "2021-08-21T07:31:42.127457Z",
     "shell.execute_reply": "2021-08-21T07:31:42.126970Z"
    },
    "papermill": {
     "duration": 0.119885,
     "end_time": "2021-08-21T07:31:42.127591",
     "exception": false,
     "start_time": "2021-08-21T07:31:42.007706",
     "status": "completed"
    },
    "tags": []
   },
   "outputs": [
    {
     "name": "stdout",
     "output_type": "stream",
     "text": [
      "0.5161752251671581 <class 'numpy.float64'>\n"
     ]
    }
   ],
   "source": [
    "ans = 1 - ( 1 + sewar.full_ref.scc(srt_sr_normal_imgs[2], srt_hr_normal_imgs[2]) ) / 2\n",
    "print(ans, type(ans))"
   ]
  },
  {
   "cell_type": "code",
   "execution_count": 40,
   "id": "ignored-conjunction",
   "metadata": {
    "execution": {
     "iopub.execute_input": "2021-08-21T07:31:42.330204Z",
     "iopub.status.busy": "2021-08-21T07:31:42.329598Z",
     "iopub.status.idle": "2021-08-21T07:31:44.164645Z",
     "shell.execute_reply": "2021-08-21T07:31:44.163841Z"
    },
    "papermill": {
     "duration": 1.937359,
     "end_time": "2021-08-21T07:31:44.164890",
     "exception": false,
     "start_time": "2021-08-21T07:31:42.227531",
     "status": "completed"
    },
    "tags": []
   },
   "outputs": [
    {
     "name": "stdout",
     "output_type": "stream",
     "text": [
      "[0.5108558117895801, 0.5161752251671581, 0.5206178596155517, 0.5281325971622735, 0.5186005609114779, 0.5260892875402692, 0.5315462377861311, 0.5213716608013848, 0.5127783189841068, 0.5182643033854457]\n"
     ]
    }
   ],
   "source": [
    "scc_normal_arr = []\n",
    "for i in range(1,201):\n",
    "    scc_normal_arr.append(1 - (1 + sewar.full_ref.scc(srt_sr_normal_imgs[i], srt_hr_normal_imgs[i])) / 2)\n",
    "    \n",
    "## Display Results for starting 10 images\n",
    "\n",
    "print(scc_normal_arr[:10])"
   ]
  },
  {
   "cell_type": "code",
   "execution_count": 41,
   "id": "mature-lightweight",
   "metadata": {
    "execution": {
     "iopub.execute_input": "2021-08-21T07:31:44.370086Z",
     "iopub.status.busy": "2021-08-21T07:31:44.369491Z",
     "iopub.status.idle": "2021-08-21T07:31:44.371723Z",
     "shell.execute_reply": "2021-08-21T07:31:44.372156Z"
    },
    "papermill": {
     "duration": 0.106959,
     "end_time": "2021-08-21T07:31:44.372326",
     "exception": false,
     "start_time": "2021-08-21T07:31:44.265367",
     "status": "completed"
    },
    "tags": []
   },
   "outputs": [
    {
     "name": "stdout",
     "output_type": "stream",
     "text": [
      "mean:  0.5164380520094676  std:  0.011526885745627966\n"
     ]
    }
   ],
   "source": [
    "scc_normal_mean, scc_normal_std = np.mean(scc_normal_arr), np.std(scc_normal_arr)\n",
    "srcnn_bhp_metric[\"normal_img\"][\"scc\"] = scc_normal_arr\n",
    "print(\"mean: \", scc_normal_mean,  \" std: \", scc_normal_std)"
   ]
  },
  {
   "cell_type": "markdown",
   "id": "warming-compiler",
   "metadata": {
    "papermill": {
     "duration": 0.098874,
     "end_time": "2021-08-21T07:31:44.571038",
     "exception": false,
     "start_time": "2021-08-21T07:31:44.472164",
     "status": "completed"
    },
    "tags": []
   },
   "source": [
    "### Pixel Based Visual Information Fidelity (vif-p)"
   ]
  },
  {
   "cell_type": "code",
   "execution_count": 42,
   "id": "driven-hands",
   "metadata": {
    "execution": {
     "iopub.execute_input": "2021-08-21T07:31:44.772720Z",
     "iopub.status.busy": "2021-08-21T07:31:44.772148Z",
     "iopub.status.idle": "2021-08-21T07:31:44.798345Z",
     "shell.execute_reply": "2021-08-21T07:31:44.798792Z"
    },
    "papermill": {
     "duration": 0.128353,
     "end_time": "2021-08-21T07:31:44.798969",
     "exception": false,
     "start_time": "2021-08-21T07:31:44.670616",
     "status": "completed"
    },
    "tags": []
   },
   "outputs": [
    {
     "name": "stdout",
     "output_type": "stream",
     "text": [
      "2.5166647993452633e-07 <class 'numpy.float64'>\n"
     ]
    }
   ],
   "source": [
    "ans = sewar.full_ref.vifp(srt_sr_normal_imgs[2], srt_hr_normal_imgs[2])\n",
    "print(ans, type(ans))"
   ]
  },
  {
   "cell_type": "code",
   "execution_count": 43,
   "id": "continent-saver",
   "metadata": {
    "execution": {
     "iopub.execute_input": "2021-08-21T07:31:45.004443Z",
     "iopub.status.busy": "2021-08-21T07:31:45.003856Z",
     "iopub.status.idle": "2021-08-21T07:31:49.158726Z",
     "shell.execute_reply": "2021-08-21T07:31:49.158178Z"
    },
    "papermill": {
     "duration": 4.25853,
     "end_time": "2021-08-21T07:31:49.158880",
     "exception": false,
     "start_time": "2021-08-21T07:31:44.900350",
     "status": "completed"
    },
    "tags": []
   },
   "outputs": [
    {
     "name": "stdout",
     "output_type": "stream",
     "text": [
      "[0.0014616985899619144, 2.5166647993452633e-07, 3.411839159719491e-05, 0.0007860319669046414, 0.00018663961471015, 7.395352415728645e-05, 5.50863454060716e-05, 0.0004014653754527966, 1.0450730396838187e-05, 1.7287310074002792e-05]\n"
     ]
    }
   ],
   "source": [
    "vifp_normal_arr = []\n",
    "for i in range(1,201):\n",
    "    vifp_normal_arr.append(sewar.full_ref.vifp(srt_sr_normal_imgs[i], srt_hr_normal_imgs[i]))\n",
    "    \n",
    "## Display Results for starting 10 images\n",
    "print(vifp_normal_arr[:10])"
   ]
  },
  {
   "cell_type": "code",
   "execution_count": 44,
   "id": "excited-writer",
   "metadata": {
    "execution": {
     "iopub.execute_input": "2021-08-21T07:31:49.366645Z",
     "iopub.status.busy": "2021-08-21T07:31:49.365893Z",
     "iopub.status.idle": "2021-08-21T07:31:49.371132Z",
     "shell.execute_reply": "2021-08-21T07:31:49.370390Z"
    },
    "papermill": {
     "duration": 0.110941,
     "end_time": "2021-08-21T07:31:49.371323",
     "exception": false,
     "start_time": "2021-08-21T07:31:49.260382",
     "status": "completed"
    },
    "tags": []
   },
   "outputs": [
    {
     "name": "stdout",
     "output_type": "stream",
     "text": [
      "mean:  0.00039851245883772515  std:  0.0006898529013349957\n"
     ]
    }
   ],
   "source": [
    "vifp_normal_mean, vifp_normal_std = np.mean(vifp_normal_arr), np.std(vifp_normal_arr)\n",
    "srcnn_bhp_metric[\"normal_img\"][\"vifp\"] = vifp_normal_arr\n",
    "print(\"mean: \", vifp_normal_mean,  \" std: \", vifp_normal_std)"
   ]
  },
  {
   "cell_type": "code",
   "execution_count": 45,
   "id": "painful-january",
   "metadata": {
    "execution": {
     "iopub.execute_input": "2021-08-21T07:31:49.583959Z",
     "iopub.status.busy": "2021-08-21T07:31:49.583050Z",
     "iopub.status.idle": "2021-08-21T07:31:49.585966Z",
     "shell.execute_reply": "2021-08-21T07:31:49.585389Z"
    },
    "papermill": {
     "duration": 0.110309,
     "end_time": "2021-08-21T07:31:49.586101",
     "exception": false,
     "start_time": "2021-08-21T07:31:49.475792",
     "status": "completed"
    },
    "tags": []
   },
   "outputs": [],
   "source": [
    "# os.mkdir('./normal')\n",
    "# os.mkdir('./pneumonia')"
   ]
  },
  {
   "cell_type": "code",
   "execution_count": 46,
   "id": "champion-scanner",
   "metadata": {
    "execution": {
     "iopub.execute_input": "2021-08-21T07:31:49.792663Z",
     "iopub.status.busy": "2021-08-21T07:31:49.791764Z",
     "iopub.status.idle": "2021-08-21T07:31:49.794753Z",
     "shell.execute_reply": "2021-08-21T07:31:49.794248Z"
    },
    "papermill": {
     "duration": 0.107557,
     "end_time": "2021-08-21T07:31:49.794904",
     "exception": false,
     "start_time": "2021-08-21T07:31:49.687347",
     "status": "completed"
    },
    "tags": []
   },
   "outputs": [],
   "source": [
    "# os.mkdir('./normal/error_barplot')\n",
    "# os.mkdir('./normal/scatter')\n",
    "# os.mkdir('./normal/regression')\n",
    "\n",
    "# os.mkdir('./pneumonia/error_barplot')\n",
    "# os.mkdir('./pneumonia/scatter')\n",
    "# os.mkdir('./pneumonia/regression')"
   ]
  },
  {
   "cell_type": "markdown",
   "id": "ordinary-tampa",
   "metadata": {
    "papermill": {
     "duration": 0.100417,
     "end_time": "2021-08-21T07:31:49.997105",
     "exception": false,
     "start_time": "2021-08-21T07:31:49.896688",
     "status": "completed"
    },
    "tags": []
   },
   "source": [
    "### Visualizing Metrics for Normal Images"
   ]
  },
  {
   "cell_type": "code",
   "execution_count": 47,
   "id": "homeless-merit",
   "metadata": {
    "execution": {
     "iopub.execute_input": "2021-08-21T07:31:50.203963Z",
     "iopub.status.busy": "2021-08-21T07:31:50.203305Z",
     "iopub.status.idle": "2021-08-21T07:31:50.208029Z",
     "shell.execute_reply": "2021-08-21T07:31:50.207536Z"
    },
    "papermill": {
     "duration": 0.107565,
     "end_time": "2021-08-21T07:31:50.208184",
     "exception": false,
     "start_time": "2021-08-21T07:31:50.100619",
     "status": "completed"
    },
    "tags": []
   },
   "outputs": [],
   "source": [
    "# ## Define error bar plot function\n",
    "\n",
    "# def error_barplot(error_arr,title='', file_name=''):\n",
    "    \n",
    "#     # Calculate the average\n",
    "#     error_mean = np.mean(error_arr)\n",
    "    \n",
    "#     # Calculate the standard deviation\n",
    "#     error_std = np.std(error_arr)\n",
    "\n",
    "#     # Define labels, positions, bar heights and error bar heights\n",
    "#     labels = ['For 200 Images']\n",
    "#     x_pos = np.arange(len(labels))\n",
    "#     CTEs = [error_mean]\n",
    "#     error = [error_std]\n",
    "    \n",
    "#     # Build the plot\n",
    "#     fig, ax = plt.subplots(figsize=(5,5))\n",
    "#     ax.bar(x_pos, CTEs,yerr=error,align='center',alpha=0.5,ecolor='black',capsize=10)\n",
    "# #     ax.set_ylabel('Mean Percentage Error')\n",
    "#     ax.set_xticks(x_pos)\n",
    "#     ax.set_xticklabels(labels)\n",
    "#     ax.set_title(title)\n",
    "#     ax.yaxis.grid(True)\n",
    "    \n",
    "#     plt.savefig(f\"./normal/error_barplot/{file_name}.png\")\n",
    "\n",
    "#     # Save the figure and show\n",
    "#     plt.tight_layout()\n",
    "#     # plt.savefig('bar_plot_with_error_bars.png')\n",
    "#     plt.show()"
   ]
  },
  {
   "cell_type": "code",
   "execution_count": 48,
   "id": "blocked-currency",
   "metadata": {
    "execution": {
     "iopub.execute_input": "2021-08-21T07:31:50.413206Z",
     "iopub.status.busy": "2021-08-21T07:31:50.412546Z",
     "iopub.status.idle": "2021-08-21T07:31:50.415213Z",
     "shell.execute_reply": "2021-08-21T07:31:50.414752Z"
    },
    "papermill": {
     "duration": 0.106675,
     "end_time": "2021-08-21T07:31:50.415338",
     "exception": false,
     "start_time": "2021-08-21T07:31:50.308663",
     "status": "completed"
    },
    "tags": []
   },
   "outputs": [],
   "source": [
    "# error_barplot(mae_normal_arr,title='Mean Absolute Error (MAE)', file_name='mae_barplot')"
   ]
  },
  {
   "cell_type": "code",
   "execution_count": 49,
   "id": "cubic-intro",
   "metadata": {
    "execution": {
     "iopub.execute_input": "2021-08-21T07:31:50.620338Z",
     "iopub.status.busy": "2021-08-21T07:31:50.619628Z",
     "iopub.status.idle": "2021-08-21T07:31:50.621316Z",
     "shell.execute_reply": "2021-08-21T07:31:50.621720Z"
    },
    "papermill": {
     "duration": 0.106208,
     "end_time": "2021-08-21T07:31:50.621898",
     "exception": false,
     "start_time": "2021-08-21T07:31:50.515690",
     "status": "completed"
    },
    "tags": []
   },
   "outputs": [],
   "source": [
    "# error_barplot(mpe_normal_arr,title='Mean Percentage Error (MPE)', file_name='mpe_barplot')"
   ]
  },
  {
   "cell_type": "code",
   "execution_count": 50,
   "id": "sunrise-binary",
   "metadata": {
    "execution": {
     "iopub.execute_input": "2021-08-21T07:31:50.826737Z",
     "iopub.status.busy": "2021-08-21T07:31:50.826136Z",
     "iopub.status.idle": "2021-08-21T07:31:50.828956Z",
     "shell.execute_reply": "2021-08-21T07:31:50.829442Z"
    },
    "papermill": {
     "duration": 0.107237,
     "end_time": "2021-08-21T07:31:50.829594",
     "exception": false,
     "start_time": "2021-08-21T07:31:50.722357",
     "status": "completed"
    },
    "tags": []
   },
   "outputs": [],
   "source": [
    "# error_barplot(mse_normal_arr,title='Mean Square Error (MSE)', file_name='mse_barplot')"
   ]
  },
  {
   "cell_type": "code",
   "execution_count": 51,
   "id": "solid-patent",
   "metadata": {
    "execution": {
     "iopub.execute_input": "2021-08-21T07:31:51.036973Z",
     "iopub.status.busy": "2021-08-21T07:31:51.036316Z",
     "iopub.status.idle": "2021-08-21T07:31:51.039151Z",
     "shell.execute_reply": "2021-08-21T07:31:51.039605Z"
    },
    "papermill": {
     "duration": 0.109516,
     "end_time": "2021-08-21T07:31:51.039767",
     "exception": false,
     "start_time": "2021-08-21T07:31:50.930251",
     "status": "completed"
    },
    "tags": []
   },
   "outputs": [],
   "source": [
    "# error_barplot(rmse_normal_arr,title='Root Mean Square Error (RMSE)', file_name='rmse_barplot')"
   ]
  },
  {
   "cell_type": "code",
   "execution_count": 52,
   "id": "brazilian-observation",
   "metadata": {
    "execution": {
     "iopub.execute_input": "2021-08-21T07:31:51.243012Z",
     "iopub.status.busy": "2021-08-21T07:31:51.242473Z",
     "iopub.status.idle": "2021-08-21T07:31:51.245911Z",
     "shell.execute_reply": "2021-08-21T07:31:51.246416Z"
    },
    "papermill": {
     "duration": 0.106253,
     "end_time": "2021-08-21T07:31:51.246568",
     "exception": false,
     "start_time": "2021-08-21T07:31:51.140315",
     "status": "completed"
    },
    "tags": []
   },
   "outputs": [],
   "source": [
    "# error_barplot(psnr_normal_arr,title='Peak Signal to Noise Ratio (PSNR)', file_name='psnr_barplot')"
   ]
  },
  {
   "cell_type": "code",
   "execution_count": 53,
   "id": "continued-lighting",
   "metadata": {
    "execution": {
     "iopub.execute_input": "2021-08-21T07:31:51.450536Z",
     "iopub.status.busy": "2021-08-21T07:31:51.450012Z",
     "iopub.status.idle": "2021-08-21T07:31:51.452887Z",
     "shell.execute_reply": "2021-08-21T07:31:51.453374Z"
    },
    "papermill": {
     "duration": 0.106401,
     "end_time": "2021-08-21T07:31:51.453523",
     "exception": false,
     "start_time": "2021-08-21T07:31:51.347122",
     "status": "completed"
    },
    "tags": []
   },
   "outputs": [],
   "source": [
    "# error_barplot(ssim_normal_arr,title='Structural Similarity Index (SSIM)', file_name='ssim_barplot')"
   ]
  },
  {
   "cell_type": "code",
   "execution_count": 54,
   "id": "instrumental-watershed",
   "metadata": {
    "execution": {
     "iopub.execute_input": "2021-08-21T07:31:51.656919Z",
     "iopub.status.busy": "2021-08-21T07:31:51.656377Z",
     "iopub.status.idle": "2021-08-21T07:31:51.659251Z",
     "shell.execute_reply": "2021-08-21T07:31:51.659740Z"
    },
    "papermill": {
     "duration": 0.106189,
     "end_time": "2021-08-21T07:31:51.659908",
     "exception": false,
     "start_time": "2021-08-21T07:31:51.553719",
     "status": "completed"
    },
    "tags": []
   },
   "outputs": [],
   "source": [
    "# error_barplot(msssim_normal_arr,title='Multi-Scale Structure Similarity Index (MS-PSNR)',file_name='msssim_barplot')"
   ]
  },
  {
   "cell_type": "code",
   "execution_count": 55,
   "id": "composed-invitation",
   "metadata": {
    "execution": {
     "iopub.execute_input": "2021-08-21T07:31:51.867912Z",
     "iopub.status.busy": "2021-08-21T07:31:51.867330Z",
     "iopub.status.idle": "2021-08-21T07:31:51.870115Z",
     "shell.execute_reply": "2021-08-21T07:31:51.870603Z"
    },
    "papermill": {
     "duration": 0.108588,
     "end_time": "2021-08-21T07:31:51.870762",
     "exception": false,
     "start_time": "2021-08-21T07:31:51.762174",
     "status": "completed"
    },
    "tags": []
   },
   "outputs": [],
   "source": [
    "# error_barplot(scc_normal_arr,title='Spatial Corelation Coefficient (SCC)', file_name='scc_barplot')"
   ]
  },
  {
   "cell_type": "code",
   "execution_count": 56,
   "id": "frequent-receptor",
   "metadata": {
    "execution": {
     "iopub.execute_input": "2021-08-21T07:31:52.078878Z",
     "iopub.status.busy": "2021-08-21T07:31:52.078252Z",
     "iopub.status.idle": "2021-08-21T07:31:52.081191Z",
     "shell.execute_reply": "2021-08-21T07:31:52.081651Z"
    },
    "papermill": {
     "duration": 0.10933,
     "end_time": "2021-08-21T07:31:52.081815",
     "exception": false,
     "start_time": "2021-08-21T07:31:51.972485",
     "status": "completed"
    },
    "tags": []
   },
   "outputs": [],
   "source": [
    "# error_barplot(vifp_normal_arr,title='Pixel Based Visual Information Fidelity (vif-p)', file_name='vifp_barplot')"
   ]
  },
  {
   "cell_type": "markdown",
   "id": "framed-greeting",
   "metadata": {
    "papermill": {
     "duration": 0.100938,
     "end_time": "2021-08-21T07:31:52.283913",
     "exception": false,
     "start_time": "2021-08-21T07:31:52.182975",
     "status": "completed"
    },
    "tags": []
   },
   "source": [
    "## Scatter Plot for MAE, MPE, MSE, RMSE, PSNR, SSIM, MS-SSIM, SCC and VIF-P"
   ]
  },
  {
   "cell_type": "code",
   "execution_count": 57,
   "id": "intelligent-cologne",
   "metadata": {
    "execution": {
     "iopub.execute_input": "2021-08-21T07:31:52.491166Z",
     "iopub.status.busy": "2021-08-21T07:31:52.490529Z",
     "iopub.status.idle": "2021-08-21T07:31:52.493563Z",
     "shell.execute_reply": "2021-08-21T07:31:52.494118Z"
    },
    "papermill": {
     "duration": 0.108132,
     "end_time": "2021-08-21T07:31:52.494278",
     "exception": false,
     "start_time": "2021-08-21T07:31:52.386146",
     "status": "completed"
    },
    "tags": []
   },
   "outputs": [],
   "source": [
    "# import seaborn as sns\n",
    "# sns.set_theme(style=\"whitegrid\")\n",
    "# sns.set(rc={'figure.figsize':(8,8)})"
   ]
  },
  {
   "cell_type": "code",
   "execution_count": 58,
   "id": "extensive-arrest",
   "metadata": {
    "execution": {
     "iopub.execute_input": "2021-08-21T07:31:52.699749Z",
     "iopub.status.busy": "2021-08-21T07:31:52.699203Z",
     "iopub.status.idle": "2021-08-21T07:31:52.702115Z",
     "shell.execute_reply": "2021-08-21T07:31:52.702607Z"
    },
    "papermill": {
     "duration": 0.106726,
     "end_time": "2021-08-21T07:31:52.702764",
     "exception": false,
     "start_time": "2021-08-21T07:31:52.596038",
     "status": "completed"
    },
    "tags": []
   },
   "outputs": [],
   "source": [
    "# metric_dict = {'Images': [i for i in range(1,201)],\n",
    "#             'MAE' : mae_normal_arr,\n",
    "#             'MPE' : mpe_normal_arr,\n",
    "#             'MSE' : mse_normal_arr,\n",
    "#             'RMSE' : rmse_normal_arr,\n",
    "#             'PSNR' : psnr_normal_arr,\n",
    "#             'SSIM' : ssim_normal_arr,\n",
    "#             'MSSSIM' : msssim_normal_arr,\n",
    "#             'SCC' : scc_normal_arr,\n",
    "#             'VIFP' : vifp_normal_arr\n",
    "#          }\n",
    "# metric_df = pd.DataFrame(metric_dict)"
   ]
  },
  {
   "cell_type": "code",
   "execution_count": 59,
   "id": "spoken-webcam",
   "metadata": {
    "execution": {
     "iopub.execute_input": "2021-08-21T07:31:52.907228Z",
     "iopub.status.busy": "2021-08-21T07:31:52.906641Z",
     "iopub.status.idle": "2021-08-21T07:31:52.909570Z",
     "shell.execute_reply": "2021-08-21T07:31:52.910108Z"
    },
    "papermill": {
     "duration": 0.106766,
     "end_time": "2021-08-21T07:31:52.910258",
     "exception": false,
     "start_time": "2021-08-21T07:31:52.803492",
     "status": "completed"
    },
    "tags": []
   },
   "outputs": [],
   "source": [
    "# def getScatterPlot(y_val,df,title='', file_name=''):\n",
    "    \n",
    "#     sns_plt = sns.scatterplot(x=metric_df.Images, y=y_val, data=df, linewidth=2.5).set_title(title)\n",
    "#     sns_fig = sns_plt.get_figure()\n",
    "#     sns_fig.savefig(f\"./normal/scatter/{file_name}.png\")"
   ]
  },
  {
   "cell_type": "code",
   "execution_count": 60,
   "id": "advanced-pasta",
   "metadata": {
    "execution": {
     "iopub.execute_input": "2021-08-21T07:31:53.120498Z",
     "iopub.status.busy": "2021-08-21T07:31:53.119906Z",
     "iopub.status.idle": "2021-08-21T07:31:53.123117Z",
     "shell.execute_reply": "2021-08-21T07:31:53.123585Z"
    },
    "papermill": {
     "duration": 0.111361,
     "end_time": "2021-08-21T07:31:53.123751",
     "exception": false,
     "start_time": "2021-08-21T07:31:53.012390",
     "status": "completed"
    },
    "tags": []
   },
   "outputs": [],
   "source": [
    "# def RegPlot(y_val,df,title='', file_name=''):\n",
    "    \n",
    "#     sns_plt = sns.regplot(x=metric_df.Images, y=y_val, data=df).set_title(title)\n",
    "#     sns_fig = sns_plt.get_figure()\n",
    "#     sns_fig.savefig(f\"./normal/regression/{file_name}.png\")"
   ]
  },
  {
   "cell_type": "code",
   "execution_count": 61,
   "id": "aboriginal-power",
   "metadata": {
    "execution": {
     "iopub.execute_input": "2021-08-21T07:31:53.328950Z",
     "iopub.status.busy": "2021-08-21T07:31:53.328402Z",
     "iopub.status.idle": "2021-08-21T07:31:53.331907Z",
     "shell.execute_reply": "2021-08-21T07:31:53.332353Z"
    },
    "papermill": {
     "duration": 0.107366,
     "end_time": "2021-08-21T07:31:53.332502",
     "exception": false,
     "start_time": "2021-08-21T07:31:53.225136",
     "status": "completed"
    },
    "tags": []
   },
   "outputs": [],
   "source": [
    "# getScatterPlot(metric_df.MAE, metric_df, 'Mean Absolute Error', 'mae_scatter')"
   ]
  },
  {
   "cell_type": "code",
   "execution_count": 62,
   "id": "agricultural-skating",
   "metadata": {
    "execution": {
     "iopub.execute_input": "2021-08-21T07:31:53.537580Z",
     "iopub.status.busy": "2021-08-21T07:31:53.537055Z",
     "iopub.status.idle": "2021-08-21T07:31:53.540382Z",
     "shell.execute_reply": "2021-08-21T07:31:53.540810Z"
    },
    "papermill": {
     "duration": 0.107219,
     "end_time": "2021-08-21T07:31:53.540982",
     "exception": false,
     "start_time": "2021-08-21T07:31:53.433763",
     "status": "completed"
    },
    "tags": []
   },
   "outputs": [],
   "source": [
    "# getScatterPlot(metric_df.MPE, metric_df, title='Mean Percentage Error', file_name='mpe_scatter')"
   ]
  },
  {
   "cell_type": "code",
   "execution_count": 63,
   "id": "headed-nicholas",
   "metadata": {
    "execution": {
     "iopub.execute_input": "2021-08-21T07:31:53.750074Z",
     "iopub.status.busy": "2021-08-21T07:31:53.749155Z",
     "iopub.status.idle": "2021-08-21T07:31:53.751758Z",
     "shell.execute_reply": "2021-08-21T07:31:53.751329Z"
    },
    "papermill": {
     "duration": 0.107288,
     "end_time": "2021-08-21T07:31:53.751904",
     "exception": false,
     "start_time": "2021-08-21T07:31:53.644616",
     "status": "completed"
    },
    "tags": []
   },
   "outputs": [],
   "source": [
    "# getScatterPlot(metric_df.MSE, metric_df, title='Mean Square Error', file_name='mse_scatter')"
   ]
  },
  {
   "cell_type": "code",
   "execution_count": 64,
   "id": "turned-worcester",
   "metadata": {
    "execution": {
     "iopub.execute_input": "2021-08-21T07:31:53.959736Z",
     "iopub.status.busy": "2021-08-21T07:31:53.959131Z",
     "iopub.status.idle": "2021-08-21T07:31:53.960876Z",
     "shell.execute_reply": "2021-08-21T07:31:53.961337Z"
    },
    "papermill": {
     "duration": 0.107913,
     "end_time": "2021-08-21T07:31:53.961494",
     "exception": false,
     "start_time": "2021-08-21T07:31:53.853581",
     "status": "completed"
    },
    "tags": []
   },
   "outputs": [],
   "source": [
    "# getScatterPlot(metric_df.RMSE, metric_df, title='Root Mean Square Error', file_name='rmse_scatter')"
   ]
  },
  {
   "cell_type": "code",
   "execution_count": 65,
   "id": "filled-commitment",
   "metadata": {
    "execution": {
     "iopub.execute_input": "2021-08-21T07:31:54.174744Z",
     "iopub.status.busy": "2021-08-21T07:31:54.174175Z",
     "iopub.status.idle": "2021-08-21T07:31:54.176887Z",
     "shell.execute_reply": "2021-08-21T07:31:54.177286Z"
    },
    "papermill": {
     "duration": 0.110704,
     "end_time": "2021-08-21T07:31:54.177447",
     "exception": false,
     "start_time": "2021-08-21T07:31:54.066743",
     "status": "completed"
    },
    "tags": []
   },
   "outputs": [],
   "source": [
    "# getScatterPlot(metric_df.PSNR, metric_df, title='Peak Signal to Noise Ratio', file_name='psnr_scatter')"
   ]
  },
  {
   "cell_type": "code",
   "execution_count": 66,
   "id": "golden-accident",
   "metadata": {
    "execution": {
     "iopub.execute_input": "2021-08-21T07:31:54.385272Z",
     "iopub.status.busy": "2021-08-21T07:31:54.384557Z",
     "iopub.status.idle": "2021-08-21T07:31:54.387368Z",
     "shell.execute_reply": "2021-08-21T07:31:54.387789Z"
    },
    "papermill": {
     "duration": 0.108366,
     "end_time": "2021-08-21T07:31:54.387983",
     "exception": false,
     "start_time": "2021-08-21T07:31:54.279617",
     "status": "completed"
    },
    "tags": []
   },
   "outputs": [],
   "source": [
    "# getScatterPlot(metric_df.SSIM, metric_df, title='Structure Similarity Index', file_name='ssim_scatter')"
   ]
  },
  {
   "cell_type": "code",
   "execution_count": 67,
   "id": "latin-disclosure",
   "metadata": {
    "execution": {
     "iopub.execute_input": "2021-08-21T07:31:54.596377Z",
     "iopub.status.busy": "2021-08-21T07:31:54.595793Z",
     "iopub.status.idle": "2021-08-21T07:31:54.598495Z",
     "shell.execute_reply": "2021-08-21T07:31:54.598952Z"
    },
    "papermill": {
     "duration": 0.108656,
     "end_time": "2021-08-21T07:31:54.599125",
     "exception": false,
     "start_time": "2021-08-21T07:31:54.490469",
     "status": "completed"
    },
    "tags": []
   },
   "outputs": [],
   "source": [
    "# getScatterPlot(metric_df.MSSSIM, metric_df, title='Multi-Scale Structure Similarity Index', file_name='msssim_scatter')"
   ]
  },
  {
   "cell_type": "code",
   "execution_count": 68,
   "id": "adapted-jumping",
   "metadata": {
    "execution": {
     "iopub.execute_input": "2021-08-21T07:31:54.807528Z",
     "iopub.status.busy": "2021-08-21T07:31:54.806946Z",
     "iopub.status.idle": "2021-08-21T07:31:54.809788Z",
     "shell.execute_reply": "2021-08-21T07:31:54.810253Z"
    },
    "papermill": {
     "duration": 0.10833,
     "end_time": "2021-08-21T07:31:54.810411",
     "exception": false,
     "start_time": "2021-08-21T07:31:54.702081",
     "status": "completed"
    },
    "tags": []
   },
   "outputs": [],
   "source": [
    "# getScatterPlot(metric_df.SCC, metric_df, title='Spatial Corelation Coefficient', file_name='scc_scatter')"
   ]
  },
  {
   "cell_type": "code",
   "execution_count": 69,
   "id": "noble-piece",
   "metadata": {
    "execution": {
     "iopub.execute_input": "2021-08-21T07:31:55.021029Z",
     "iopub.status.busy": "2021-08-21T07:31:55.020369Z",
     "iopub.status.idle": "2021-08-21T07:31:55.024012Z",
     "shell.execute_reply": "2021-08-21T07:31:55.023480Z"
    },
    "papermill": {
     "duration": 0.110046,
     "end_time": "2021-08-21T07:31:55.024150",
     "exception": false,
     "start_time": "2021-08-21T07:31:54.914104",
     "status": "completed"
    },
    "tags": []
   },
   "outputs": [],
   "source": [
    "# getScatterPlot(metric_df.VIFP, metric_df, title='Pixel Based Visual Information Fidelity', file_name='vifp_scatter')"
   ]
  },
  {
   "cell_type": "markdown",
   "id": "reflected-elephant",
   "metadata": {
    "execution": {
     "iopub.execute_input": "2021-05-07T01:27:37.197269Z",
     "iopub.status.busy": "2021-05-07T01:27:37.196191Z",
     "iopub.status.idle": "2021-05-07T01:27:37.492641Z",
     "shell.execute_reply": "2021-05-07T01:27:37.493109Z"
    },
    "papermill": {
     "duration": 0.102308,
     "end_time": "2021-08-21T07:31:55.231746",
     "exception": false,
     "start_time": "2021-08-21T07:31:55.129438",
     "status": "completed"
    },
    "tags": []
   },
   "source": [
    "### Regression Plot for MAE, MPE, MSE, RMSE, PSNR, SSIM, MS-SSIM, SCC and VIF-P"
   ]
  },
  {
   "cell_type": "code",
   "execution_count": 70,
   "id": "unable-wisconsin",
   "metadata": {
    "execution": {
     "iopub.execute_input": "2021-08-21T07:31:55.441545Z",
     "iopub.status.busy": "2021-08-21T07:31:55.440700Z",
     "iopub.status.idle": "2021-08-21T07:31:55.443663Z",
     "shell.execute_reply": "2021-08-21T07:31:55.443220Z"
    },
    "papermill": {
     "duration": 0.109182,
     "end_time": "2021-08-21T07:31:55.443797",
     "exception": false,
     "start_time": "2021-08-21T07:31:55.334615",
     "status": "completed"
    },
    "tags": []
   },
   "outputs": [],
   "source": [
    "# RegPlot(metric_df.MAE, metric_df, 'Mean Absolute Error', 'mae_scatter')"
   ]
  },
  {
   "cell_type": "code",
   "execution_count": 71,
   "id": "bored-cornwall",
   "metadata": {
    "execution": {
     "iopub.execute_input": "2021-08-21T07:31:55.657207Z",
     "iopub.status.busy": "2021-08-21T07:31:55.656168Z",
     "iopub.status.idle": "2021-08-21T07:31:55.658376Z",
     "shell.execute_reply": "2021-08-21T07:31:55.658768Z"
    },
    "papermill": {
     "duration": 0.111802,
     "end_time": "2021-08-21T07:31:55.658949",
     "exception": false,
     "start_time": "2021-08-21T07:31:55.547147",
     "status": "completed"
    },
    "tags": []
   },
   "outputs": [],
   "source": [
    "# RegPlot(metric_df.MPE, metric_df, title='Mean Percentage Error', file_name='mpe_scatter')"
   ]
  },
  {
   "cell_type": "code",
   "execution_count": 72,
   "id": "electrical-hunger",
   "metadata": {
    "execution": {
     "iopub.execute_input": "2021-08-21T07:31:55.869310Z",
     "iopub.status.busy": "2021-08-21T07:31:55.868395Z",
     "iopub.status.idle": "2021-08-21T07:31:55.871652Z",
     "shell.execute_reply": "2021-08-21T07:31:55.872137Z"
    },
    "papermill": {
     "duration": 0.111081,
     "end_time": "2021-08-21T07:31:55.872298",
     "exception": false,
     "start_time": "2021-08-21T07:31:55.761217",
     "status": "completed"
    },
    "tags": []
   },
   "outputs": [],
   "source": [
    "# RegPlot(metric_df.MSE, metric_df, title='Mean Square Error', file_name='mse_scatter')"
   ]
  },
  {
   "cell_type": "code",
   "execution_count": 73,
   "id": "quiet-referral",
   "metadata": {
    "execution": {
     "iopub.execute_input": "2021-08-21T07:31:56.082169Z",
     "iopub.status.busy": "2021-08-21T07:31:56.081301Z",
     "iopub.status.idle": "2021-08-21T07:31:56.085448Z",
     "shell.execute_reply": "2021-08-21T07:31:56.084890Z"
    },
    "papermill": {
     "duration": 0.111176,
     "end_time": "2021-08-21T07:31:56.085574",
     "exception": false,
     "start_time": "2021-08-21T07:31:55.974398",
     "status": "completed"
    },
    "tags": []
   },
   "outputs": [],
   "source": [
    "# RegPlot(metric_df.RMSE, metric_df, title='Root Mean Square Error', file_name='rmse_scatter')"
   ]
  },
  {
   "cell_type": "code",
   "execution_count": 74,
   "id": "metallic-triple",
   "metadata": {
    "execution": {
     "iopub.execute_input": "2021-08-21T07:31:56.294485Z",
     "iopub.status.busy": "2021-08-21T07:31:56.293601Z",
     "iopub.status.idle": "2021-08-21T07:31:56.296034Z",
     "shell.execute_reply": "2021-08-21T07:31:56.296469Z"
    },
    "papermill": {
     "duration": 0.1088,
     "end_time": "2021-08-21T07:31:56.296626",
     "exception": false,
     "start_time": "2021-08-21T07:31:56.187826",
     "status": "completed"
    },
    "tags": []
   },
   "outputs": [],
   "source": [
    "# RegPlot(metric_df.PSNR, metric_df, title='Peak Signal to Noise Ratio', file_name='psnr_scatter')"
   ]
  },
  {
   "cell_type": "code",
   "execution_count": 75,
   "id": "crucial-hawaiian",
   "metadata": {
    "execution": {
     "iopub.execute_input": "2021-08-21T07:31:56.508794Z",
     "iopub.status.busy": "2021-08-21T07:31:56.508218Z",
     "iopub.status.idle": "2021-08-21T07:31:56.511457Z",
     "shell.execute_reply": "2021-08-21T07:31:56.511887Z"
    },
    "papermill": {
     "duration": 0.111951,
     "end_time": "2021-08-21T07:31:56.512060",
     "exception": false,
     "start_time": "2021-08-21T07:31:56.400109",
     "status": "completed"
    },
    "tags": []
   },
   "outputs": [],
   "source": [
    "# RegPlot(metric_df.SSIM, metric_df, title='Structure Similarity Index', file_name='ssim_scatter')"
   ]
  },
  {
   "cell_type": "code",
   "execution_count": 76,
   "id": "hearing-lighting",
   "metadata": {
    "execution": {
     "iopub.execute_input": "2021-08-21T07:31:56.723421Z",
     "iopub.status.busy": "2021-08-21T07:31:56.722702Z",
     "iopub.status.idle": "2021-08-21T07:31:56.725092Z",
     "shell.execute_reply": "2021-08-21T07:31:56.725509Z"
    },
    "papermill": {
     "duration": 0.110356,
     "end_time": "2021-08-21T07:31:56.725681",
     "exception": false,
     "start_time": "2021-08-21T07:31:56.615325",
     "status": "completed"
    },
    "tags": []
   },
   "outputs": [],
   "source": [
    "# RegPlot(metric_df.MSSSIM, metric_df, title='Multi-Scale Structure Similarity Index', file_name='msssim_scatter')"
   ]
  },
  {
   "cell_type": "code",
   "execution_count": 77,
   "id": "applicable-campaign",
   "metadata": {
    "execution": {
     "iopub.execute_input": "2021-08-21T07:31:56.936211Z",
     "iopub.status.busy": "2021-08-21T07:31:56.935519Z",
     "iopub.status.idle": "2021-08-21T07:31:56.937371Z",
     "shell.execute_reply": "2021-08-21T07:31:56.937815Z"
    },
    "papermill": {
     "duration": 0.108828,
     "end_time": "2021-08-21T07:31:56.938005",
     "exception": false,
     "start_time": "2021-08-21T07:31:56.829177",
     "status": "completed"
    },
    "tags": []
   },
   "outputs": [],
   "source": [
    "# RegPlot(metric_df.SCC, metric_df, title='Spatial Corelation Coefficient', file_name='scc_scatter')"
   ]
  },
  {
   "cell_type": "code",
   "execution_count": 78,
   "id": "subtle-founder",
   "metadata": {
    "execution": {
     "iopub.execute_input": "2021-08-21T07:31:57.148809Z",
     "iopub.status.busy": "2021-08-21T07:31:57.148230Z",
     "iopub.status.idle": "2021-08-21T07:31:57.151211Z",
     "shell.execute_reply": "2021-08-21T07:31:57.151651Z"
    },
    "papermill": {
     "duration": 0.110873,
     "end_time": "2021-08-21T07:31:57.151813",
     "exception": false,
     "start_time": "2021-08-21T07:31:57.040940",
     "status": "completed"
    },
    "tags": []
   },
   "outputs": [],
   "source": [
    "# RegPlot(metric_df.VIFP, metric_df, title='Pixel Based Visual Information Fidelity', file_name='vifp_scatter')"
   ]
  },
  {
   "cell_type": "markdown",
   "id": "looking-nudist",
   "metadata": {
    "papermill": {
     "duration": 0.102262,
     "end_time": "2021-08-21T07:31:57.356461",
     "exception": false,
     "start_time": "2021-08-21T07:31:57.254199",
     "status": "completed"
    },
    "tags": []
   },
   "source": [
    "## Metric Calculations for Diseased Images"
   ]
  },
  {
   "cell_type": "code",
   "execution_count": 79,
   "id": "partial-glass",
   "metadata": {
    "execution": {
     "iopub.execute_input": "2021-08-21T07:31:57.563870Z",
     "iopub.status.busy": "2021-08-21T07:31:57.563311Z",
     "iopub.status.idle": "2021-08-21T07:31:57.569607Z",
     "shell.execute_reply": "2021-08-21T07:31:57.570056Z"
    },
    "papermill": {
     "duration": 0.111782,
     "end_time": "2021-08-21T07:31:57.570222",
     "exception": false,
     "start_time": "2021-08-21T07:31:57.458440",
     "status": "completed"
    },
    "tags": []
   },
   "outputs": [],
   "source": [
    "## Load Images from directory\n",
    "\n",
    "def load_data_from_dirs(dirs, ext):\n",
    "    files = []\n",
    "    file_names = []\n",
    "    count = 0\n",
    "    res = {}\n",
    "    \n",
    "    for d in dirs:\n",
    "        for f in os.listdir(d):\n",
    "            if f.endswith(ext):\n",
    "                image = cv2.imread(os.path.join(d,f))\n",
    "                files.append(image)\n",
    "                file_names.append(os.path.join(d,f))\n",
    "                count = count + 1\n",
    "                res[int(os.path.join(d,f)[36:-4])] = image\n",
    "    \n",
    "    print('list of files: ',len(files))\n",
    "    print('list of files path: ', len(file_names), 'file path: ', file_names[0])\n",
    "    print('Files Read: ',count)\n",
    "    \n",
    "    return res"
   ]
  },
  {
   "cell_type": "code",
   "execution_count": 80,
   "id": "alpine-initial",
   "metadata": {
    "execution": {
     "iopub.execute_input": "2021-08-21T07:31:57.778472Z",
     "iopub.status.busy": "2021-08-21T07:31:57.777924Z",
     "iopub.status.idle": "2021-08-21T07:31:58.574618Z",
     "shell.execute_reply": "2021-08-21T07:31:58.573926Z"
    },
    "papermill": {
     "duration": 0.901815,
     "end_time": "2021-08-21T07:31:58.574820",
     "exception": false,
     "start_time": "2021-08-21T07:31:57.673005",
     "status": "completed"
    },
    "tags": []
   },
   "outputs": [
    {
     "name": "stdout",
     "output_type": "stream",
     "text": [
      "34\n",
      "directory path:  ../input/srcnn-bhp-imgs/HR_1_imgs/\n",
      "directories:  ['../input/srcnn-bhp-imgs/HR_1_imgs/']\n",
      "list of files:  216\n",
      "list of files path:  216 file path:  ../input/srcnn-bhp-imgs/HR_1_imgs/HR189.png\n",
      "Files Read:  216\n"
     ]
    }
   ],
   "source": [
    "## Load HR Images from directory\n",
    "print(len('../input/srcnn-bhp-imgs/HR_1_imgs/'))\n",
    "hr_pneumonia_imgs = load_data(\"../input/srcnn-bhp-imgs/HR_1_imgs/\", \".png\")"
   ]
  },
  {
   "cell_type": "code",
   "execution_count": 81,
   "id": "christian-triple",
   "metadata": {
    "execution": {
     "iopub.execute_input": "2021-08-21T07:31:58.793022Z",
     "iopub.status.busy": "2021-08-21T07:31:58.792321Z",
     "iopub.status.idle": "2021-08-21T07:31:58.796568Z",
     "shell.execute_reply": "2021-08-21T07:31:58.796109Z"
    },
    "papermill": {
     "duration": 0.112584,
     "end_time": "2021-08-21T07:31:58.796710",
     "exception": false,
     "start_time": "2021-08-21T07:31:58.684126",
     "status": "completed"
    },
    "tags": []
   },
   "outputs": [],
   "source": [
    "from collections import OrderedDict\n",
    "# sorted(test_list, key = int)\n",
    "srt_hr_pneumonia_imgs = OrderedDict(sorted(hr_pneumonia_imgs.items()))"
   ]
  },
  {
   "cell_type": "code",
   "execution_count": 82,
   "id": "burning-curtis",
   "metadata": {
    "execution": {
     "iopub.execute_input": "2021-08-21T07:31:59.034193Z",
     "iopub.status.busy": "2021-08-21T07:31:59.033232Z",
     "iopub.status.idle": "2021-08-21T07:31:59.739826Z",
     "shell.execute_reply": "2021-08-21T07:31:59.739337Z"
    },
    "papermill": {
     "duration": 0.83595,
     "end_time": "2021-08-21T07:31:59.739979",
     "exception": false,
     "start_time": "2021-08-21T07:31:58.904029",
     "status": "completed"
    },
    "tags": []
   },
   "outputs": [
    {
     "data": {
      "image/png": "[encoded data removed]",
      "text/plain": [
       "<Figure size 720x720 with 12 Axes>"
      ]
     },
     "metadata": {
      "needs_background": "light"
     },
     "output_type": "display_data"
    }
   ],
   "source": [
    "## Visualize few chest x-ray images\n",
    "\n",
    "displayImages(srt_hr_pneumonia_imgs)"
   ]
  },
  {
   "cell_type": "code",
   "execution_count": 83,
   "id": "latin-origin",
   "metadata": {
    "execution": {
     "iopub.execute_input": "2021-08-21T07:31:59.965491Z",
     "iopub.status.busy": "2021-08-21T07:31:59.964737Z",
     "iopub.status.idle": "2021-08-21T07:32:00.667062Z",
     "shell.execute_reply": "2021-08-21T07:32:00.666132Z"
    },
    "papermill": {
     "duration": 0.817887,
     "end_time": "2021-08-21T07:32:00.667245",
     "exception": false,
     "start_time": "2021-08-21T07:31:59.849358",
     "status": "completed"
    },
    "tags": []
   },
   "outputs": [
    {
     "name": "stdout",
     "output_type": "stream",
     "text": [
      "directory path:  ../input/srcnn-bhp-imgs/SR_1_imgs/\n",
      "directories:  ['../input/srcnn-bhp-imgs/SR_1_imgs/']\n",
      "list of files:  216\n",
      "list of files path:  216 file path:  ../input/srcnn-bhp-imgs/SR_1_imgs/SR14.png\n",
      "Files Read:  216\n"
     ]
    }
   ],
   "source": [
    "## Load SR Images from directory\n",
    "\n",
    "sr_pneumonia_imgs = load_data(\"../input/srcnn-bhp-imgs/SR_1_imgs/\", \".png\")"
   ]
  },
  {
   "cell_type": "code",
   "execution_count": 84,
   "id": "expanded-carnival",
   "metadata": {
    "execution": {
     "iopub.execute_input": "2021-08-21T07:32:00.916312Z",
     "iopub.status.busy": "2021-08-21T07:32:00.915467Z",
     "iopub.status.idle": "2021-08-21T07:32:00.917140Z",
     "shell.execute_reply": "2021-08-21T07:32:00.917665Z"
    },
    "papermill": {
     "duration": 0.123054,
     "end_time": "2021-08-21T07:32:00.917844",
     "exception": false,
     "start_time": "2021-08-21T07:32:00.794790",
     "status": "completed"
    },
    "tags": []
   },
   "outputs": [],
   "source": [
    "from collections import OrderedDict\n",
    "# sorted(test_list, key = int)\n",
    "srt_sr_pneumonia_imgs = OrderedDict(sorted(sr_pneumonia_imgs.items()))"
   ]
  },
  {
   "cell_type": "code",
   "execution_count": 85,
   "id": "pacific-wellington",
   "metadata": {
    "execution": {
     "iopub.execute_input": "2021-08-21T07:32:01.185185Z",
     "iopub.status.busy": "2021-08-21T07:32:01.173652Z",
     "iopub.status.idle": "2021-08-21T07:32:01.730283Z",
     "shell.execute_reply": "2021-08-21T07:32:01.730730Z"
    },
    "papermill": {
     "duration": 0.694782,
     "end_time": "2021-08-21T07:32:01.730910",
     "exception": false,
     "start_time": "2021-08-21T07:32:01.036128",
     "status": "completed"
    },
    "tags": []
   },
   "outputs": [
    {
     "data": {
      "image/png": "[encoded data removed]",
      "text/plain": [
       "<Figure size 720x720 with 12 Axes>"
      ]
     },
     "metadata": {
      "needs_background": "light"
     },
     "output_type": "display_data"
    }
   ],
   "source": [
    "## Visualize few chest x-ray images\n",
    "\n",
    "displayImages(srt_sr_pneumonia_imgs)"
   ]
  },
  {
   "cell_type": "markdown",
   "id": "introductory-census",
   "metadata": {
    "papermill": {
     "duration": 0.114913,
     "end_time": "2021-08-21T07:32:01.964369",
     "exception": false,
     "start_time": "2021-08-21T07:32:01.849456",
     "status": "completed"
    },
    "tags": []
   },
   "source": [
    "## Metric Calculations for Diseased Images"
   ]
  },
  {
   "cell_type": "markdown",
   "id": "racial-postcard",
   "metadata": {
    "papermill": {
     "duration": 0.116321,
     "end_time": "2021-08-21T07:32:02.197867",
     "exception": false,
     "start_time": "2021-08-21T07:32:02.081546",
     "status": "completed"
    },
    "tags": []
   },
   "source": [
    "### SSIM"
   ]
  },
  {
   "cell_type": "code",
   "execution_count": 86,
   "id": "black-means",
   "metadata": {
    "execution": {
     "iopub.execute_input": "2021-08-21T07:32:02.438888Z",
     "iopub.status.busy": "2021-08-21T07:32:02.437874Z",
     "iopub.status.idle": "2021-08-21T07:32:02.453913Z",
     "shell.execute_reply": "2021-08-21T07:32:02.454356Z"
    },
    "papermill": {
     "duration": 0.138684,
     "end_time": "2021-08-21T07:32:02.454533",
     "exception": false,
     "start_time": "2021-08-21T07:32:02.315849",
     "status": "completed"
    },
    "tags": []
   },
   "outputs": [
    {
     "data": {
      "text/plain": [
       "0.5944344240115778"
      ]
     },
     "execution_count": 86,
     "metadata": {},
     "output_type": "execute_result"
    }
   ],
   "source": [
    "1 - (1 + sewar.full_ref.ssim(srt_sr_pneumonia_imgs[12],srt_hr_pneumonia_imgs[12])[0])/2"
   ]
  },
  {
   "cell_type": "code",
   "execution_count": 87,
   "id": "divine-position",
   "metadata": {
    "execution": {
     "iopub.execute_input": "2021-08-21T07:32:02.694916Z",
     "iopub.status.busy": "2021-08-21T07:32:02.693979Z",
     "iopub.status.idle": "2021-08-21T07:32:04.527746Z",
     "shell.execute_reply": "2021-08-21T07:32:04.527291Z"
    },
    "papermill": {
     "duration": 1.956019,
     "end_time": "2021-08-21T07:32:04.527900",
     "exception": false,
     "start_time": "2021-08-21T07:32:02.571881",
     "status": "completed"
    },
    "tags": []
   },
   "outputs": [
    {
     "name": "stdout",
     "output_type": "stream",
     "text": [
      "[0.6013973596261342, 0.5426991279151407, 0.5642095853085685, 0.6446195143620757, 0.6298914521129054, 0.6207225247615432, 0.5957124658807813, 0.631571207554434, 0.59463343726994, 0.5812687900227593]\n"
     ]
    }
   ],
   "source": [
    "ssim_pneumonia_arr = []\n",
    "for i in range(1,201):\n",
    "    ssim_pneumonia_arr.append(1 - (1 + sewar.full_ref.ssim(srt_sr_pneumonia_imgs[i],srt_hr_pneumonia_imgs[i])[0])/2)\n",
    "print(ssim_pneumonia_arr[:10])"
   ]
  },
  {
   "cell_type": "code",
   "execution_count": 88,
   "id": "radio-tomato",
   "metadata": {
    "execution": {
     "iopub.execute_input": "2021-08-21T07:32:04.761703Z",
     "iopub.status.busy": "2021-08-21T07:32:04.761015Z",
     "iopub.status.idle": "2021-08-21T07:32:04.764579Z",
     "shell.execute_reply": "2021-08-21T07:32:04.764150Z"
    },
    "papermill": {
     "duration": 0.122473,
     "end_time": "2021-08-21T07:32:04.764706",
     "exception": false,
     "start_time": "2021-08-21T07:32:04.642233",
     "status": "completed"
    },
    "tags": []
   },
   "outputs": [
    {
     "name": "stdout",
     "output_type": "stream",
     "text": [
      "0.5746830377466128 0.04542314207208769\n"
     ]
    }
   ],
   "source": [
    "ssim_pneumonia_mean, ssim_pneumonia_std = np.mean(ssim_pneumonia_arr), np.std(ssim_pneumonia_arr)\n",
    "srcnn_bhp_metric[\"diseased_img\"][\"ssim\"] = ssim_pneumonia_arr\n",
    "print(ssim_pneumonia_mean, ssim_pneumonia_std)"
   ]
  },
  {
   "cell_type": "markdown",
   "id": "expensive-conditioning",
   "metadata": {
    "papermill": {
     "duration": 0.114523,
     "end_time": "2021-08-21T07:32:04.994560",
     "exception": false,
     "start_time": "2021-08-21T07:32:04.880037",
     "status": "completed"
    },
    "tags": []
   },
   "source": [
    "## Mean Absolute Error (MAE)"
   ]
  },
  {
   "cell_type": "code",
   "execution_count": 89,
   "id": "included-today",
   "metadata": {
    "execution": {
     "iopub.execute_input": "2021-08-21T07:32:05.229382Z",
     "iopub.status.busy": "2021-08-21T07:32:05.228785Z",
     "iopub.status.idle": "2021-08-21T07:32:05.231531Z",
     "shell.execute_reply": "2021-08-21T07:32:05.230968Z"
    },
    "papermill": {
     "duration": 0.122546,
     "end_time": "2021-08-21T07:32:05.231666",
     "exception": false,
     "start_time": "2021-08-21T07:32:05.109120",
     "status": "completed"
    },
    "tags": []
   },
   "outputs": [],
   "source": [
    "def MAE(true_img, pred_img):\n",
    "    true_img = true_img // 255.\n",
    "    pred_img = pred_img // 255.\n",
    "    img1 = true_img.flatten()\n",
    "    img2 = pred_img.flatten()\n",
    "    metric = np.mean((np.absolute(np.subtract(img1, img2))))\n",
    "    return metric"
   ]
  },
  {
   "cell_type": "code",
   "execution_count": 90,
   "id": "described-romantic",
   "metadata": {
    "execution": {
     "iopub.execute_input": "2021-08-21T07:32:05.463651Z",
     "iopub.status.busy": "2021-08-21T07:32:05.462780Z",
     "iopub.status.idle": "2021-08-21T07:32:05.467505Z",
     "shell.execute_reply": "2021-08-21T07:32:05.467898Z"
    },
    "papermill": {
     "duration": 0.122581,
     "end_time": "2021-08-21T07:32:05.468061",
     "exception": false,
     "start_time": "2021-08-21T07:32:05.345480",
     "status": "completed"
    },
    "tags": []
   },
   "outputs": [
    {
     "data": {
      "text/plain": [
       "0.007333333333333333"
      ]
     },
     "execution_count": 90,
     "metadata": {},
     "output_type": "execute_result"
    }
   ],
   "source": [
    "MAE(srt_sr_pneumonia_imgs[2],srt_hr_pneumonia_imgs[2])"
   ]
  },
  {
   "cell_type": "code",
   "execution_count": 91,
   "id": "proprietary-validity",
   "metadata": {
    "execution": {
     "iopub.execute_input": "2021-08-21T07:32:05.700345Z",
     "iopub.status.busy": "2021-08-21T07:32:05.699721Z",
     "iopub.status.idle": "2021-08-21T07:32:05.742339Z",
     "shell.execute_reply": "2021-08-21T07:32:05.741888Z"
    },
    "papermill": {
     "duration": 0.160688,
     "end_time": "2021-08-21T07:32:05.742467",
     "exception": false,
     "start_time": "2021-08-21T07:32:05.581779",
     "status": "completed"
    },
    "tags": []
   },
   "outputs": [
    {
     "name": "stdout",
     "output_type": "stream",
     "text": [
      "[0.002, 0.007333333333333333, 0.0, 0.13373333333333334, 0.08653333333333334, 0.043866666666666665, 0.0152, 0.012266666666666667, 0.0, 0.019333333333333334]\n"
     ]
    }
   ],
   "source": [
    "mae_pneumonia_arr = []\n",
    "for i in range(1,201):\n",
    "    mae_pneumonia_arr.append(MAE(srt_sr_pneumonia_imgs[i],srt_hr_pneumonia_imgs[i]))\n",
    "print(mae_pneumonia_arr[:10])"
   ]
  },
  {
   "cell_type": "code",
   "execution_count": 92,
   "id": "korean-carrier",
   "metadata": {
    "execution": {
     "iopub.execute_input": "2021-08-21T07:32:05.976298Z",
     "iopub.status.busy": "2021-08-21T07:32:05.975667Z",
     "iopub.status.idle": "2021-08-21T07:32:05.977991Z",
     "shell.execute_reply": "2021-08-21T07:32:05.978489Z"
    },
    "papermill": {
     "duration": 0.122006,
     "end_time": "2021-08-21T07:32:05.978652",
     "exception": false,
     "start_time": "2021-08-21T07:32:05.856646",
     "status": "completed"
    },
    "tags": []
   },
   "outputs": [
    {
     "name": "stdout",
     "output_type": "stream",
     "text": [
      "0.02679733333333333 0.046308478628528583\n"
     ]
    }
   ],
   "source": [
    "mae_pneumonia_mean, mae_pneumonia_std = np.mean(mae_pneumonia_arr), np.std(mae_pneumonia_arr)\n",
    "srcnn_bhp_metric[\"diseased_img\"][\"mae\"] = mae_pneumonia_arr\n",
    "print(mae_pneumonia_mean, mae_pneumonia_std)"
   ]
  },
  {
   "cell_type": "markdown",
   "id": "right-diversity",
   "metadata": {
    "papermill": {
     "duration": 0.116156,
     "end_time": "2021-08-21T07:32:06.210754",
     "exception": false,
     "start_time": "2021-08-21T07:32:06.094598",
     "status": "completed"
    },
    "tags": []
   },
   "source": [
    "### Mean Absolute Percentage Error (MAPE)"
   ]
  },
  {
   "cell_type": "code",
   "execution_count": 93,
   "id": "frank-rapid",
   "metadata": {
    "execution": {
     "iopub.execute_input": "2021-08-21T07:32:06.442717Z",
     "iopub.status.busy": "2021-08-21T07:32:06.442156Z",
     "iopub.status.idle": "2021-08-21T07:32:06.447106Z",
     "shell.execute_reply": "2021-08-21T07:32:06.447552Z"
    },
    "papermill": {
     "duration": 0.122746,
     "end_time": "2021-08-21T07:32:06.447723",
     "exception": false,
     "start_time": "2021-08-21T07:32:06.324977",
     "status": "completed"
    },
    "tags": []
   },
   "outputs": [],
   "source": [
    "def MPE(true_img, pred_img):\n",
    "    \n",
    "    true_img = true_img // 255.\n",
    "    pred_img = pred_img // 255.\n",
    "    img1 = true_img.flatten()\n",
    "    img2 = pred_img.flatten()\n",
    "    metric = np.mean((np.absolute(np.subtract(img1, img2))))\n",
    "    return metric * 100"
   ]
  },
  {
   "cell_type": "code",
   "execution_count": 94,
   "id": "german-adrian",
   "metadata": {
    "execution": {
     "iopub.execute_input": "2021-08-21T07:32:06.683108Z",
     "iopub.status.busy": "2021-08-21T07:32:06.682513Z",
     "iopub.status.idle": "2021-08-21T07:32:06.686940Z",
     "shell.execute_reply": "2021-08-21T07:32:06.686473Z"
    },
    "papermill": {
     "duration": 0.123923,
     "end_time": "2021-08-21T07:32:06.687077",
     "exception": false,
     "start_time": "2021-08-21T07:32:06.563154",
     "status": "completed"
    },
    "tags": []
   },
   "outputs": [
    {
     "data": {
      "text/plain": [
       "0.0"
      ]
     },
     "execution_count": 94,
     "metadata": {},
     "output_type": "execute_result"
    }
   ],
   "source": [
    "MPE(srt_sr_pneumonia_imgs[3],srt_hr_pneumonia_imgs[3])"
   ]
  },
  {
   "cell_type": "code",
   "execution_count": 95,
   "id": "continent-parent",
   "metadata": {
    "execution": {
     "iopub.execute_input": "2021-08-21T07:32:06.926942Z",
     "iopub.status.busy": "2021-08-21T07:32:06.925990Z",
     "iopub.status.idle": "2021-08-21T07:32:06.968595Z",
     "shell.execute_reply": "2021-08-21T07:32:06.969057Z"
    },
    "papermill": {
     "duration": 0.166482,
     "end_time": "2021-08-21T07:32:06.969223",
     "exception": false,
     "start_time": "2021-08-21T07:32:06.802741",
     "status": "completed"
    },
    "tags": []
   },
   "outputs": [
    {
     "name": "stdout",
     "output_type": "stream",
     "text": [
      "[0.2, 0.7333333333333333, 0.0, 13.373333333333335, 8.653333333333334, 4.386666666666667, 1.52, 1.2266666666666668, 0.0, 1.9333333333333333]\n"
     ]
    }
   ],
   "source": [
    "mpe_pneumonia_arr = []\n",
    "for i in range(1,201):\n",
    "    mpe_pneumonia_arr.append(MPE(srt_sr_pneumonia_imgs[i],srt_hr_pneumonia_imgs[i]))\n",
    "print(mpe_pneumonia_arr[:10])"
   ]
  },
  {
   "cell_type": "code",
   "execution_count": 96,
   "id": "russian-tissue",
   "metadata": {
    "execution": {
     "iopub.execute_input": "2021-08-21T07:32:07.208205Z",
     "iopub.status.busy": "2021-08-21T07:32:07.207236Z",
     "iopub.status.idle": "2021-08-21T07:32:07.213434Z",
     "shell.execute_reply": "2021-08-21T07:32:07.214131Z"
    },
    "papermill": {
     "duration": 0.127772,
     "end_time": "2021-08-21T07:32:07.214392",
     "exception": false,
     "start_time": "2021-08-21T07:32:07.086620",
     "status": "completed"
    },
    "tags": []
   },
   "outputs": [
    {
     "name": "stdout",
     "output_type": "stream",
     "text": [
      "2.6797333333333335 4.630847862852859\n"
     ]
    }
   ],
   "source": [
    "mpe_pneumonia_mean, mpe_pneumonia_std = np.mean(mpe_pneumonia_arr), np.std(mpe_pneumonia_arr)\n",
    "srcnn_bhp_metric[\"diseased_img\"][\"mpe\"] = mpe_pneumonia_arr\n",
    "print(mpe_pneumonia_mean, mpe_pneumonia_std)"
   ]
  },
  {
   "cell_type": "markdown",
   "id": "accomplished-shoot",
   "metadata": {
    "papermill": {
     "duration": 0.1166,
     "end_time": "2021-08-21T07:32:07.447515",
     "exception": false,
     "start_time": "2021-08-21T07:32:07.330915",
     "status": "completed"
    },
    "tags": []
   },
   "source": [
    "### Mean Square Error (MSE)"
   ]
  },
  {
   "cell_type": "code",
   "execution_count": 97,
   "id": "material-closing",
   "metadata": {
    "execution": {
     "iopub.execute_input": "2021-08-21T07:32:07.685256Z",
     "iopub.status.busy": "2021-08-21T07:32:07.684553Z",
     "iopub.status.idle": "2021-08-21T07:32:07.689069Z",
     "shell.execute_reply": "2021-08-21T07:32:07.688449Z"
    },
    "papermill": {
     "duration": 0.124764,
     "end_time": "2021-08-21T07:32:07.689200",
     "exception": false,
     "start_time": "2021-08-21T07:32:07.564436",
     "status": "completed"
    },
    "tags": []
   },
   "outputs": [
    {
     "name": "stdout",
     "output_type": "stream",
     "text": [
      "1542.4316 <class 'numpy.float64'>\n"
     ]
    }
   ],
   "source": [
    "ans = sewar.full_ref.mse(srt_sr_pneumonia_imgs[3],srt_hr_pneumonia_imgs[3])\n",
    "print(ans, type(ans))"
   ]
  },
  {
   "cell_type": "code",
   "execution_count": 98,
   "id": "differential-encoding",
   "metadata": {
    "execution": {
     "iopub.execute_input": "2021-08-21T07:32:07.926744Z",
     "iopub.status.busy": "2021-08-21T07:32:07.926127Z",
     "iopub.status.idle": "2021-08-21T07:32:07.937660Z",
     "shell.execute_reply": "2021-08-21T07:32:07.938440Z"
    },
    "papermill": {
     "duration": 0.13313,
     "end_time": "2021-08-21T07:32:07.938652",
     "exception": false,
     "start_time": "2021-08-21T07:32:07.805522",
     "status": "completed"
    },
    "tags": []
   },
   "outputs": [
    {
     "name": "stdout",
     "output_type": "stream",
     "text": [
      "[2354.2209333333335, 2391.4146666666666, 1542.4316, 5978.228133333333, 5109.8124, 4293.533066666667, 2828.272, 3132.9024, 2012.5053333333333, 3322.606133333333]\n"
     ]
    }
   ],
   "source": [
    "mse_pneumonia_arr = []\n",
    "for i in range(1,201):\n",
    "    mse_pneumonia_arr.append(sewar.full_ref.mse(srt_sr_pneumonia_imgs[i],srt_hr_pneumonia_imgs[i]))\n",
    "print(mse_pneumonia_arr[:10])"
   ]
  },
  {
   "cell_type": "code",
   "execution_count": 99,
   "id": "composite-initial",
   "metadata": {
    "execution": {
     "iopub.execute_input": "2021-08-21T07:32:08.181810Z",
     "iopub.status.busy": "2021-08-21T07:32:08.181231Z",
     "iopub.status.idle": "2021-08-21T07:32:08.186814Z",
     "shell.execute_reply": "2021-08-21T07:32:08.187289Z"
    },
    "papermill": {
     "duration": 0.130744,
     "end_time": "2021-08-21T07:32:08.187461",
     "exception": false,
     "start_time": "2021-08-21T07:32:08.056717",
     "status": "completed"
    },
    "tags": []
   },
   "outputs": [
    {
     "name": "stdout",
     "output_type": "stream",
     "text": [
      "2825.0829799999997 1791.8302420565626\n"
     ]
    }
   ],
   "source": [
    "mse_pneumonia_mean, mse_pneumonia_std = np.mean(mse_pneumonia_arr), np.std(mse_pneumonia_arr)\n",
    "srcnn_bhp_metric[\"diseased_img\"][\"mse\"] = mse_pneumonia_arr\n",
    "print(mse_pneumonia_mean, mse_pneumonia_std)"
   ]
  },
  {
   "cell_type": "markdown",
   "id": "rubber-bloom",
   "metadata": {
    "papermill": {
     "duration": 0.116958,
     "end_time": "2021-08-21T07:32:08.422126",
     "exception": false,
     "start_time": "2021-08-21T07:32:08.305168",
     "status": "completed"
    },
    "tags": []
   },
   "source": [
    "### Root Mean Square Error (RMSE)"
   ]
  },
  {
   "cell_type": "code",
   "execution_count": 100,
   "id": "pleased-dominant",
   "metadata": {
    "execution": {
     "iopub.execute_input": "2021-08-21T07:32:08.659551Z",
     "iopub.status.busy": "2021-08-21T07:32:08.658932Z",
     "iopub.status.idle": "2021-08-21T07:32:08.663963Z",
     "shell.execute_reply": "2021-08-21T07:32:08.664434Z"
    },
    "papermill": {
     "duration": 0.125746,
     "end_time": "2021-08-21T07:32:08.664591",
     "exception": false,
     "start_time": "2021-08-21T07:32:08.538845",
     "status": "completed"
    },
    "tags": []
   },
   "outputs": [
    {
     "name": "stdout",
     "output_type": "stream",
     "text": [
      "39.273802973483484 <class 'numpy.float64'>\n"
     ]
    }
   ],
   "source": [
    "ans = sewar.full_ref.rmse(srt_sr_pneumonia_imgs[3],srt_hr_pneumonia_imgs[3])\n",
    "print(ans, type(ans))"
   ]
  },
  {
   "cell_type": "code",
   "execution_count": 101,
   "id": "contrary-pepper",
   "metadata": {
    "execution": {
     "iopub.execute_input": "2021-08-21T07:32:08.904415Z",
     "iopub.status.busy": "2021-08-21T07:32:08.903857Z",
     "iopub.status.idle": "2021-08-21T07:32:08.917252Z",
     "shell.execute_reply": "2021-08-21T07:32:08.917913Z"
    },
    "papermill": {
     "duration": 0.136466,
     "end_time": "2021-08-21T07:32:08.918128",
     "exception": false,
     "start_time": "2021-08-21T07:32:08.781662",
     "status": "completed"
    },
    "tags": []
   },
   "outputs": [
    {
     "name": "stdout",
     "output_type": "stream",
     "text": [
      "[48.52031464586079, 48.90209266142571, 39.273802973483484, 77.31900240777381, 71.4829518137017, 65.52505678491752, 53.181500542951966, 55.972336024146784, 44.86095555528586, 57.64205177935058]\n"
     ]
    }
   ],
   "source": [
    "rmse_pneumonia_arr = []\n",
    "for i in range(1,201):\n",
    "    rmse_pneumonia_arr.append(sewar.full_ref.rmse(srt_sr_pneumonia_imgs[i],srt_hr_pneumonia_imgs[i]))\n",
    "print(rmse_pneumonia_arr[:10])"
   ]
  },
  {
   "cell_type": "code",
   "execution_count": 102,
   "id": "pregnant-poker",
   "metadata": {
    "execution": {
     "iopub.execute_input": "2021-08-21T07:32:09.162478Z",
     "iopub.status.busy": "2021-08-21T07:32:09.161891Z",
     "iopub.status.idle": "2021-08-21T07:32:09.168254Z",
     "shell.execute_reply": "2021-08-21T07:32:09.167733Z"
    },
    "papermill": {
     "duration": 0.129927,
     "end_time": "2021-08-21T07:32:09.168383",
     "exception": false,
     "start_time": "2021-08-21T07:32:09.038456",
     "status": "completed"
    },
    "tags": []
   },
   "outputs": [
    {
     "name": "stdout",
     "output_type": "stream",
     "text": [
      "51.01605716534989 14.914586528018557\n"
     ]
    }
   ],
   "source": [
    "rmse_pneumonia_mean, rmse_pneumonia_std = np.mean(rmse_pneumonia_arr), np.std(rmse_pneumonia_arr)\n",
    "srcnn_bhp_metric[\"diseased_img\"][\"rmse\"] = rmse_pneumonia_arr\n",
    "print(rmse_pneumonia_mean, rmse_pneumonia_std)"
   ]
  },
  {
   "cell_type": "markdown",
   "id": "protecting-organization",
   "metadata": {
    "papermill": {
     "duration": 0.118115,
     "end_time": "2021-08-21T07:32:09.405525",
     "exception": false,
     "start_time": "2021-08-21T07:32:09.287410",
     "status": "completed"
    },
    "tags": []
   },
   "source": [
    "### PSNR"
   ]
  },
  {
   "cell_type": "code",
   "execution_count": 103,
   "id": "naval-hazard",
   "metadata": {
    "execution": {
     "iopub.execute_input": "2021-08-21T07:32:09.647536Z",
     "iopub.status.busy": "2021-08-21T07:32:09.646955Z",
     "iopub.status.idle": "2021-08-21T07:32:09.650153Z",
     "shell.execute_reply": "2021-08-21T07:32:09.649472Z"
    },
    "papermill": {
     "duration": 0.12675,
     "end_time": "2021-08-21T07:32:09.650291",
     "exception": false,
     "start_time": "2021-08-21T07:32:09.523541",
     "status": "completed"
    },
    "tags": []
   },
   "outputs": [
    {
     "name": "stdout",
     "output_type": "stream",
     "text": [
      "16.24874446769575 <class 'numpy.float64'>\n"
     ]
    }
   ],
   "source": [
    "ans = sewar.full_ref.psnr(srt_sr_pneumonia_imgs[3],srt_hr_pneumonia_imgs[3])\n",
    "print(ans, type(ans))"
   ]
  },
  {
   "cell_type": "code",
   "execution_count": 104,
   "id": "animated-america",
   "metadata": {
    "execution": {
     "iopub.execute_input": "2021-08-21T07:32:09.894512Z",
     "iopub.status.busy": "2021-08-21T07:32:09.893852Z",
     "iopub.status.idle": "2021-08-21T07:32:09.911057Z",
     "shell.execute_reply": "2021-08-21T07:32:09.911547Z"
    },
    "papermill": {
     "duration": 0.140113,
     "end_time": "2021-08-21T07:32:09.911717",
     "exception": false,
     "start_time": "2021-08-21T07:32:09.771604",
     "status": "completed"
    },
    "tags": []
   },
   "outputs": [
    {
     "name": "stdout",
     "output_type": "stream",
     "text": [
      "[14.412331438111552, 14.344254724012977, 16.24874446769575, 10.36507876869674, 11.04675404987676, 11.802655488991379, 13.61559186853869, 13.171334954473206, 15.093433209041942, 12.916014984510841]\n"
     ]
    }
   ],
   "source": [
    "psnr_pneumonia_arr = []\n",
    "for i in range(1,201):\n",
    "    psnr_pneumonia_arr.append(sewar.full_ref.psnr(srt_sr_pneumonia_imgs[i],srt_hr_pneumonia_imgs[i]))\n",
    "print(psnr_pneumonia_arr[:10])"
   ]
  },
  {
   "cell_type": "code",
   "execution_count": 105,
   "id": "tracked-journalist",
   "metadata": {
    "execution": {
     "iopub.execute_input": "2021-08-21T07:32:10.158868Z",
     "iopub.status.busy": "2021-08-21T07:32:10.158223Z",
     "iopub.status.idle": "2021-08-21T07:32:10.160758Z",
     "shell.execute_reply": "2021-08-21T07:32:10.161414Z"
    },
    "papermill": {
     "duration": 0.130062,
     "end_time": "2021-08-21T07:32:10.161637",
     "exception": false,
     "start_time": "2021-08-21T07:32:10.031575",
     "status": "completed"
    },
    "tags": []
   },
   "outputs": [
    {
     "name": "stdout",
     "output_type": "stream",
     "text": [
      "14.303587985659199 2.31611589627085\n"
     ]
    }
   ],
   "source": [
    "psnr_pneumonia_mean, psnr_pneumonia_std = np.mean(psnr_pneumonia_arr), np.std(psnr_pneumonia_arr)\n",
    "srcnn_bhp_metric[\"diseased_img\"][\"psnr\"] = psnr_pneumonia_arr\n",
    "print(psnr_pneumonia_mean, psnr_pneumonia_std)"
   ]
  },
  {
   "cell_type": "markdown",
   "id": "allied-bowling",
   "metadata": {
    "papermill": {
     "duration": 0.119218,
     "end_time": "2021-08-21T07:32:10.402077",
     "exception": false,
     "start_time": "2021-08-21T07:32:10.282859",
     "status": "completed"
    },
    "tags": []
   },
   "source": [
    "### Multi-Scale Structure Similarity Index MS-SSIM"
   ]
  },
  {
   "cell_type": "code",
   "execution_count": 106,
   "id": "boring-teens",
   "metadata": {
    "execution": {
     "iopub.execute_input": "2021-08-21T07:32:10.653591Z",
     "iopub.status.busy": "2021-08-21T07:32:10.652635Z",
     "iopub.status.idle": "2021-08-21T07:32:10.687340Z",
     "shell.execute_reply": "2021-08-21T07:32:10.686550Z"
    },
    "papermill": {
     "duration": 0.165971,
     "end_time": "2021-08-21T07:32:10.687524",
     "exception": false,
     "start_time": "2021-08-21T07:32:10.521553",
     "status": "completed"
    },
    "tags": []
   },
   "outputs": [
    {
     "name": "stdout",
     "output_type": "stream",
     "text": [
      "0.054612668895981376 <class 'numpy.float64'>\n"
     ]
    }
   ],
   "source": [
    "ans = 1 - (1 + sewar.full_ref.msssim(srt_sr_pneumonia_imgs[3],srt_hr_pneumonia_imgs[3]).real / 2)\n",
    "print(ans, type(ans))"
   ]
  },
  {
   "cell_type": "code",
   "execution_count": 107,
   "id": "stopped-version",
   "metadata": {
    "execution": {
     "iopub.execute_input": "2021-08-21T07:32:10.948506Z",
     "iopub.status.busy": "2021-08-21T07:32:10.947885Z",
     "iopub.status.idle": "2021-08-21T07:32:13.892512Z",
     "shell.execute_reply": "2021-08-21T07:32:13.891825Z"
    },
    "papermill": {
     "duration": 3.073015,
     "end_time": "2021-08-21T07:32:13.892711",
     "exception": false,
     "start_time": "2021-08-21T07:32:10.819696",
     "status": "completed"
    },
    "tags": []
   },
   "outputs": [
    {
     "name": "stdout",
     "output_type": "stream",
     "text": [
      "[0.5894589831744207, 0.53870149991052, 0.5546126688959814, 0.6037400746171915, 0.5899720174759344, 0.5990191024066067, 0.5959113661521761, 0.6082177958868757, 0.601811470108558, 0.5832771332841276]\n"
     ]
    }
   ],
   "source": [
    "msssim_pneumonia_arr = []\n",
    "for i in range(1,201):\n",
    "    msssim_pneumonia_arr.append(1 - (1 + sewar.full_ref.msssim(srt_sr_pneumonia_imgs[i],srt_hr_pneumonia_imgs[i]).real)/2)\n",
    "print(msssim_pneumonia_arr[:10])"
   ]
  },
  {
   "cell_type": "code",
   "execution_count": 108,
   "id": "appreciated-disco",
   "metadata": {
    "execution": {
     "iopub.execute_input": "2021-08-21T07:32:14.140810Z",
     "iopub.status.busy": "2021-08-21T07:32:14.140080Z",
     "iopub.status.idle": "2021-08-21T07:32:14.142973Z",
     "shell.execute_reply": "2021-08-21T07:32:14.143427Z"
    },
    "papermill": {
     "duration": 0.129923,
     "end_time": "2021-08-21T07:32:14.143584",
     "exception": false,
     "start_time": "2021-08-21T07:32:14.013661",
     "status": "completed"
    },
    "tags": []
   },
   "outputs": [
    {
     "name": "stdout",
     "output_type": "stream",
     "text": [
      "0.556838500891979 0.04027564430137716\n"
     ]
    }
   ],
   "source": [
    "msssim_pneumonia_mean, msssim_pneumonia_std = np.mean(msssim_pneumonia_arr), np.std(msssim_pneumonia_arr)\n",
    "srcnn_bhp_metric[\"diseased_img\"][\"msssim\"] = msssim_pneumonia_arr\n",
    "print(msssim_pneumonia_mean, msssim_pneumonia_std)"
   ]
  },
  {
   "cell_type": "markdown",
   "id": "rubber-recorder",
   "metadata": {
    "papermill": {
     "duration": 0.120877,
     "end_time": "2021-08-21T07:32:14.386054",
     "exception": false,
     "start_time": "2021-08-21T07:32:14.265177",
     "status": "completed"
    },
    "tags": []
   },
   "source": [
    "### Spatial Corelation Coefficient (SCC)"
   ]
  },
  {
   "cell_type": "code",
   "execution_count": 109,
   "id": "unable-legislature",
   "metadata": {
    "execution": {
     "iopub.execute_input": "2021-08-21T07:32:14.630391Z",
     "iopub.status.busy": "2021-08-21T07:32:14.628298Z",
     "iopub.status.idle": "2021-08-21T07:32:14.644600Z",
     "shell.execute_reply": "2021-08-21T07:32:14.644060Z"
    },
    "papermill": {
     "duration": 0.139,
     "end_time": "2021-08-21T07:32:14.644732",
     "exception": false,
     "start_time": "2021-08-21T07:32:14.505732",
     "status": "completed"
    },
    "tags": []
   },
   "outputs": [
    {
     "name": "stdout",
     "output_type": "stream",
     "text": [
      "0.5213920860597001 <class 'numpy.float64'>\n"
     ]
    }
   ],
   "source": [
    "ans = 1 - (1 + sewar.full_ref.scc(srt_sr_pneumonia_imgs[3],srt_hr_pneumonia_imgs[3]))/2\n",
    "print(ans, type(ans))"
   ]
  },
  {
   "cell_type": "code",
   "execution_count": 110,
   "id": "hispanic-warehouse",
   "metadata": {
    "execution": {
     "iopub.execute_input": "2021-08-21T07:32:14.889484Z",
     "iopub.status.busy": "2021-08-21T07:32:14.888907Z",
     "iopub.status.idle": "2021-08-21T07:32:16.721342Z",
     "shell.execute_reply": "2021-08-21T07:32:16.721967Z"
    },
    "papermill": {
     "duration": 1.957825,
     "end_time": "2021-08-21T07:32:16.722189",
     "exception": false,
     "start_time": "2021-08-21T07:32:14.764364",
     "status": "completed"
    },
    "tags": []
   },
   "outputs": [
    {
     "name": "stdout",
     "output_type": "stream",
     "text": [
      "[0.5092240668978307, 0.5057216891600269, 0.5213920860597001, 0.5277342122912411, 0.5161630890508382, 0.5167385560354021, 0.5243734356751216, 0.5109047316148274, 0.5237275887339632, 0.4982472851658857]\n"
     ]
    }
   ],
   "source": [
    "scc_pneumonia_arr = []\n",
    "for i in range(1,201):\n",
    "    scc_pneumonia_arr.append(1 - (1+sewar.full_ref.scc(srt_sr_pneumonia_imgs[i],srt_hr_pneumonia_imgs[i]))/2)\n",
    "print(scc_pneumonia_arr[:10])"
   ]
  },
  {
   "cell_type": "code",
   "execution_count": 111,
   "id": "offshore-agent",
   "metadata": {
    "execution": {
     "iopub.execute_input": "2021-08-21T07:32:16.969180Z",
     "iopub.status.busy": "2021-08-21T07:32:16.968437Z",
     "iopub.status.idle": "2021-08-21T07:32:16.971767Z",
     "shell.execute_reply": "2021-08-21T07:32:16.972300Z"
    },
    "papermill": {
     "duration": 0.129524,
     "end_time": "2021-08-21T07:32:16.972463",
     "exception": false,
     "start_time": "2021-08-21T07:32:16.842939",
     "status": "completed"
    },
    "tags": []
   },
   "outputs": [
    {
     "name": "stdout",
     "output_type": "stream",
     "text": [
      "0.5103907558173811 0.009616285493554052\n"
     ]
    }
   ],
   "source": [
    "scc_pneumonia_mean, scc_pneumonia_std = np.mean(scc_pneumonia_arr), np.std(scc_pneumonia_arr)\n",
    "srcnn_bhp_metric[\"diseased_img\"][\"scc\"] = scc_pneumonia_arr\n",
    "print(scc_pneumonia_mean, scc_pneumonia_std)"
   ]
  },
  {
   "cell_type": "markdown",
   "id": "written-joseph",
   "metadata": {
    "papermill": {
     "duration": 0.121504,
     "end_time": "2021-08-21T07:32:17.214101",
     "exception": false,
     "start_time": "2021-08-21T07:32:17.092597",
     "status": "completed"
    },
    "tags": []
   },
   "source": [
    "### Pixel Based Visual Information Fidelity (vif-p)"
   ]
  },
  {
   "cell_type": "code",
   "execution_count": 112,
   "id": "promising-opportunity",
   "metadata": {
    "execution": {
     "iopub.execute_input": "2021-08-21T07:32:17.464437Z",
     "iopub.status.busy": "2021-08-21T07:32:17.463556Z",
     "iopub.status.idle": "2021-08-21T07:32:17.486361Z",
     "shell.execute_reply": "2021-08-21T07:32:17.485528Z"
    },
    "papermill": {
     "duration": 0.152307,
     "end_time": "2021-08-21T07:32:17.486575",
     "exception": false,
     "start_time": "2021-08-21T07:32:17.334268",
     "status": "completed"
    },
    "tags": []
   },
   "outputs": [
    {
     "name": "stdout",
     "output_type": "stream",
     "text": [
      "2.012810164159825e-05 <class 'numpy.float64'>\n"
     ]
    }
   ],
   "source": [
    "ans = sewar.full_ref.vifp(srt_sr_pneumonia_imgs[10],srt_hr_pneumonia_imgs[10])\n",
    "print(ans, type(ans))"
   ]
  },
  {
   "cell_type": "code",
   "execution_count": 113,
   "id": "dress-shame",
   "metadata": {
    "execution": {
     "iopub.execute_input": "2021-08-21T07:32:17.741799Z",
     "iopub.status.busy": "2021-08-21T07:32:17.736920Z",
     "iopub.status.idle": "2021-08-21T07:32:21.916392Z",
     "shell.execute_reply": "2021-08-21T07:32:21.916809Z"
    },
    "papermill": {
     "duration": 4.307472,
     "end_time": "2021-08-21T07:32:21.917021",
     "exception": false,
     "start_time": "2021-08-21T07:32:17.609549",
     "status": "completed"
    },
    "tags": []
   },
   "outputs": [
    {
     "name": "stdout",
     "output_type": "stream",
     "text": [
      "[3.6519039936482945e-07, 2.102990618080266e-05, 1.58552366305743e-05, 0.00025583189689563034, 0.00019329691255060206, 2.3717718536937346e-06, 6.269792180380163e-06, 1.358210543058047e-07, 3.429803949712316e-07, 2.012810164159825e-05]\n"
     ]
    }
   ],
   "source": [
    "vifp_pneumonia_arr = []\n",
    "for i in range(1,201):\n",
    "    vifp_pneumonia_arr.append(sewar.full_ref.vifp(srt_sr_pneumonia_imgs[i],srt_hr_pneumonia_imgs[i]))\n",
    "print(vifp_pneumonia_arr[:10])"
   ]
  },
  {
   "cell_type": "code",
   "execution_count": 114,
   "id": "relative-description",
   "metadata": {
    "execution": {
     "iopub.execute_input": "2021-08-21T07:32:22.178055Z",
     "iopub.status.busy": "2021-08-21T07:32:22.177387Z",
     "iopub.status.idle": "2021-08-21T07:32:22.179823Z",
     "shell.execute_reply": "2021-08-21T07:32:22.180483Z"
    },
    "papermill": {
     "duration": 0.135923,
     "end_time": "2021-08-21T07:32:22.180826",
     "exception": false,
     "start_time": "2021-08-21T07:32:22.044903",
     "status": "completed"
    },
    "tags": []
   },
   "outputs": [
    {
     "name": "stdout",
     "output_type": "stream",
     "text": [
      "0.00010647645009263816 0.00018427897955328445\n"
     ]
    }
   ],
   "source": [
    "vifp_pneumonia_mean, vifp_pneumonia_std = np.mean(vifp_pneumonia_arr), np.std(vifp_pneumonia_arr)\n",
    "srcnn_bhp_metric[\"diseased_img\"][\"vifp\"] = vifp_pneumonia_arr\n",
    "print(vifp_pneumonia_mean, vifp_pneumonia_std)"
   ]
  },
  {
   "cell_type": "markdown",
   "id": "functioning-delay",
   "metadata": {
    "papermill": {
     "duration": 0.126057,
     "end_time": "2021-08-21T07:32:22.435088",
     "exception": false,
     "start_time": "2021-08-21T07:32:22.309031",
     "status": "completed"
    },
    "tags": []
   },
   "source": [
    "## Computing Mann Whitney U-Test"
   ]
  },
  {
   "cell_type": "code",
   "execution_count": 115,
   "id": "swedish-perspective",
   "metadata": {
    "execution": {
     "iopub.execute_input": "2021-08-21T07:32:22.694911Z",
     "iopub.status.busy": "2021-08-21T07:32:22.694251Z",
     "iopub.status.idle": "2021-08-21T07:32:22.703324Z",
     "shell.execute_reply": "2021-08-21T07:32:22.702749Z"
    },
    "papermill": {
     "duration": 0.140956,
     "end_time": "2021-08-21T07:32:22.703447",
     "exception": false,
     "start_time": "2021-08-21T07:32:22.562491",
     "status": "completed"
    },
    "tags": []
   },
   "outputs": [
    {
     "name": "stdout",
     "output_type": "stream",
     "text": [
      "{'ssim': {'stat': 13948.0, 'p_value': 8.284417937246344e-08}, 'mae': {'stat': 6211.0, 'p_value': 2.5275354560572967e-33}, 'mpe': {'stat': 6211.0, 'p_value': 2.5275354560572967e-33}, 'mse': {'stat': 18759.0, 'p_value': 0.1416436017520875}, 'rmse': {'stat': 18759.0, 'p_value': 0.1416436017520875}, 'psnr': {'stat': 18759.0, 'p_value': 0.1416436017520875}, 'msssim': {'stat': 13172.0, 'p_value': 1.7588401942491111e-09}, 'scc': {'stat': 13280.0, 'p_value': 3.0865929495782284e-09}, 'vifp': {'stat': 14325.0, 'p_value': 4.595907335355132e-07}}\n"
     ]
    }
   ],
   "source": [
    "from scipy.stats import mannwhitneyu\n",
    "res = {}\n",
    "for k1, k2 in zip(srcnn_bhp_metric[\"normal_img\"].keys(),srcnn_bhp_metric[\"diseased_img\"].keys()):\n",
    "    res[k1] = {}\n",
    "    res[k1][\"stat\"], res[k1][\"p_value\"] = mannwhitneyu(srcnn_bhp_metric[\"normal_img\"][k1], srcnn_bhp_metric[\"diseased_img\"][k2])\n",
    "    srcnn_bhp_metric[\"mannwhitneyu\"] = res\n",
    "print(srcnn_bhp_metric[\"mannwhitneyu\"])"
   ]
  },
  {
   "cell_type": "code",
   "execution_count": 116,
   "id": "distinct-professional",
   "metadata": {
    "execution": {
     "iopub.execute_input": "2021-08-21T07:32:22.969371Z",
     "iopub.status.busy": "2021-08-21T07:32:22.968473Z",
     "iopub.status.idle": "2021-08-21T07:32:22.972195Z",
     "shell.execute_reply": "2021-08-21T07:32:22.972645Z"
    },
    "papermill": {
     "duration": 0.143662,
     "end_time": "2021-08-21T07:32:22.972821",
     "exception": false,
     "start_time": "2021-08-21T07:32:22.829159",
     "status": "completed"
    },
    "tags": []
   },
   "outputs": [],
   "source": [
    "import pickle\n",
    "\n",
    "with open('./srcnn_bhp_metric.pkl', 'wb') as f:\n",
    "    pickle.dump(srcnn_bhp_metric, f)"
   ]
  },
  {
   "cell_type": "code",
   "execution_count": 117,
   "id": "expensive-cornell",
   "metadata": {
    "execution": {
     "iopub.execute_input": "2021-08-21T07:32:23.232919Z",
     "iopub.status.busy": "2021-08-21T07:32:23.231864Z",
     "iopub.status.idle": "2021-08-21T07:32:23.243301Z",
     "shell.execute_reply": "2021-08-21T07:32:23.242639Z"
    },
    "papermill": {
     "duration": 0.143699,
     "end_time": "2021-08-21T07:32:23.243436",
     "exception": false,
     "start_time": "2021-08-21T07:32:23.099737",
     "status": "completed"
    },
    "tags": []
   },
   "outputs": [],
   "source": [
    "import json\n",
    "\n",
    "with open('./srcnn_bhp_metric.json', 'w') as f:\n",
    "    json.dump(srcnn_bhp_metric, f)"
   ]
  },
  {
   "cell_type": "code",
   "execution_count": null,
   "id": "trained-header",
   "metadata": {
    "papermill": {
     "duration": 0.16718,
     "end_time": "2021-08-21T07:32:23.536626",
     "exception": false,
     "start_time": "2021-08-21T07:32:23.369446",
     "status": "completed"
    },
    "tags": []
   },
   "outputs": [],
   "source": []
  },
  {
   "cell_type": "code",
   "execution_count": null,
   "id": "written-flavor",
   "metadata": {
    "papermill": {
     "duration": 0.128775,
     "end_time": "2021-08-21T07:32:23.794205",
     "exception": false,
     "start_time": "2021-08-21T07:32:23.665430",
     "status": "completed"
    },
    "tags": []
   },
   "outputs": [],
   "source": []
  },
  {
   "cell_type": "markdown",
   "id": "offensive-flush",
   "metadata": {
    "papermill": {
     "duration": 0.125713,
     "end_time": "2021-08-21T07:32:24.045780",
     "exception": false,
     "start_time": "2021-08-21T07:32:23.920067",
     "status": "completed"
    },
    "tags": []
   },
   "source": [
    "## Visualizing Error Barplots for MAE, MAPE, MSE, RMSE, PSNR, SSIM, MS-SSIM, SCC, and VIF-P"
   ]
  },
  {
   "cell_type": "code",
   "execution_count": 118,
   "id": "isolated-chance",
   "metadata": {
    "execution": {
     "iopub.execute_input": "2021-08-21T07:32:24.304635Z",
     "iopub.status.busy": "2021-08-21T07:32:24.303800Z",
     "iopub.status.idle": "2021-08-21T07:32:24.306584Z",
     "shell.execute_reply": "2021-08-21T07:32:24.306012Z"
    },
    "papermill": {
     "duration": 0.135053,
     "end_time": "2021-08-21T07:32:24.306712",
     "exception": false,
     "start_time": "2021-08-21T07:32:24.171659",
     "status": "completed"
    },
    "tags": []
   },
   "outputs": [],
   "source": [
    "# ## Define error bar plot function\n",
    "\n",
    "# def error_barplot(error_arr,title='', file_name=''):\n",
    "    \n",
    "#     # Calculate the average\n",
    "#     error_mean = np.mean(error_arr)\n",
    "    \n",
    "#     # Calculate the standard deviation\n",
    "#     error_std = np.std(error_arr)\n",
    "\n",
    "#     # Define labels, positions, bar heights and error bar heights\n",
    "#     labels = ['For 200 Images']\n",
    "#     x_pos = np.arange(len(labels))\n",
    "#     CTEs = [error_mean]\n",
    "#     error = [error_std]\n",
    "    \n",
    "#     # Build the plot\n",
    "#     fig, ax = plt.subplots(figsize=(5,5))\n",
    "#     ax.bar(x_pos, CTEs,yerr=error,align='center',alpha=0.5,ecolor='black',capsize=10)\n",
    "# #     ax.set_ylabel('Mean Percentage Error')\n",
    "#     ax.set_xticks(x_pos)\n",
    "#     ax.set_xticklabels(labels)\n",
    "#     ax.set_title(title)\n",
    "#     ax.yaxis.grid(True)\n",
    "    \n",
    "#     plt.savefig(f\"./pneumonia/error_barplot/{file_name}.png\")\n",
    "\n",
    "#     # Save the figure and show\n",
    "#     plt.tight_layout()\n",
    "#     # plt.savefig('bar_plot_with_error_bars.png')\n",
    "#     plt.show()"
   ]
  },
  {
   "cell_type": "code",
   "execution_count": 119,
   "id": "endless-produce",
   "metadata": {
    "execution": {
     "iopub.execute_input": "2021-08-21T07:32:24.562419Z",
     "iopub.status.busy": "2021-08-21T07:32:24.561782Z",
     "iopub.status.idle": "2021-08-21T07:32:24.564675Z",
     "shell.execute_reply": "2021-08-21T07:32:24.564241Z"
    },
    "papermill": {
     "duration": 0.131711,
     "end_time": "2021-08-21T07:32:24.564805",
     "exception": false,
     "start_time": "2021-08-21T07:32:24.433094",
     "status": "completed"
    },
    "tags": []
   },
   "outputs": [],
   "source": [
    "# error_barplot(mae_pneumonia_arr,title='Mean Absolute Error (MAE)', file_name='mae_barplot')"
   ]
  },
  {
   "cell_type": "code",
   "execution_count": 120,
   "id": "smart-cabinet",
   "metadata": {
    "execution": {
     "iopub.execute_input": "2021-08-21T07:32:24.822123Z",
     "iopub.status.busy": "2021-08-21T07:32:24.821506Z",
     "iopub.status.idle": "2021-08-21T07:32:24.823961Z",
     "shell.execute_reply": "2021-08-21T07:32:24.824374Z"
    },
    "papermill": {
     "duration": 0.133279,
     "end_time": "2021-08-21T07:32:24.824540",
     "exception": false,
     "start_time": "2021-08-21T07:32:24.691261",
     "status": "completed"
    },
    "tags": []
   },
   "outputs": [],
   "source": [
    "# error_barplot(mpe_pneumonia_arr,title='Mean Percentage Error (MPE)', file_name='mpe_barplot')"
   ]
  },
  {
   "cell_type": "code",
   "execution_count": 121,
   "id": "studied-professional",
   "metadata": {
    "execution": {
     "iopub.execute_input": "2021-08-21T07:32:25.081595Z",
     "iopub.status.busy": "2021-08-21T07:32:25.080813Z",
     "iopub.status.idle": "2021-08-21T07:32:25.084099Z",
     "shell.execute_reply": "2021-08-21T07:32:25.083538Z"
    },
    "papermill": {
     "duration": 0.133041,
     "end_time": "2021-08-21T07:32:25.084236",
     "exception": false,
     "start_time": "2021-08-21T07:32:24.951195",
     "status": "completed"
    },
    "tags": []
   },
   "outputs": [],
   "source": [
    "# error_barplot(mse_pneumonia_arr,title='Mean Square Error (MSE)', file_name='mse_barplot')"
   ]
  },
  {
   "cell_type": "code",
   "execution_count": 122,
   "id": "massive-minimum",
   "metadata": {
    "execution": {
     "iopub.execute_input": "2021-08-21T07:32:25.342786Z",
     "iopub.status.busy": "2021-08-21T07:32:25.341856Z",
     "iopub.status.idle": "2021-08-21T07:32:25.345345Z",
     "shell.execute_reply": "2021-08-21T07:32:25.345736Z"
    },
    "papermill": {
     "duration": 0.133253,
     "end_time": "2021-08-21T07:32:25.346048",
     "exception": false,
     "start_time": "2021-08-21T07:32:25.212795",
     "status": "completed"
    },
    "tags": []
   },
   "outputs": [],
   "source": [
    "# error_barplot(rmse_pneumonia_arr,title='Root Mean Square Error (RMSE)', file_name='rmse_barplot')"
   ]
  },
  {
   "cell_type": "code",
   "execution_count": 123,
   "id": "oriental-wound",
   "metadata": {
    "execution": {
     "iopub.execute_input": "2021-08-21T07:32:25.601961Z",
     "iopub.status.busy": "2021-08-21T07:32:25.601066Z",
     "iopub.status.idle": "2021-08-21T07:32:25.605124Z",
     "shell.execute_reply": "2021-08-21T07:32:25.604663Z"
    },
    "papermill": {
     "duration": 0.132651,
     "end_time": "2021-08-21T07:32:25.605259",
     "exception": false,
     "start_time": "2021-08-21T07:32:25.472608",
     "status": "completed"
    },
    "tags": []
   },
   "outputs": [],
   "source": [
    "# error_barplot(psnr_pneumonia_arr,title='Peak Signal to Noise Ratio (PSNR)', file_name='psnr_barplot')"
   ]
  },
  {
   "cell_type": "code",
   "execution_count": 124,
   "id": "color-tolerance",
   "metadata": {
    "execution": {
     "iopub.execute_input": "2021-08-21T07:32:25.860980Z",
     "iopub.status.busy": "2021-08-21T07:32:25.860112Z",
     "iopub.status.idle": "2021-08-21T07:32:25.862931Z",
     "shell.execute_reply": "2021-08-21T07:32:25.862477Z"
    },
    "papermill": {
     "duration": 0.13215,
     "end_time": "2021-08-21T07:32:25.863059",
     "exception": false,
     "start_time": "2021-08-21T07:32:25.730909",
     "status": "completed"
    },
    "tags": []
   },
   "outputs": [],
   "source": [
    "# error_barplot(ssim_pneumonia_arr,title='Structural Similarity Index (SSIM)', file_name='ssim_barplot')"
   ]
  },
  {
   "cell_type": "code",
   "execution_count": 125,
   "id": "quantitative-eating",
   "metadata": {
    "execution": {
     "iopub.execute_input": "2021-08-21T07:32:26.116967Z",
     "iopub.status.busy": "2021-08-21T07:32:26.116382Z",
     "iopub.status.idle": "2021-08-21T07:32:26.119232Z",
     "shell.execute_reply": "2021-08-21T07:32:26.119634Z"
    },
    "papermill": {
     "duration": 0.131777,
     "end_time": "2021-08-21T07:32:26.119864",
     "exception": false,
     "start_time": "2021-08-21T07:32:25.988087",
     "status": "completed"
    },
    "tags": []
   },
   "outputs": [],
   "source": [
    "# error_barplot(msssim_pneumonia_arr,title='Multi-Scale Structure Similarity Index (MS-PSNR)',file_name='msssim_barplot')"
   ]
  },
  {
   "cell_type": "code",
   "execution_count": 126,
   "id": "nominated-asthma",
   "metadata": {
    "execution": {
     "iopub.execute_input": "2021-08-21T07:32:26.376382Z",
     "iopub.status.busy": "2021-08-21T07:32:26.375651Z",
     "iopub.status.idle": "2021-08-21T07:32:26.378664Z",
     "shell.execute_reply": "2021-08-21T07:32:26.379112Z"
    },
    "papermill": {
     "duration": 0.13259,
     "end_time": "2021-08-21T07:32:26.379265",
     "exception": false,
     "start_time": "2021-08-21T07:32:26.246675",
     "status": "completed"
    },
    "tags": []
   },
   "outputs": [],
   "source": [
    "# error_barplot(scc_pneumonia_arr,title='Spatial Corelation Coefficient (SCC)', file_name='scc_barplot')"
   ]
  },
  {
   "cell_type": "code",
   "execution_count": 127,
   "id": "parliamentary-cosmetic",
   "metadata": {
    "execution": {
     "iopub.execute_input": "2021-08-21T07:32:26.634133Z",
     "iopub.status.busy": "2021-08-21T07:32:26.633437Z",
     "iopub.status.idle": "2021-08-21T07:32:26.637091Z",
     "shell.execute_reply": "2021-08-21T07:32:26.637489Z"
    },
    "papermill": {
     "duration": 0.132533,
     "end_time": "2021-08-21T07:32:26.637646",
     "exception": false,
     "start_time": "2021-08-21T07:32:26.505113",
     "status": "completed"
    },
    "tags": []
   },
   "outputs": [],
   "source": [
    "# error_barplot(vifp_pneumonia_arr,title='Pixel Based Visual Information Fidelity (vif-p)', file_name='vifp_barplot')"
   ]
  },
  {
   "cell_type": "markdown",
   "id": "foreign-alert",
   "metadata": {
    "papermill": {
     "duration": 0.126528,
     "end_time": "2021-08-21T07:32:26.890803",
     "exception": false,
     "start_time": "2021-08-21T07:32:26.764275",
     "status": "completed"
    },
    "tags": []
   },
   "source": [
    "## Scatter Plot for MAE, MAPE, MSE, RMSE, PSNR, SSIM, MS-SSIM, SCC, and VIF-P"
   ]
  },
  {
   "cell_type": "code",
   "execution_count": 128,
   "id": "fallen-community",
   "metadata": {
    "execution": {
     "iopub.execute_input": "2021-08-21T07:32:27.141850Z",
     "iopub.status.busy": "2021-08-21T07:32:27.140879Z",
     "iopub.status.idle": "2021-08-21T07:32:27.144692Z",
     "shell.execute_reply": "2021-08-21T07:32:27.145479Z"
    },
    "papermill": {
     "duration": 0.131825,
     "end_time": "2021-08-21T07:32:27.145647",
     "exception": false,
     "start_time": "2021-08-21T07:32:27.013822",
     "status": "completed"
    },
    "tags": []
   },
   "outputs": [],
   "source": [
    "# metric_dict_pneumonia = {'Images': [i for i in range(1,201)],\n",
    "#             'MAE' : mae_pneumonia_arr,\n",
    "#             'MPE' : mpe_pneumonia_arr,\n",
    "#             'MSE' : mse_pneumonia_arr,\n",
    "#             'RMSE' : rmse_pneumonia_arr,\n",
    "#             'PSNR' : psnr_pneumonia_arr,\n",
    "#             'SSIM' : ssim_pneumonia_arr,\n",
    "#             'MSSSIM' : msssim_pneumonia_arr,\n",
    "#             'SCC' : scc_pneumonia_arr,\n",
    "#             'VIFP' : vifp_pneumonia_arr\n",
    "#          }\n",
    "# metric_df_pneumonia = pd.DataFrame(metric_dict_pneumonia)"
   ]
  },
  {
   "cell_type": "code",
   "execution_count": 129,
   "id": "copyrighted-drama",
   "metadata": {
    "execution": {
     "iopub.execute_input": "2021-08-21T07:32:27.399764Z",
     "iopub.status.busy": "2021-08-21T07:32:27.398866Z",
     "iopub.status.idle": "2021-08-21T07:32:27.402262Z",
     "shell.execute_reply": "2021-08-21T07:32:27.402772Z"
    },
    "papermill": {
     "duration": 0.129506,
     "end_time": "2021-08-21T07:32:27.402972",
     "exception": false,
     "start_time": "2021-08-21T07:32:27.273466",
     "status": "completed"
    },
    "tags": []
   },
   "outputs": [],
   "source": [
    "# def getScatterPlot(y_val,df,title='', file_name=''):\n",
    "    \n",
    "#     sns_plt = sns.scatterplot(x=metric_df.Images, y=y_val, data=df, linewidth=2.5).set_title(title)\n",
    "#     sns_fig = sns_plt.get_figure()\n",
    "#     sns_fig.savefig(f\"./pneumonia/scatter/{file_name}.png\")"
   ]
  },
  {
   "cell_type": "code",
   "execution_count": 130,
   "id": "statewide-chancellor",
   "metadata": {
    "execution": {
     "iopub.execute_input": "2021-08-21T07:32:27.652399Z",
     "iopub.status.busy": "2021-08-21T07:32:27.651477Z",
     "iopub.status.idle": "2021-08-21T07:32:27.654777Z",
     "shell.execute_reply": "2021-08-21T07:32:27.655304Z"
    },
    "papermill": {
     "duration": 0.129535,
     "end_time": "2021-08-21T07:32:27.655454",
     "exception": false,
     "start_time": "2021-08-21T07:32:27.525919",
     "status": "completed"
    },
    "tags": []
   },
   "outputs": [],
   "source": [
    "# def RegPlot(y_val,df,title='', file_name=''):\n",
    "    \n",
    "#     sns_plt = sns.regplot(x=metric_df.Images, y=y_val, data=df).set_title(title)\n",
    "#     sns_fig = sns_plt.get_figure()\n",
    "#     sns_fig.savefig(f\"./pneumonia/regression/{file_name}.png\")"
   ]
  },
  {
   "cell_type": "code",
   "execution_count": 131,
   "id": "eligible-elements",
   "metadata": {
    "execution": {
     "iopub.execute_input": "2021-08-21T07:32:27.905887Z",
     "iopub.status.busy": "2021-08-21T07:32:27.904910Z",
     "iopub.status.idle": "2021-08-21T07:32:27.908460Z",
     "shell.execute_reply": "2021-08-21T07:32:27.909041Z"
    },
    "papermill": {
     "duration": 0.130253,
     "end_time": "2021-08-21T07:32:27.909204",
     "exception": false,
     "start_time": "2021-08-21T07:32:27.778951",
     "status": "completed"
    },
    "tags": []
   },
   "outputs": [],
   "source": [
    "# getScatterPlot(metric_df_pneumonia.MAE, metric_df_pneumonia, 'Mean Absolute Error', 'mae_scatter')"
   ]
  },
  {
   "cell_type": "code",
   "execution_count": 132,
   "id": "recreational-cornell",
   "metadata": {
    "execution": {
     "iopub.execute_input": "2021-08-21T07:32:28.160002Z",
     "iopub.status.busy": "2021-08-21T07:32:28.159114Z",
     "iopub.status.idle": "2021-08-21T07:32:28.162362Z",
     "shell.execute_reply": "2021-08-21T07:32:28.161743Z"
    },
    "papermill": {
     "duration": 0.130322,
     "end_time": "2021-08-21T07:32:28.162499",
     "exception": false,
     "start_time": "2021-08-21T07:32:28.032177",
     "status": "completed"
    },
    "tags": []
   },
   "outputs": [],
   "source": [
    "# getScatterPlot(metric_df_pneumonia.MPE, metric_df_pneumonia, title='Mean Percentage Error', file_name='mpe_scatter')"
   ]
  },
  {
   "cell_type": "code",
   "execution_count": 133,
   "id": "portuguese-tokyo",
   "metadata": {
    "execution": {
     "iopub.execute_input": "2021-08-21T07:32:28.421571Z",
     "iopub.status.busy": "2021-08-21T07:32:28.420892Z",
     "iopub.status.idle": "2021-08-21T07:32:28.423625Z",
     "shell.execute_reply": "2021-08-21T07:32:28.423134Z"
    },
    "papermill": {
     "duration": 0.133041,
     "end_time": "2021-08-21T07:32:28.423753",
     "exception": false,
     "start_time": "2021-08-21T07:32:28.290712",
     "status": "completed"
    },
    "tags": []
   },
   "outputs": [],
   "source": [
    "# getScatterPlot(metric_df_pneumonia.MSE, metric_df_pneumonia, title='Mean Square Error', file_name='mse_scatter')"
   ]
  },
  {
   "cell_type": "code",
   "execution_count": 134,
   "id": "stylish-variation",
   "metadata": {
    "execution": {
     "iopub.execute_input": "2021-08-21T07:32:28.676427Z",
     "iopub.status.busy": "2021-08-21T07:32:28.675763Z",
     "iopub.status.idle": "2021-08-21T07:32:28.678918Z",
     "shell.execute_reply": "2021-08-21T07:32:28.678390Z"
    },
    "papermill": {
     "duration": 0.130987,
     "end_time": "2021-08-21T07:32:28.679052",
     "exception": false,
     "start_time": "2021-08-21T07:32:28.548065",
     "status": "completed"
    },
    "tags": []
   },
   "outputs": [],
   "source": [
    "# getScatterPlot(metric_df_pneumonia.RMSE, metric_df_pneumonia, title='Root Mean Square Error', file_name='rmse_scatter')"
   ]
  },
  {
   "cell_type": "code",
   "execution_count": 135,
   "id": "basic-illustration",
   "metadata": {
    "execution": {
     "iopub.execute_input": "2021-08-21T07:32:28.932537Z",
     "iopub.status.busy": "2021-08-21T07:32:28.931898Z",
     "iopub.status.idle": "2021-08-21T07:32:28.934964Z",
     "shell.execute_reply": "2021-08-21T07:32:28.934451Z"
    },
    "papermill": {
     "duration": 0.131065,
     "end_time": "2021-08-21T07:32:28.935104",
     "exception": false,
     "start_time": "2021-08-21T07:32:28.804039",
     "status": "completed"
    },
    "tags": []
   },
   "outputs": [],
   "source": [
    "# getScatterPlot(metric_df_pneumonia.PSNR, metric_df_pneumonia, title='Peak Signal to Noise Ratio', file_name='psnr_scatter')"
   ]
  },
  {
   "cell_type": "code",
   "execution_count": 136,
   "id": "historical-unknown",
   "metadata": {
    "execution": {
     "iopub.execute_input": "2021-08-21T07:32:29.188897Z",
     "iopub.status.busy": "2021-08-21T07:32:29.188294Z",
     "iopub.status.idle": "2021-08-21T07:32:29.190629Z",
     "shell.execute_reply": "2021-08-21T07:32:29.191116Z"
    },
    "papermill": {
     "duration": 0.131526,
     "end_time": "2021-08-21T07:32:29.191288",
     "exception": false,
     "start_time": "2021-08-21T07:32:29.059762",
     "status": "completed"
    },
    "tags": []
   },
   "outputs": [],
   "source": [
    "# getScatterPlot(metric_df_pneumonia.SSIM, metric_df_pneumonia, title='Structure Similarity Index', file_name='ssim_scatter')"
   ]
  },
  {
   "cell_type": "code",
   "execution_count": 137,
   "id": "median-tract",
   "metadata": {
    "execution": {
     "iopub.execute_input": "2021-08-21T07:32:29.444938Z",
     "iopub.status.busy": "2021-08-21T07:32:29.444107Z",
     "iopub.status.idle": "2021-08-21T07:32:29.447918Z",
     "shell.execute_reply": "2021-08-21T07:32:29.447357Z"
    },
    "papermill": {
     "duration": 0.131197,
     "end_time": "2021-08-21T07:32:29.448047",
     "exception": false,
     "start_time": "2021-08-21T07:32:29.316850",
     "status": "completed"
    },
    "tags": []
   },
   "outputs": [],
   "source": [
    "# getScatterPlot(metric_df_pneumonia.MSSSIM, metric_df_pneumonia, title='Multi-Scale Structure Similarity Index', file_name='msssim_scatter')"
   ]
  },
  {
   "cell_type": "code",
   "execution_count": 138,
   "id": "spread-auckland",
   "metadata": {
    "execution": {
     "iopub.execute_input": "2021-08-21T07:32:29.700153Z",
     "iopub.status.busy": "2021-08-21T07:32:29.699550Z",
     "iopub.status.idle": "2021-08-21T07:32:29.702160Z",
     "shell.execute_reply": "2021-08-21T07:32:29.701725Z"
    },
    "papermill": {
     "duration": 0.129945,
     "end_time": "2021-08-21T07:32:29.702294",
     "exception": false,
     "start_time": "2021-08-21T07:32:29.572349",
     "status": "completed"
    },
    "tags": []
   },
   "outputs": [],
   "source": [
    "# getScatterPlot(metric_df_pneumonia.SCC, metric_df_pneumonia, title='Spatial Corelation Coefficient', file_name='scc_scatter')"
   ]
  },
  {
   "cell_type": "code",
   "execution_count": 139,
   "id": "proprietary-tract",
   "metadata": {
    "execution": {
     "iopub.execute_input": "2021-08-21T07:32:29.955294Z",
     "iopub.status.busy": "2021-08-21T07:32:29.954682Z",
     "iopub.status.idle": "2021-08-21T07:32:29.956305Z",
     "shell.execute_reply": "2021-08-21T07:32:29.956683Z"
    },
    "papermill": {
     "duration": 0.130324,
     "end_time": "2021-08-21T07:32:29.956859",
     "exception": false,
     "start_time": "2021-08-21T07:32:29.826535",
     "status": "completed"
    },
    "tags": []
   },
   "outputs": [],
   "source": [
    "# getScatterPlot(metric_df_pneumonia.VIFP, metric_df_pneumonia, title='Pixel Based Visual Information Fidelity', file_name='vifp_scatter')"
   ]
  },
  {
   "cell_type": "markdown",
   "id": "catholic-wagner",
   "metadata": {
    "papermill": {
     "duration": 0.124371,
     "end_time": "2021-08-21T07:32:30.207099",
     "exception": false,
     "start_time": "2021-08-21T07:32:30.082728",
     "status": "completed"
    },
    "tags": []
   },
   "source": [
    "### Regression Plot for MAE, MAPE, MSE, RMSE, PSNR, SSIM, MS-SSIM, SCC, and VIF-P"
   ]
  },
  {
   "cell_type": "code",
   "execution_count": 140,
   "id": "becoming-notification",
   "metadata": {
    "execution": {
     "iopub.execute_input": "2021-08-21T07:32:30.461956Z",
     "iopub.status.busy": "2021-08-21T07:32:30.461381Z",
     "iopub.status.idle": "2021-08-21T07:32:30.464400Z",
     "shell.execute_reply": "2021-08-21T07:32:30.464926Z"
    },
    "papermill": {
     "duration": 0.131806,
     "end_time": "2021-08-21T07:32:30.465085",
     "exception": false,
     "start_time": "2021-08-21T07:32:30.333279",
     "status": "completed"
    },
    "tags": []
   },
   "outputs": [],
   "source": [
    "# RegPlot(metric_df_pneumonia.MAE, metric_df_pneumonia, 'Mean Absolute Error', 'mae_scatter')"
   ]
  },
  {
   "cell_type": "code",
   "execution_count": 141,
   "id": "dying-enemy",
   "metadata": {
    "execution": {
     "iopub.execute_input": "2021-08-21T07:32:30.717811Z",
     "iopub.status.busy": "2021-08-21T07:32:30.717205Z",
     "iopub.status.idle": "2021-08-21T07:32:30.719034Z",
     "shell.execute_reply": "2021-08-21T07:32:30.719487Z"
    },
    "papermill": {
     "duration": 0.130173,
     "end_time": "2021-08-21T07:32:30.719646",
     "exception": false,
     "start_time": "2021-08-21T07:32:30.589473",
     "status": "completed"
    },
    "tags": []
   },
   "outputs": [],
   "source": [
    "# RegPlot(metric_df_pneumonia.MPE, metric_df_pneumonia, title='Mean Percentage Error', file_name='mpe_scatter')"
   ]
  },
  {
   "cell_type": "code",
   "execution_count": 142,
   "id": "engaged-tiffany",
   "metadata": {
    "execution": {
     "iopub.execute_input": "2021-08-21T07:32:30.975151Z",
     "iopub.status.busy": "2021-08-21T07:32:30.974154Z",
     "iopub.status.idle": "2021-08-21T07:32:30.976955Z",
     "shell.execute_reply": "2021-08-21T07:32:30.976475Z"
    },
    "papermill": {
     "duration": 0.131492,
     "end_time": "2021-08-21T07:32:30.977100",
     "exception": false,
     "start_time": "2021-08-21T07:32:30.845608",
     "status": "completed"
    },
    "tags": []
   },
   "outputs": [],
   "source": [
    "# RegPlot(metric_df_pneumonia.MSE, metric_df_pneumonia, title='Mean Square Error', file_name='mse_scatter')"
   ]
  },
  {
   "cell_type": "code",
   "execution_count": 143,
   "id": "unlikely-michigan",
   "metadata": {
    "execution": {
     "iopub.execute_input": "2021-08-21T07:32:31.233744Z",
     "iopub.status.busy": "2021-08-21T07:32:31.232758Z",
     "iopub.status.idle": "2021-08-21T07:32:31.235097Z",
     "shell.execute_reply": "2021-08-21T07:32:31.235489Z"
    },
    "papermill": {
     "duration": 0.130983,
     "end_time": "2021-08-21T07:32:31.235660",
     "exception": false,
     "start_time": "2021-08-21T07:32:31.104677",
     "status": "completed"
    },
    "tags": []
   },
   "outputs": [],
   "source": [
    "# RegPlot(metric_df_pneumonia.RMSE, metric_df_pneumonia, title='Root Mean Square Error', file_name='rmse_scatter')"
   ]
  },
  {
   "cell_type": "code",
   "execution_count": 144,
   "id": "appropriate-investing",
   "metadata": {
    "execution": {
     "iopub.execute_input": "2021-08-21T07:32:31.488470Z",
     "iopub.status.busy": "2021-08-21T07:32:31.487921Z",
     "iopub.status.idle": "2021-08-21T07:32:31.491930Z",
     "shell.execute_reply": "2021-08-21T07:32:31.492320Z"
    },
    "papermill": {
     "duration": 0.131435,
     "end_time": "2021-08-21T07:32:31.492476",
     "exception": false,
     "start_time": "2021-08-21T07:32:31.361041",
     "status": "completed"
    },
    "tags": []
   },
   "outputs": [],
   "source": [
    "# RegPlot(metric_df_pneumonia.PSNR, metric_df_pneumonia, title='Peak Signal to Noise Ratio', file_name='psnr_scatter')"
   ]
  },
  {
   "cell_type": "code",
   "execution_count": 145,
   "id": "thousand-scanning",
   "metadata": {
    "execution": {
     "iopub.execute_input": "2021-08-21T07:32:31.768969Z",
     "iopub.status.busy": "2021-08-21T07:32:31.768309Z",
     "iopub.status.idle": "2021-08-21T07:32:31.772342Z",
     "shell.execute_reply": "2021-08-21T07:32:31.772925Z"
    },
    "papermill": {
     "duration": 0.155539,
     "end_time": "2021-08-21T07:32:31.773085",
     "exception": false,
     "start_time": "2021-08-21T07:32:31.617546",
     "status": "completed"
    },
    "tags": []
   },
   "outputs": [],
   "source": [
    "# RegPlot(metric_df_pneumonia.SSIM, metric_df_pneumonia, title='Structure Similarity Index', file_name='ssim_scatter')"
   ]
  },
  {
   "cell_type": "code",
   "execution_count": 146,
   "id": "durable-german",
   "metadata": {
    "execution": {
     "iopub.execute_input": "2021-08-21T07:32:32.056064Z",
     "iopub.status.busy": "2021-08-21T07:32:32.055460Z",
     "iopub.status.idle": "2021-08-21T07:32:32.060115Z",
     "shell.execute_reply": "2021-08-21T07:32:32.059630Z"
    },
    "papermill": {
     "duration": 0.155636,
     "end_time": "2021-08-21T07:32:32.060250",
     "exception": false,
     "start_time": "2021-08-21T07:32:31.904614",
     "status": "completed"
    },
    "tags": []
   },
   "outputs": [],
   "source": [
    "# RegPlot(metric_df_pneumonia.MSSSIM, metric_df_pneumonia, title='Multi-Scale Structure Similarity Index', file_name='msssim_scatter')"
   ]
  },
  {
   "cell_type": "code",
   "execution_count": 147,
   "id": "wrapped-excellence",
   "metadata": {
    "execution": {
     "iopub.execute_input": "2021-08-21T07:32:32.324070Z",
     "iopub.status.busy": "2021-08-21T07:32:32.323447Z",
     "iopub.status.idle": "2021-08-21T07:32:32.325620Z",
     "shell.execute_reply": "2021-08-21T07:32:32.326514Z"
    },
    "papermill": {
     "duration": 0.141665,
     "end_time": "2021-08-21T07:32:32.326677",
     "exception": false,
     "start_time": "2021-08-21T07:32:32.185012",
     "status": "completed"
    },
    "tags": []
   },
   "outputs": [],
   "source": [
    "# RegPlot(metric_df_pneumonia.SCC, metric_df_pneumonia, title='Spatial Corelation Coefficient', file_name='scc_scatter')"
   ]
  },
  {
   "cell_type": "code",
   "execution_count": 148,
   "id": "burning-season",
   "metadata": {
    "execution": {
     "iopub.execute_input": "2021-08-21T07:32:32.583050Z",
     "iopub.status.busy": "2021-08-21T07:32:32.582461Z",
     "iopub.status.idle": "2021-08-21T07:32:32.585175Z",
     "shell.execute_reply": "2021-08-21T07:32:32.584520Z"
    },
    "papermill": {
     "duration": 0.13188,
     "end_time": "2021-08-21T07:32:32.585307",
     "exception": false,
     "start_time": "2021-08-21T07:32:32.453427",
     "status": "completed"
    },
    "tags": []
   },
   "outputs": [],
   "source": [
    "# RegPlot(metric_df_pneumonia.VIFP, metric_df_pneumonia, title='Pixel Based Visual Information Fidelity', file_name='vifp_scatter')"
   ]
  },
  {
   "cell_type": "code",
   "execution_count": 149,
   "id": "peaceful-analysis",
   "metadata": {
    "execution": {
     "iopub.execute_input": "2021-08-21T07:32:32.874447Z",
     "iopub.status.busy": "2021-08-21T07:32:32.873885Z",
     "iopub.status.idle": "2021-08-21T07:32:32.876204Z",
     "shell.execute_reply": "2021-08-21T07:32:32.875580Z"
    },
    "papermill": {
     "duration": 0.131537,
     "end_time": "2021-08-21T07:32:32.876335",
     "exception": false,
     "start_time": "2021-08-21T07:32:32.744798",
     "status": "completed"
    },
    "tags": []
   },
   "outputs": [],
   "source": [
    "# %%!\n",
    "\n",
    "# zip -r normal.zip ./normal"
   ]
  },
  {
   "cell_type": "code",
   "execution_count": 150,
   "id": "deluxe-mediterranean",
   "metadata": {
    "execution": {
     "iopub.execute_input": "2021-08-21T07:32:33.132673Z",
     "iopub.status.busy": "2021-08-21T07:32:33.132081Z",
     "iopub.status.idle": "2021-08-21T07:32:33.133849Z",
     "shell.execute_reply": "2021-08-21T07:32:33.134234Z"
    },
    "papermill": {
     "duration": 0.132643,
     "end_time": "2021-08-21T07:32:33.134391",
     "exception": false,
     "start_time": "2021-08-21T07:32:33.001748",
     "status": "completed"
    },
    "tags": []
   },
   "outputs": [],
   "source": [
    "# %%!\n",
    "\n",
    "# zip -r pneumonia.zip ./pneumonia"
   ]
  },
  {
   "cell_type": "code",
   "execution_count": null,
   "id": "painful-financing",
   "metadata": {
    "papermill": {
     "duration": 0.124993,
     "end_time": "2021-08-21T07:32:33.385896",
     "exception": false,
     "start_time": "2021-08-21T07:32:33.260903",
     "status": "completed"
    },
    "tags": []
   },
   "outputs": [],
   "source": []
  }
 ],
 "metadata": {
  "kernelspec": {
   "display_name": "Python 3",
   "language": "python",
   "name": "python3"
  },
  "language_info": {
   "codemirror_mode": {
    "name": "ipython",
    "version": 3
   },
   "file_extension": ".py",
   "mimetype": "text/x-python",
   "name": "python",
   "nbconvert_exporter": "python",
   "pygments_lexer": "ipython3",
   "version": "3.7.10"
  },
  "papermill": {
   "default_parameters": {},
   "duration": 88.279246,
   "end_time": "2021-08-21T07:32:35.260777",
   "environment_variables": {},
   "exception": null,
   "input_path": "__notebook__.ipynb",
   "output_path": "__notebook__.ipynb",
   "parameters": {},
   "start_time": "2021-08-21T07:31:06.981531",
   "version": "2.3.3"
  }
 },
 "nbformat": 4,
 "nbformat_minor": 5
}
