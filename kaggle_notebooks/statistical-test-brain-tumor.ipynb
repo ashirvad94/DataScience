{
 "cells": [
  {
   "cell_type": "code",
   "execution_count": 1,
   "id": "1b8fc617",
   "metadata": {
    "_cell_guid": "b1076dfc-b9ad-4769-8c92-a6c4dae69d19",
    "_uuid": "8f2839f25d086af736a60e9eeb907d3b93b6e0e5",
    "execution": {
     "iopub.execute_input": "2021-08-21T05:20:53.686078Z",
     "iopub.status.busy": "2021-08-21T05:20:53.684633Z",
     "iopub.status.idle": "2021-08-21T05:20:53.714428Z",
     "shell.execute_reply": "2021-08-21T05:20:53.715372Z"
    },
    "papermill": {
     "duration": 0.050744,
     "end_time": "2021-08-21T05:20:53.715763",
     "exception": false,
     "start_time": "2021-08-21T05:20:53.665019",
     "status": "completed"
    },
    "tags": []
   },
   "outputs": [
    {
     "name": "stdout",
     "output_type": "stream",
     "text": [
      "/kaggle/input/pickle-files/espcn_brain_pickle.pkl\n",
      "/kaggle/input/pickle-files/srcnn_brain_pickle.pkl\n",
      "/kaggle/input/pickle-files/espcn_tumor_pickle.pkl\n",
      "/kaggle/input/pickle-files/srcnn_tumor_pickle.pkl\n"
     ]
    }
   ],
   "source": [
    "# This Python 3 environment comes with many helpful analytics libraries installed\n",
    "# It is defined by the kaggle/python Docker image: https://github.com/kaggle/docker-python\n",
    "# For example, here's several helpful packages to load\n",
    "\n",
    "import numpy as np # linear algebra\n",
    "import pandas as pd # data processing, CSV file I/O (e.g. pd.read_csv)\n",
    "\n",
    "# Input data files are available in the read-only \"../input/\" directory\n",
    "# For example, running this (by clicking run or pressing Shift+Enter) will list all files under the input directory\n",
    "\n",
    "import os\n",
    "for dirname, _, filenames in os.walk('/kaggle/input'):\n",
    "    for filename in filenames:\n",
    "        print(os.path.join(dirname, filename))\n",
    "\n",
    "# You can write up to 20GB to the current directory (/kaggle/working/) that gets preserved as output when you create a version using \"Save & Run All\" \n",
    "# You can also write temporary files to /kaggle/temp/, but they won't be saved outside of the current session"
   ]
  },
  {
   "cell_type": "code",
   "execution_count": 2,
   "id": "b6a98b29",
   "metadata": {
    "execution": {
     "iopub.execute_input": "2021-08-21T05:20:53.746468Z",
     "iopub.status.busy": "2021-08-21T05:20:53.745792Z",
     "iopub.status.idle": "2021-08-21T05:20:54.653131Z",
     "shell.execute_reply": "2021-08-21T05:20:54.652490Z",
     "shell.execute_reply.started": "2021-08-21T05:14:56.713681Z"
    },
    "papermill": {
     "duration": 0.924549,
     "end_time": "2021-08-21T05:20:54.653278",
     "exception": false,
     "start_time": "2021-08-21T05:20:53.728729",
     "status": "completed"
    },
    "tags": []
   },
   "outputs": [],
   "source": [
    "import pickle\n",
    "import json\n",
    "from scipy.stats import mannwhitneyu"
   ]
  },
  {
   "cell_type": "code",
   "execution_count": 3,
   "id": "fd6d8e19",
   "metadata": {
    "execution": {
     "iopub.execute_input": "2021-08-21T05:20:54.684805Z",
     "iopub.status.busy": "2021-08-21T05:20:54.684053Z",
     "iopub.status.idle": "2021-08-21T05:20:54.712351Z",
     "shell.execute_reply": "2021-08-21T05:20:54.713076Z",
     "shell.execute_reply.started": "2021-08-21T05:15:00.022215Z"
    },
    "papermill": {
     "duration": 0.047562,
     "end_time": "2021-08-21T05:20:54.713276",
     "exception": false,
     "start_time": "2021-08-21T05:20:54.665714",
     "status": "completed"
    },
    "tags": []
   },
   "outputs": [],
   "source": [
    "with open('../input/pickle-files/espcn_brain_pickle.pkl', 'rb') as f:\n",
    "    espcn_brain_metric = pickle.load(f)\n",
    "\n",
    "with open('../input/pickle-files/espcn_tumor_pickle.pkl', 'rb') as f:\n",
    "    espcn_tumor_metric = pickle.load(f)\n",
    "\n",
    "with open('../input/pickle-files/srcnn_brain_pickle.pkl', 'rb') as f:\n",
    "    srcnn_brain_metric = pickle.load(f)\n",
    "\n",
    "with open('../input/pickle-files/srcnn_tumor_pickle.pkl', 'rb') as f:\n",
    "    srcnn_tumor_metric = pickle.load(f)"
   ]
  },
  {
   "cell_type": "code",
   "execution_count": 4,
   "id": "0202e811",
   "metadata": {
    "execution": {
     "iopub.execute_input": "2021-08-21T05:20:54.751829Z",
     "iopub.status.busy": "2021-08-21T05:20:54.750547Z",
     "iopub.status.idle": "2021-08-21T05:20:54.754395Z",
     "shell.execute_reply": "2021-08-21T05:20:54.755131Z",
     "shell.execute_reply.started": "2021-08-21T05:15:33.393765Z"
    },
    "papermill": {
     "duration": 0.027098,
     "end_time": "2021-08-21T05:20:54.755347",
     "exception": false,
     "start_time": "2021-08-21T05:20:54.728249",
     "status": "completed"
    },
    "tags": []
   },
   "outputs": [
    {
     "name": "stdout",
     "output_type": "stream",
     "text": [
      "dict_keys(['tumor', 'mannwhitneyu'])\n",
      "dict_keys(['brain', 'mannwhitneyu'])\n"
     ]
    }
   ],
   "source": [
    "print(srcnn_tumor_metric.keys())\n",
    "print(srcnn_brain_metric.keys())"
   ]
  },
  {
   "cell_type": "code",
   "execution_count": 5,
   "id": "2b527511",
   "metadata": {
    "execution": {
     "iopub.execute_input": "2021-08-21T05:20:54.787165Z",
     "iopub.status.busy": "2021-08-21T05:20:54.786149Z",
     "iopub.status.idle": "2021-08-21T05:20:54.806456Z",
     "shell.execute_reply": "2021-08-21T05:20:54.805740Z",
     "shell.execute_reply.started": "2021-08-21T05:16:04.008218Z"
    },
    "papermill": {
     "duration": 0.03826,
     "end_time": "2021-08-21T05:20:54.806712",
     "exception": false,
     "start_time": "2021-08-21T05:20:54.768452",
     "status": "completed"
    },
    "tags": []
   },
   "outputs": [
    {
     "name": "stdout",
     "output_type": "stream",
     "text": [
      "{'ssim': {'stat': 0.0, 'p_value': 5.126410035358968e-67}, 'mae': {'stat': 0.0, 'p_value': 5.126410035358968e-67}, 'mpe': {'stat': 0.0, 'p_value': 5.126410035358968e-67}, 'mse': {'stat': 0.0, 'p_value': 5.126410035358968e-67}, 'rmse': {'stat': 0.0, 'p_value': 5.126410035358968e-67}, 'psnr': {'stat': 0.0, 'p_value': 5.126410035358968e-67}, 'msssim': {'stat': 0.0, 'p_value': 7.503349207063605e-64}, 'scc': {'stat': 0.0, 'p_value': 4.2456794809352605e-67}, 'vifp': {'stat': 0.0, 'p_value': 2.7716760605347005e-62}}\n"
     ]
    }
   ],
   "source": [
    "espcn_brain_tumor_metric = {}\n",
    "espcn_brain_tumor_metric[\"brain\"] = espcn_brain_metric[\"brain\"]\n",
    "espcn_brain_tumor_metric[\"tumor\"] = espcn_tumor_metric[\"tumor\"]\n",
    "espcn_brain_tumor_metric[\"mannwhitneyu\"] = {}\n",
    "res = {}\n",
    "for k1, k2 in zip(espcn_brain_metric[\"brain\"].keys(),espcn_tumor_metric[\"tumor\"].keys()):\n",
    "    res[k1] = {}\n",
    "    res[k1][\"stat\"], res[k1][\"p_value\"] = mannwhitneyu(espcn_brain_metric[\"brain\"][k1], espcn_tumor_metric[\"tumor\"][k2])\n",
    "    espcn_brain_tumor_metric[\"mannwhitneyu\"] = res\n",
    "print(espcn_brain_tumor_metric[\"mannwhitneyu\"])  "
   ]
  },
  {
   "cell_type": "code",
   "execution_count": 6,
   "id": "91f0f0c0",
   "metadata": {
    "execution": {
     "iopub.execute_input": "2021-08-21T05:20:54.840691Z",
     "iopub.status.busy": "2021-08-21T05:20:54.839717Z",
     "iopub.status.idle": "2021-08-21T05:20:54.842393Z",
     "shell.execute_reply": "2021-08-21T05:20:54.842848Z",
     "shell.execute_reply.started": "2021-08-21T05:16:05.602669Z"
    },
    "papermill": {
     "duration": 0.021437,
     "end_time": "2021-08-21T05:20:54.843020",
     "exception": false,
     "start_time": "2021-08-21T05:20:54.821583",
     "status": "completed"
    },
    "tags": []
   },
   "outputs": [],
   "source": [
    "espcn_brain_tumor_metric[\"brain\"][\"mae\"] = espcn_brain_metric[\"brain\"][\"mae\"].tolist()"
   ]
  },
  {
   "cell_type": "code",
   "execution_count": 7,
   "id": "d706700f",
   "metadata": {
    "execution": {
     "iopub.execute_input": "2021-08-21T05:20:54.871375Z",
     "iopub.status.busy": "2021-08-21T05:20:54.870572Z",
     "iopub.status.idle": "2021-08-21T05:20:54.875431Z",
     "shell.execute_reply": "2021-08-21T05:20:54.875960Z",
     "shell.execute_reply.started": "2021-08-21T05:16:23.047952Z"
    },
    "papermill": {
     "duration": 0.020454,
     "end_time": "2021-08-21T05:20:54.876122",
     "exception": false,
     "start_time": "2021-08-21T05:20:54.855668",
     "status": "completed"
    },
    "tags": []
   },
   "outputs": [
    {
     "name": "stdout",
     "output_type": "stream",
     "text": [
      "dict_keys(['brain', 'tumor', 'mannwhitneyu'])\n"
     ]
    }
   ],
   "source": [
    "print(espcn_brain_tumor_metric.keys())"
   ]
  },
  {
   "cell_type": "code",
   "execution_count": 8,
   "id": "0b632e67",
   "metadata": {
    "execution": {
     "iopub.execute_input": "2021-08-21T05:20:54.906175Z",
     "iopub.status.busy": "2021-08-21T05:20:54.905155Z",
     "iopub.status.idle": "2021-08-21T05:20:54.934252Z",
     "shell.execute_reply": "2021-08-21T05:20:54.934766Z",
     "shell.execute_reply.started": "2021-08-21T05:16:27.546605Z"
    },
    "papermill": {
     "duration": 0.045931,
     "end_time": "2021-08-21T05:20:54.934949",
     "exception": false,
     "start_time": "2021-08-21T05:20:54.889018",
     "status": "completed"
    },
    "tags": []
   },
   "outputs": [],
   "source": [
    "with open('./espcn_brain_tumor_metric.pkl', 'wb') as f:\n",
    "    pickle.dump(espcn_brain_tumor_metric, f)\n",
    "with open('./espcn_brain_tumor_metric.json', 'w') as f:\n",
    "    json.dump(espcn_brain_tumor_metric, f)"
   ]
  },
  {
   "cell_type": "code",
   "execution_count": 9,
   "id": "239e4d61",
   "metadata": {
    "execution": {
     "iopub.execute_input": "2021-08-21T05:20:54.966047Z",
     "iopub.status.busy": "2021-08-21T05:20:54.965088Z",
     "iopub.status.idle": "2021-08-21T05:20:54.977867Z",
     "shell.execute_reply": "2021-08-21T05:20:54.978370Z",
     "shell.execute_reply.started": "2021-08-21T05:16:51.239260Z"
    },
    "papermill": {
     "duration": 0.030257,
     "end_time": "2021-08-21T05:20:54.978543",
     "exception": false,
     "start_time": "2021-08-21T05:20:54.948286",
     "status": "completed"
    },
    "tags": []
   },
   "outputs": [
    {
     "name": "stdout",
     "output_type": "stream",
     "text": [
      "{'ssim': {'stat': 0.0, 'p_value': 7.475420045441365e-67}, 'mae': {'stat': 0.0, 'p_value': 7.475420045441365e-67}, 'mpe': {'stat': 0.0, 'p_value': 7.475420045441365e-67}, 'mse': {'stat': 0.0, 'p_value': 7.475420045441365e-67}, 'rmse': {'stat': 0.0, 'p_value': 7.475420045441365e-67}, 'psnr': {'stat': 0.0, 'p_value': 7.475420045441365e-67}, 'msssim': {'stat': 0.0, 'p_value': 2.831958021763879e-63}, 'scc': {'stat': 0.0, 'p_value': 7.47168295462615e-67}, 'vifp': {'stat': 1690.0, 'p_value': 2.462077177983918e-50}}\n"
     ]
    }
   ],
   "source": [
    "srcnn_brain_tumor_metric = {}\n",
    "srcnn_brain_tumor_metric[\"brain\"] = srcnn_brain_metric[\"brain\"]\n",
    "srcnn_brain_tumor_metric[\"tumor\"] = srcnn_tumor_metric[\"tumor\"]\n",
    "srcnn_brain_tumor_metric[\"mannwhitneyu\"] = {}\n",
    "res = {}\n",
    "for k1, k2 in zip(srcnn_brain_metric[\"brain\"].keys(),srcnn_tumor_metric[\"tumor\"].keys()):\n",
    "    res[k1] = {}\n",
    "    res[k1][\"stat\"], res[k1][\"p_value\"] = mannwhitneyu(srcnn_brain_metric[\"brain\"][k1], srcnn_tumor_metric[\"tumor\"][k2])\n",
    "    srcnn_brain_tumor_metric[\"mannwhitneyu\"] = res\n",
    "print(srcnn_brain_tumor_metric[\"mannwhitneyu\"])  "
   ]
  },
  {
   "cell_type": "code",
   "execution_count": 10,
   "id": "21c4fab5",
   "metadata": {
    "execution": {
     "iopub.execute_input": "2021-08-21T05:20:55.009648Z",
     "iopub.status.busy": "2021-08-21T05:20:55.008607Z",
     "iopub.status.idle": "2021-08-21T05:20:55.013971Z",
     "shell.execute_reply": "2021-08-21T05:20:55.013376Z",
     "shell.execute_reply.started": "2021-08-21T05:16:53.326534Z"
    },
    "papermill": {
     "duration": 0.022385,
     "end_time": "2021-08-21T05:20:55.014109",
     "exception": false,
     "start_time": "2021-08-21T05:20:54.991724",
     "status": "completed"
    },
    "tags": []
   },
   "outputs": [],
   "source": [
    "srcnn_brain_tumor_metric[\"brain\"][\"mae\"] = srcnn_brain_metric[\"brain\"][\"mae\"].tolist()"
   ]
  },
  {
   "cell_type": "code",
   "execution_count": 11,
   "id": "4768bdd3",
   "metadata": {
    "execution": {
     "iopub.execute_input": "2021-08-21T05:20:55.046672Z",
     "iopub.status.busy": "2021-08-21T05:20:55.046029Z",
     "iopub.status.idle": "2021-08-21T05:20:55.048398Z",
     "shell.execute_reply": "2021-08-21T05:20:55.048868Z",
     "shell.execute_reply.started": "2021-08-21T05:17:08.405712Z"
    },
    "papermill": {
     "duration": 0.021345,
     "end_time": "2021-08-21T05:20:55.049027",
     "exception": false,
     "start_time": "2021-08-21T05:20:55.027682",
     "status": "completed"
    },
    "tags": []
   },
   "outputs": [
    {
     "name": "stdout",
     "output_type": "stream",
     "text": [
      "dict_keys(['brain', 'tumor', 'mannwhitneyu'])\n"
     ]
    }
   ],
   "source": [
    "print(srcnn_brain_tumor_metric.keys())"
   ]
  },
  {
   "cell_type": "code",
   "execution_count": 12,
   "id": "2007a25c",
   "metadata": {
    "execution": {
     "iopub.execute_input": "2021-08-21T05:20:55.080780Z",
     "iopub.status.busy": "2021-08-21T05:20:55.080110Z",
     "iopub.status.idle": "2021-08-21T05:20:55.109325Z",
     "shell.execute_reply": "2021-08-21T05:20:55.109852Z",
     "shell.execute_reply.started": "2021-08-21T05:17:21.988261Z"
    },
    "papermill": {
     "duration": 0.046861,
     "end_time": "2021-08-21T05:20:55.110036",
     "exception": false,
     "start_time": "2021-08-21T05:20:55.063175",
     "status": "completed"
    },
    "tags": []
   },
   "outputs": [],
   "source": [
    "with open('./srcnn_brain_tumor_metric.pkl', 'wb') as f:\n",
    "    pickle.dump(srcnn_brain_tumor_metric, f)\n",
    "with open('./srcnn_brain_tumor_metric.json', 'w') as f:\n",
    "    json.dump(srcnn_brain_tumor_metric, f)"
   ]
  },
  {
   "cell_type": "code",
   "execution_count": null,
   "id": "23f265be",
   "metadata": {
    "papermill": {
     "duration": 0.013933,
     "end_time": "2021-08-21T05:20:55.138420",
     "exception": false,
     "start_time": "2021-08-21T05:20:55.124487",
     "status": "completed"
    },
    "tags": []
   },
   "outputs": [],
   "source": []
  }
 ],
 "metadata": {
  "kernelspec": {
   "display_name": "Python 3",
   "language": "python",
   "name": "python3"
  },
  "language_info": {
   "codemirror_mode": {
    "name": "ipython",
    "version": 3
   },
   "file_extension": ".py",
   "mimetype": "text/x-python",
   "name": "python",
   "nbconvert_exporter": "python",
   "pygments_lexer": "ipython3",
   "version": "3.7.10"
  },
  "papermill": {
   "default_parameters": {},
   "duration": 10.857831,
   "end_time": "2021-08-21T05:20:55.964453",
   "environment_variables": {},
   "exception": null,
   "input_path": "__notebook__.ipynb",
   "output_path": "__notebook__.ipynb",
   "parameters": {},
   "start_time": "2021-08-21T05:20:45.106622",
   "version": "2.3.3"
  }
 },
 "nbformat": 4,
 "nbformat_minor": 5
}
